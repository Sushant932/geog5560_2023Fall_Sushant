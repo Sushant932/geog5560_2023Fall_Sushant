{
 "cells": [
  {
   "cell_type": "markdown",
   "metadata": {},
   "source": [
    "## **Calculating Ground Deformation Using Remote Sensing Data: A Python Project**\n",
    "* Author: Shushant Koirala"
   ]
  },
  {
   "cell_type": "markdown",
   "metadata": {},
   "source": [
    "**Abstract**\n",
    "\n",
    "The Python script focuses on automating the process of analyzing ground deformation using LiDAR data. This script utilizes various libraries, including tkinter for creating a user-friendly interface, arcpy for processing LiDAR data and calculating Digital Terrain Models (DTMs), rasterio for handling raster data, numpy for numerical calculations, matplotlib for visualization, and earthpy for geospatial data processing. The script's key functionalities involve enabling users to select pre-event and post-event data folders through a graphical interface. It then processes LAS files, computes the difference between pre-event and post-event DTMs to determine deformation, reclassifies deformation data into distinct ranges, and finally visualizes the results using color maps and scale bars. Additionally, it generates a comprehensive summary text file documenting the entire process. Its implementation is organized into six primary steps: GUI creation, DTM calculation, difference computation, reclassification, visualization, and summary creation. These steps ensure a systematic workflow, simplifying the process for users and enhancing efficiency. The benefits of employing this script include automation of manual tasks, thereby saving time and reducing human error. There are few manual inputs required as of now, which will be removed with the further enhancement of the code."
   ]
  },
  {
   "cell_type": "markdown",
   "metadata": {},
   "source": [
    "**Introduction:**\n",
    "\n",
    "In recent decades, land deformation has emerged as a critical threat, driven by diverse natural and human-induced environmental processes (Awasthi et al., 2022). This Python script is designed to calculate ground deformation displacement using remote sensing data. Ground deformation refers to the movement of the Earth's surface, which can be caused by a variety of factors, such as earthquakes, landslides, and mining activities. Remote sensing data, such as LiDAR, can be used to measure ground deformation by tracking changes in the Earth's surface over time (Okyay et al., 2019). The main objective of the project involves using remote sensing data to measure the change in position of the Earth's surface between two different points in time.The secondary objective focuses on creating a Python program that can be used to automate the process of calculating ground deformation displacement.The script is designed to allow users to easily adapt it to their specific needs.\n",
    "\n",
    "Compared to \"out-of-the-box\" tools in ArcGIS/QGIS, this Python script offers several advantages:\n",
    "\n",
    "1. The script can automate entire workflows, including data selection, processing, analysis, and visualization.\n",
    "2. The script automates repetitive tasks and optimizes processing steps, leading to faster results.\n",
    "3. The script allows for easy execution through a single interface, without requiring complex scripting knowledge."
   ]
  },
  {
   "cell_type": "markdown",
   "metadata": {},
   "source": [
    "**Study Area and Data**\n",
    "\n",
    "The temporal LiDAR dataset with the **.las** extension has been downloaded from the website (https://portal.opentopography.org/dataCatalog). The python script is independent of the study area. New Zeland and Japan, are two different study area used as test study area."
   ]
  },
  {
   "cell_type": "markdown",
   "metadata": {},
   "source": [
    "**Sample Data**\n",
    "\n",
    "The LiDAR data with **.las** extension for two study area, New Zeland and Japan, are used as the input data. "
   ]
  },
  {
   "cell_type": "markdown",
   "metadata": {},
   "source": [
    "**Project Design:**\n",
    "\n",
    "The script is divided into six main steps:\n",
    "\n",
    "1. Create Graphical User Interfaces (GUIs) to select input LiDAR data and output folder\n",
    "2. Calculate Digital Terrain Model (DTM) from LiDAR Data\n",
    "3. Calculate Differences between pre- and post-DTMs\n",
    "4. Reclassify the difference raster\n",
    "5. Visualize the reclassified raster\n",
    "6. Create Summary Report\n"
   ]
  },
  {
   "cell_type": "markdown",
   "metadata": {},
   "source": [
    "**Results and Discussion**\n",
    "\n",
    "**Step 1: Create Graphical User Interfaces (GUIs)**\n",
    "* Import `tkinter` module to select folders interactively.\n",
    "* Define function to select the folder location of Pre-Event Data and Post-Event Data, and location to save the output."
   ]
  },
  {
   "cell_type": "code",
   "execution_count": null,
   "metadata": {},
   "outputs": [],
   "source": [
    "try:\n",
    "    import tkinter as tk\n",
    "    from tkinter import filedialog\n",
    "    \n",
    "except:\n",
    "    !pip install tkinter\n",
    "    \n",
    "    import tkinter as tk\n",
    "    from tkinter import filedialog"
   ]
  },
  {
   "cell_type": "code",
   "execution_count": null,
   "metadata": {},
   "outputs": [],
   "source": [
    "def select_folder(message):\n",
    "    root = tk.Tk()\n",
    "    root.withdraw()\n",
    "    folder_selected = filedialog.askdirectory(title=message)\n",
    "    return folder_selected"
   ]
  },
  {
   "cell_type": "code",
   "execution_count": null,
   "metadata": {},
   "outputs": [],
   "source": [
    "pre_event_files = select_folder(\"Select Pre-Event Data Folder\")\n",
    "post_event_files = select_folder(\"Select Post-Event Data Folder\")\n",
    "output_folder = select_folder(\"Select Output Folder to Save Processed Data\")"
   ]
  },
  {
   "cell_type": "markdown",
   "metadata": {},
   "source": [
    "**Step 2: Calculate Digital Terrain Model (DTM)**\n",
    "* Import `arcpy` and `os` module\n",
    "* Define class to Process LiDAR Data\n",
    "* Calculate DTM\n",
    "\n",
    "    *Note: It is necessary to add ArcGIS 'arcpy' path in the environment variable.*"
   ]
  },
  {
   "cell_type": "code",
   "execution_count": null,
   "metadata": {},
   "outputs": [],
   "source": [
    "try:\n",
    "    import arcpy\n",
    "    import os\n",
    "    from arcpy.sa import *\n",
    "    \n",
    "except:\n",
    "    !pip install os\n",
    "    \n",
    "    import arcpy\n",
    "    import os\n",
    "    from arcpy.sa import *"
   ]
  },
  {
   "cell_type": "code",
   "execution_count": null,
   "metadata": {},
   "outputs": [],
   "source": [
    "class LASProcessor:\n",
    "    def __init__(self, input_folder, output_folder):\n",
    "        self.input_folder = input_folder\n",
    "        self.output_folder = output_folder\n",
    "        self.output_files = []  # List to store processed files\n",
    "\n",
    "    def process_las_files(self, output_prefix, is_pre_event):\n",
    "        arcpy.env.overwriteOutput = True\n",
    "        os.chdir(self.output_folder)\n",
    "\n",
    "        for item in os.listdir(self.input_folder):\n",
    "            if item.endswith(\".las\"):\n",
    "                las_layer = os.path.join(self.output_folder, item[:-4] + \" Layer\")\n",
    "                processed_file = self.process_event_data(os.path.join(self.input_folder, item), las_layer, output_prefix, is_pre_event)\n",
    "                if processed_file:\n",
    "                    self.output_files.append(processed_file)\n",
    "\n",
    "        return self.output_files  # Return the list of processed files\n",
    "\n",
    "    def process_event_data(self, input_path, output_layer, output_prefix, is_pre_event):\n",
    "        arcpy.management.MakeLasDatasetLayer(input_path, output_layer, class_code=[2, 6])\n",
    "        outRaster_DTM = os.path.join(self.output_folder, output_prefix + \"_DTM\" + \".tif\")\n",
    "        DSM = arcpy.conversion.LasDatasetToRaster(output_layer, outRaster_DTM, 'ELEVATION',\n",
    "                                                  'BINNING AVERAGE NATURAL_NEIGHBOR', 'FLOAT', 'CELLSIZE', 1, 1)\n",
    "\n",
    "        return outRaster_DTM"
   ]
  },
  {
   "cell_type": "markdown",
   "metadata": {},
   "source": [
    "**Step 3: Calculate Difference**\n",
    "* Define function to calculate the difference between pre-event and post-event DTMs"
   ]
  },
  {
   "cell_type": "code",
   "execution_count": null,
   "metadata": {},
   "outputs": [],
   "source": [
    "def calculate_difference(pre_event_file, post_event_file, output_folder):\n",
    "    # Load pre-event and post-event rasters\n",
    "    pre_event_raster = Raster(pre_event_file)\n",
    "    post_event_raster = Raster(post_event_file)\n",
    "\n",
    "    # Calculate the difference (post_event_DTM - pre_event_DTM)\n",
    "    difference_raster = post_event_raster - pre_event_raster\n",
    "\n",
    "    # Save the difference raster\n",
    "    output_difference = os.path.join(output_folder, \"deformation.tif\")\n",
    "    difference_raster.save(output_difference)\n",
    "\n",
    "    return output_difference"
   ]
  },
  {
   "cell_type": "code",
   "execution_count": null,
   "metadata": {},
   "outputs": [],
   "source": [
    "# Instantiate the LASProcessor class for pre-event and process LAS files with output prefixes\n",
    "pre_event_DTM = LASProcessor(pre_event_files, output_folder).process_las_files(\"pre_event\", is_pre_event=True)\n",
    "\n",
    "# Instantiate the LASProcessor class for post-event and process LAS files with output prefixes\n",
    "post_event_DTM = LASProcessor(post_event_files, output_folder).process_las_files(\"post_event\", is_pre_event=False)\n",
    "\n",
    "# Calculate the difference between post-event DSM and pre-event DTM\n",
    "if pre_event_DTM and post_event_DTM:\n",
    "    output_difference = calculate_difference(pre_event_DTM[-1], post_event_DTM[-1], output_folder)\n",
    "    print(f\"Difference saved at: {output_difference}\")\n",
    "\n",
    "else:\n",
    "    print(\"No processed files found.\")"
   ]
  },
  {
   "cell_type": "markdown",
   "metadata": {},
   "source": [
    "**Step 4: Calculate Maximum and Minimum Value**\n",
    "* Install and Import `rasterio` and `numpy` module"
   ]
  },
  {
   "cell_type": "code",
   "execution_count": null,
   "metadata": {},
   "outputs": [],
   "source": [
    "try:\n",
    "    import rasterio as rio\n",
    "    import numpy as np\n",
    "        \n",
    "except:\n",
    "    !pip install rasterio\n",
    "    !pip install numpy\n",
    "\n",
    "    import rasterio as rio\n",
    "    import numpy as np\n",
    "    "
   ]
  },
  {
   "cell_type": "code",
   "execution_count": null,
   "metadata": {},
   "outputs": [],
   "source": [
    "with rio.open(output_difference) as src:\n",
    "    arr = src.read(1)\n",
    "    \n",
    "    min_value = np.nanmin(arr)\n",
    "    max_value = np.nanmax(arr)\n",
    "\n",
    "    print(min_value)\n",
    "    print(max_value)"
   ]
  },
  {
   "cell_type": "markdown",
   "metadata": {},
   "source": [
    "* Define Lower and Upper Bound value"
   ]
  },
  {
   "cell_type": "code",
   "execution_count": null,
   "metadata": {},
   "outputs": [],
   "source": [
    "#Assign the range of lower and upper bound depending upon the study area requirement. \n",
    "range_lowerbound = -0.05\n",
    "range_upperbound = 0.05"
   ]
  },
  {
   "cell_type": "markdown",
   "metadata": {},
   "source": [
    "**Step4: Reclassify**\n",
    "* Reclass the difference raster based on lower and upper range"
   ]
  },
  {
   "cell_type": "code",
   "execution_count": null,
   "metadata": {},
   "outputs": [],
   "source": [
    "outReclass3 = Reclassify(output_difference, \"Value\", \n",
    "                         RemapRange([[min_value,range_lowerbound,1],[range_lowerbound,range_upperbound,2],[range_upperbound,max_value,3]]), \"NODATA\")\n",
    "#Save the reclass file and also make sure to change the output folder location to your desired location.\n",
    "reclass_file = r\"D:\\UNT\\1. First Semester\\GEOG 5560 - Python\\Project\\Study Area\\Central Otago, Otago, New Zealand\\3. Outputs\\reclass.tif\"\n",
    "outReclass3.save(reclass_file)\n"
   ]
  },
  {
   "cell_type": "markdown",
   "metadata": {},
   "source": [
    "**Step 5: Visualize reclassed raster**\n",
    "* Install and Import `matplotlib` and `earthpy`"
   ]
  },
  {
   "cell_type": "code",
   "execution_count": null,
   "metadata": {},
   "outputs": [],
   "source": [
    "try:\n",
    "    import matplotlib.pyplot as plt\n",
    "    import earthpy.plot as ep\n",
    "    from matplotlib.colors import ListedColormap\n",
    "    from matplotlib.patches import Patch\n",
    "    from matplotlib_scalebar.scalebar import ScaleBar\n",
    "        \n",
    "except:\n",
    "    !pip install matplotlib\n",
    "    !pip install earthpy\n",
    "    !pip install matplotlib_scalebar\n",
    "\n",
    "    import matplotlib.pyplot as plt\n",
    "    import earthpy.plot as ep\n",
    "    from matplotlib.colors import ListedColormap\n",
    "    from matplotlib.patches import Patch\n",
    "    from matplotlib_scalebar.scalebar import ScaleBar\n",
    "\n"
   ]
  },
  {
   "cell_type": "code",
   "execution_count": null,
   "metadata": {},
   "outputs": [],
   "source": [
    "with rio.open(reclass_file) as src:\n",
    "    arr = src.read(1)\n",
    "    bounds = src.bounds\n",
    "\n",
    "    #Define Colors for different classes\n",
    "    colors = ['#ffffff', '#F5F500', '#750288', '#F50000']\n",
    "\n",
    "    cmap = ListedColormap(colors)\n",
    "\n",
    "    f, ax = plt.subplots(figsize=(10, 12))\n",
    "    im = ax.imshow(arr, cmap=cmap)\n",
    "    \n",
    "    #Define the labels for classified maps\n",
    "    legend_labels = [\"<-0.05\", \"-0.05 to 0.05\", \">0.05\"]\n",
    "    legend_patches = [Patch(color=color, label=label) for color, label in zip(colors[1:], legend_labels)]\n",
    "\n",
    "    #Define Legent Title\n",
    "    legend_title = \"Deformation (m)\"\n",
    "    legend = ax.legend(handles=legend_patches, bbox_to_anchor=(1, 1), loc='upper left', title=legend_title)\n",
    "\n",
    "    #Add Northarrow\n",
    "    x, y, arrow_length = 0.99, 0.99, 0.075\n",
    "    ax.annotate('N', xy=(x, y), xytext=(x, y-arrow_length),\n",
    "    arrowprops=dict(facecolor='black', width=1, headwidth=10),\n",
    "    ha='center', va='center', fontsize=10,\n",
    "    xycoords=ax.transAxes)\n",
    "\n",
    "    #Add Scalebar\n",
    "    plt.setp(legend.get_title(), fontsize='12')\n",
    "    scalebar = ScaleBar(0.5, location='lower right')\n",
    "    ax.add_artist(scalebar)\n",
    "\n",
    "    plt.axis(\"off\")\n",
    "    plt.title(\"Ground Deformation using DTM\",fontsize=18)\n",
    "    plt.tight_layout()\n",
    "    plt.show()\n"
   ]
  },
  {
   "cell_type": "markdown",
   "metadata": {},
   "source": [
    "**Step 6: Create Summary**\n",
    "* Import `datetime`\n",
    "* Define function to create summary text file\n",
    "* Include details about 'LAS Data Processing', 'Deformation Calculation', and 'Deformation Reclassification'"
   ]
  },
  {
   "cell_type": "code",
   "execution_count": null,
   "metadata": {},
   "outputs": [],
   "source": [
    "try:\n",
    "    from datetime import datetime\n",
    "\n",
    "        \n",
    "except:\n",
    "    !pip install datetime\n",
    "    \n",
    "    from datetime import datetime"
   ]
  },
  {
   "cell_type": "code",
   "execution_count": null,
   "metadata": {},
   "outputs": [],
   "source": [
    "def create_summary_text(output_difference, reclass_file, min_value, max_value, start_time):\n",
    "    output_file = \"summary.txt\"\n",
    "    with open(output_file, \"w\") as file:\n",
    "        file.write(\"Summary of Processes\\n\")\n",
    "        file.write(\"--------------------\\n\\n\")\n",
    "\n",
    "        file.write(\"1. LAS Data Processing:\\n\")\n",
    "        file.write(f\"   - Pre-Event Data Folder: {pre_event_files}\\n\")\n",
    "        file.write(f\"   - Post-Event Data Folder: {post_event_files}\\n\")\n",
    "        file.write(f\"   - Output Folder for Processed Data: {output_folder}\\n\\n\")\n",
    "\n",
    "        file.write(\"2. Deformation Calculation:\\n\")\n",
    "        file.write(f\"   - Difference Raster Saved at: {output_difference}\\n\\n\")\n",
    "\n",
    "        file.write(\"3. Deformation Reclassification:\\n\")\n",
    "        file.write(f\"   - Reclassified File Saved at: {reclass_file}\\n\")\n",
    "        file.write(f\"   - Minimum Deformation Value: {min_value}\\n\")\n",
    "        file.write(f\"   - Maximum Deformation Value: {max_value}\\n\\n\")\n",
    "\n",
    "        end_time = datetime.now()\n",
    "        file.write(\"Summary Generated at: {}\\n\".format(end_time.strftime(\"%Y-%m-%d %H:%M:%S\")))\n",
    "\n",
    "# Get the start time\n",
    "start_time = datetime.now()\n",
    "\n",
    "create_summary_text(output_difference, reclass_file, min_value, max_value, start_time)"
   ]
  },
  {
   "cell_type": "markdown",
   "metadata": {},
   "source": [
    "**Conclusion:**\n",
    "\n",
    "The Python script for calculating ground deformation displacement is a valuable tool for researchers and professionals in the field of geospatial analysis. The developed program is designed to create an elevation model (DTM) autonomously. This Python-based program operates without reliance on specific study areas. The primary manual involvement in the project includes providing the reclass range and file name parameters for reclass.Further enhancements will be implemented to minimize manual input. A detailed analysis will be conducted to identify and comprehend patterns of change in Earth's surface. Additionally, efforts will be made to make the output more interactive, aiming to facilitate a more engaging and user-friendly experience."
   ]
  },
  {
   "cell_type": "markdown",
   "metadata": {},
   "source": [
    "**References:**\n",
    "\n",
    "Awasthi, S., Varade, D., Bhattacharjee, S., Singh, H., Shahab, S., &amp; Jain, K. (2022). Assessment of land deformation and the associated causes along a rapidly developing Himalayan foothill region using multi-temporal sentinel-1 sar datasets. Land, 11(11), 2009. https://doi.org/10.3390/land11112009 \n",
    "\n",
    "Okyay, U., Telling, J., Glennie, C. L., &amp; Dietrich, W. E. (2019). Airborne lidar change detection: An overview of Earth Sciences Applications. Earth-Science Reviews, 198, 102929. https://doi.org/10.1016/j.earscirev.2019.102929 "
   ]
  }
 ],
 "metadata": {
  "kernelspec": {
   "display_name": "Python 3",
   "language": "python",
   "name": "python3"
  },
  "language_info": {
   "codemirror_mode": {
    "name": "ipython",
    "version": 3
   },
   "file_extension": ".py",
   "mimetype": "text/x-python",
   "name": "python",
   "nbconvert_exporter": "python",
   "pygments_lexer": "ipython3",
   "version": "3.9.16"
  }
 },
 "nbformat": 4,
 "nbformat_minor": 2
}
