{
 "cells": [
  {
   "cell_type": "markdown",
   "id": "657e0604",
   "metadata": {
    "slideshow": {
     "slide_type": "slide"
    }
   },
   "source": [
    "# Introduction to Python for Open Source Geocomputation\n",
    "\n",
    "![python](pics/python-logo-master-v3-TM.png)\n",
    "\n",
    "* Instructor: Dr. Wei Kang\n",
    "\n",
    "Content:\n",
    "\n",
    "* [The Way of Program](#The-Way-of-Program)\n",
    "* Operators\n",
    "* Variables"
   ]
  },
  {
   "cell_type": "markdown",
   "id": "00c43c66",
   "metadata": {
    "slideshow": {
     "slide_type": "slide"
    }
   },
   "source": [
    "## The Way of Program\n",
    "\n",
    "Program for problem solving:\n",
    "\n",
    "* formulate problems\n",
    "* think creatively about solutions\n",
    "* express a solution clearly and accurately\n"
   ]
  },
  {
   "cell_type": "markdown",
   "id": "a7133de4",
   "metadata": {
    "slideshow": {
     "slide_type": "subslide"
    }
   },
   "source": [
    "## What is a program? - Computation\n",
    "\n",
    "A sequence of instructions that specifies how to perform a **computation**.\n",
    "\n",
    "Different types of computation:\n",
    "\n",
    "| Type      | Example (1) |Examples (2)  |\n",
    "| :----:  | :----:  |:----:  |\n",
    "| Mathematical      | Solving a system of equations       |Finding the roots of a polynomial|\n",
    "| Symbolic   | Searching and replacing text in a document   |processing an image or playing a video|\n"
   ]
  },
  {
   "cell_type": "markdown",
   "id": "f57ac2f8",
   "metadata": {
    "slideshow": {
     "slide_type": "subslide"
    }
   },
   "source": [
    "## What is a program? - Instructions\n",
    "\n",
    "| Instruction    | Function |\n",
    "| :----  | :----  |\n",
    "| input      | Get data from the keyboard, a file, the network, or some other device.   |\n",
    "| output   | Display data on the screen, save it in a file, send it over the network, etc. |\n",
    "|math/operation| Perform basic mathematical operations like addition and multiplication.|\n",
    "|conditional execution|Check for certain conditions and run the appropriate code.|\n",
    "|repetition| Perform some action repeatedly, usually with some variation.|\n",
    "\n",
    "**Divide and conquer!!!**"
   ]
  },
  {
   "cell_type": "markdown",
   "id": "3c0f95bf",
   "metadata": {
    "slideshow": {
     "slide_type": "subslide"
    }
   },
   "source": [
    "### Examples\n",
    "\n",
    "* [COVID-19 dashbord](https://coronavirus.jhu.edu/map.html) before it terminates\n",
    "    * input: real-time website data\n",
    "    * math/operation: data processing, statistical analysis, visualization\n",
    "    * output: summary numbers, statistical plots, maps\n",
    "    * conditional execution: highly relevant \n",
    "    * repetition: repeating same operations for each incoming data set (probably with some variation)\n",
    "    \n",
    " \n",
    "    "
   ]
  },
  {
   "cell_type": "code",
   "execution_count": 1,
   "id": "674b7ffc",
   "metadata": {
    "slideshow": {
     "slide_type": "fragment"
    }
   },
   "outputs": [
    {
     "name": "stdout",
     "output_type": "stream",
     "text": [
      "1\n"
     ]
    },
    {
     "data": {
      "text/plain": [
       "'1'"
      ]
     },
     "execution_count": 1,
     "metadata": {},
     "output_type": "execute_result"
    }
   ],
   "source": [
    "input()"
   ]
  },
  {
   "cell_type": "markdown",
   "id": "d1d7b5bc",
   "metadata": {
    "slideshow": {
     "slide_type": "slide"
    }
   },
   "source": [
    "## Problem 1 : Print \"Hello world!\"\n",
    "\n",
    "Think about the five basic instructions: input, output, math, conditional execution, repetition.\n",
    "\n",
    "For this problem: which instructions will we need?"
   ]
  },
  {
   "cell_type": "markdown",
   "id": "4b044232",
   "metadata": {
    "slideshow": {
     "slide_type": "fragment"
    }
   },
   "source": [
    "input, output"
   ]
  },
  {
   "cell_type": "code",
   "execution_count": 2,
   "id": "40719289",
   "metadata": {
    "slideshow": {
     "slide_type": "fragment"
    }
   },
   "outputs": [
    {
     "name": "stdout",
     "output_type": "stream",
     "text": [
      "Hello world!\n"
     ]
    }
   ],
   "source": [
    "print(\"Hello world!\")"
   ]
  },
  {
   "cell_type": "code",
   "execution_count": 3,
   "id": "a5e964bb",
   "metadata": {},
   "outputs": [],
   "source": [
    "?print"
   ]
  },
  {
   "cell_type": "markdown",
   "id": "b00e4b09",
   "metadata": {
    "slideshow": {
     "slide_type": "subslide"
    }
   },
   "source": [
    "### Analyze the program ```print(\"Hello world!\")```\n",
    "\n",
    "* A statement\n",
    "* ```print()```: function \n",
    "    * indicated by ```()```\n",
    "    * displays the value of the input (required `argument`) on the screen\n",
    "    * one of the many Python _built-in_ functions \n",
    "* ```\"Hello world!\"```: \n",
    "    * `string` data type\n",
    "    * input\n",
    "    * required argument: the string of characters it should print out for you"
   ]
  },
  {
   "cell_type": "code",
   "execution_count": 4,
   "id": "2b13633d",
   "metadata": {
    "slideshow": {
     "slide_type": "fragment"
    }
   },
   "outputs": [
    {
     "name": "stdout",
     "output_type": "stream",
     "text": [
      "1\n"
     ]
    }
   ],
   "source": [
    "print(1)"
   ]
  },
  {
   "cell_type": "markdown",
   "id": "d5d40818",
   "metadata": {
    "slideshow": {
     "slide_type": "subslide"
    }
   },
   "source": [
    "## Problem 2 : Print \"Hello world!\" three times\n",
    "\n",
    "Think about the five basic instructions: input, output, math, conditional execution, repetition.\n",
    "\n",
    "For this problem: which instructions will we need?"
   ]
  },
  {
   "cell_type": "markdown",
   "id": "7ff13f24",
   "metadata": {
    "slideshow": {
     "slide_type": "fragment"
    }
   },
   "source": [
    "input, output, repetition"
   ]
  },
  {
   "cell_type": "code",
   "execution_count": 5,
   "id": "6f68bfee",
   "metadata": {
    "slideshow": {
     "slide_type": "fragment"
    }
   },
   "outputs": [
    {
     "name": "stdout",
     "output_type": "stream",
     "text": [
      "Hello world!\n",
      "Hello world!\n",
      "Hello world!\n"
     ]
    }
   ],
   "source": [
    "for i in range(3):\n",
    "    print(\"Hello world!\")"
   ]
  },
  {
   "cell_type": "markdown",
   "id": "d53b360c",
   "metadata": {
    "slideshow": {
     "slide_type": "slide"
    }
   },
   "source": [
    "## Python as a calculator (Arithmetic operators)\n",
    "\n",
    "The symbols are what you would expect, except for the \"raise-to-the-power-of\" operator, which you obtain with two asterisks: `**`. Try all of these:\n",
    "\n",
    "```python\n",
    "+   -   *   /   **   %   //\n",
    "```\n",
    "\n",
    "The `%` symbol is the _modulo_ operator (divide and return the remainder), and the double-slash (//) is _floor division_.\n",
    "\n",
    "Operators: special symbols that represent computations like addition and multiplication"
   ]
  },
  {
   "cell_type": "code",
   "execution_count": 6,
   "id": "845864dc",
   "metadata": {
    "slideshow": {
     "slide_type": "fragment"
    }
   },
   "outputs": [
    {
     "data": {
      "text/plain": [
       "4"
      ]
     },
     "execution_count": 6,
     "metadata": {},
     "output_type": "execute_result"
    }
   ],
   "source": [
    "2 + 2"
   ]
  },
  {
   "cell_type": "code",
   "execution_count": 7,
   "id": "f714b05d",
   "metadata": {
    "slideshow": {
     "slide_type": "fragment"
    }
   },
   "outputs": [
    {
     "data": {
      "text/plain": [
       "4.9"
      ]
     },
     "execution_count": 7,
     "metadata": {},
     "output_type": "execute_result"
    }
   ],
   "source": [
    "1.25 + 3.65"
   ]
  },
  {
   "cell_type": "code",
   "execution_count": 8,
   "id": "b41dd1db",
   "metadata": {
    "slideshow": {
     "slide_type": "subslide"
    }
   },
   "outputs": [
    {
     "data": {
      "text/plain": [
       "2"
      ]
     },
     "execution_count": 8,
     "metadata": {},
     "output_type": "execute_result"
    }
   ],
   "source": [
    "5 - 3"
   ]
  },
  {
   "cell_type": "code",
   "execution_count": 9,
   "id": "c133e5a2",
   "metadata": {
    "slideshow": {
     "slide_type": "fragment"
    }
   },
   "outputs": [
    {
     "data": {
      "text/plain": [
       "8"
      ]
     },
     "execution_count": 9,
     "metadata": {},
     "output_type": "execute_result"
    }
   ],
   "source": [
    "2 * 4"
   ]
  },
  {
   "cell_type": "code",
   "execution_count": 10,
   "id": "3565e100",
   "metadata": {
    "slideshow": {
     "slide_type": "fragment"
    }
   },
   "outputs": [
    {
     "data": {
      "text/plain": [
       "3.5"
      ]
     },
     "execution_count": 10,
     "metadata": {},
     "output_type": "execute_result"
    }
   ],
   "source": [
    "7 / 2"
   ]
  },
  {
   "cell_type": "code",
   "execution_count": 11,
   "id": "e499ca4b",
   "metadata": {
    "slideshow": {
     "slide_type": "fragment"
    }
   },
   "outputs": [
    {
     "data": {
      "text/plain": [
       "8"
      ]
     },
     "execution_count": 11,
     "metadata": {},
     "output_type": "execute_result"
    }
   ],
   "source": [
    "2**3"
   ]
  },
  {
   "cell_type": "code",
   "execution_count": 12,
   "id": "4863b60f",
   "metadata": {},
   "outputs": [
    {
     "data": {
      "text/plain": [
       "8"
      ]
     },
     "execution_count": 12,
     "metadata": {},
     "output_type": "execute_result"
    }
   ],
   "source": [
    "2 * 2 *2"
   ]
  },
  {
   "cell_type": "code",
   "execution_count": 13,
   "id": "a8fe60c8",
   "metadata": {
    "slideshow": {
     "slide_type": "fragment"
    }
   },
   "outputs": [
    {
     "data": {
      "text/plain": [
       "1"
      ]
     },
     "execution_count": 13,
     "metadata": {},
     "output_type": "execute_result"
    }
   ],
   "source": [
    "5%2"
   ]
  },
  {
   "cell_type": "code",
   "execution_count": 14,
   "id": "c85025d6",
   "metadata": {
    "slideshow": {
     "slide_type": "fragment"
    }
   },
   "outputs": [
    {
     "data": {
      "text/plain": [
       "2"
      ]
     },
     "execution_count": 14,
     "metadata": {},
     "output_type": "execute_result"
    }
   ],
   "source": [
    "5//2"
   ]
  },
  {
   "cell_type": "code",
   "execution_count": 15,
   "id": "9e2b262a",
   "metadata": {},
   "outputs": [
    {
     "data": {
      "text/plain": [
       "2.5"
      ]
     },
     "execution_count": 15,
     "metadata": {},
     "output_type": "execute_result"
    }
   ],
   "source": [
    "5/2"
   ]
  },
  {
   "cell_type": "markdown",
   "id": "6273272b",
   "metadata": {
    "slideshow": {
     "slide_type": "subslide"
    }
   },
   "source": [
    "Let's see an interesting case:"
   ]
  },
  {
   "cell_type": "code",
   "execution_count": 16,
   "id": "44fbd1bf",
   "metadata": {
    "slideshow": {
     "slide_type": "fragment"
    }
   },
   "outputs": [
    {
     "data": {
      "text/plain": [
       "4.5"
      ]
     },
     "execution_count": 16,
     "metadata": {},
     "output_type": "execute_result"
    }
   ],
   "source": [
    "9**1/2 "
   ]
  },
  {
   "cell_type": "markdown",
   "id": "b51c0b4c",
   "metadata": {
    "slideshow": {
     "slide_type": "subslide"
    }
   },
   "source": [
    "### Discuss with your neighbor:\n",
    "_What happened?_ Isn't $9^{1/2} = 3$? (Raising to the power $1/2$ is the same as taking the square root.) Did Python get this wrong?"
   ]
  },
  {
   "cell_type": "markdown",
   "id": "2716796e",
   "metadata": {
    "slideshow": {
     "slide_type": "fragment"
    }
   },
   "source": [
    "Compare with this:"
   ]
  },
  {
   "cell_type": "code",
   "execution_count": 17,
   "id": "a1dcae58",
   "metadata": {},
   "outputs": [
    {
     "data": {
      "text/plain": [
       "3.0"
      ]
     },
     "execution_count": 17,
     "metadata": {},
     "output_type": "execute_result"
    }
   ],
   "source": [
    "9 ** 0.5"
   ]
  },
  {
   "cell_type": "code",
   "execution_count": 18,
   "id": "051f276a",
   "metadata": {
    "slideshow": {
     "slide_type": "fragment"
    }
   },
   "outputs": [
    {
     "data": {
      "text/plain": [
       "3.0"
      ]
     },
     "execution_count": 18,
     "metadata": {},
     "output_type": "execute_result"
    }
   ],
   "source": [
    "9**(1/2)"
   ]
  },
  {
   "cell_type": "code",
   "execution_count": 19,
   "id": "c35aa16d",
   "metadata": {},
   "outputs": [
    {
     "data": {
      "text/plain": [
       "4.0"
      ]
     },
     "execution_count": 19,
     "metadata": {},
     "output_type": "execute_result"
    }
   ],
   "source": [
    "8/2"
   ]
  },
  {
   "cell_type": "markdown",
   "id": "b32ecaa8",
   "metadata": {
    "slideshow": {
     "slide_type": "subslide"
    }
   },
   "source": [
    "Yes! The order of operations matters! \n",
    "\n",
    "|Order|Operation|\n",
    "|--|--|\n",
    "|1|Parentheses means brackets()|\n",
    "|2| Exponents (and Roots) means power|\n",
    "|3|Multiplication & Division|\n",
    "|4|Addition & Subtraction|\n"
   ]
  },
  {
   "cell_type": "markdown",
   "id": "aa9fef03",
   "metadata": {
    "slideshow": {
     "slide_type": "subslide"
    }
   },
   "source": [
    "### Another example of order of Arithmetic operations"
   ]
  },
  {
   "cell_type": "code",
   "execution_count": 20,
   "id": "5f3c7776",
   "metadata": {
    "slideshow": {
     "slide_type": "fragment"
    }
   },
   "outputs": [
    {
     "data": {
      "text/plain": [
       "4.5"
      ]
     },
     "execution_count": 20,
     "metadata": {},
     "output_type": "execute_result"
    }
   ],
   "source": [
    "3 + 3 / 2"
   ]
  },
  {
   "cell_type": "code",
   "execution_count": 21,
   "id": "6c95e34f",
   "metadata": {
    "slideshow": {
     "slide_type": "fragment"
    }
   },
   "outputs": [
    {
     "data": {
      "text/plain": [
       "3.0"
      ]
     },
     "execution_count": 21,
     "metadata": {},
     "output_type": "execute_result"
    }
   ],
   "source": [
    "(3 + 3) / 2"
   ]
  },
  {
   "cell_type": "code",
   "execution_count": 22,
   "id": "e808d12b",
   "metadata": {},
   "outputs": [
    {
     "data": {
      "text/plain": [
       "4.5"
      ]
     },
     "execution_count": 22,
     "metadata": {},
     "output_type": "execute_result"
    }
   ],
   "source": [
    "3 + (3 / 2)"
   ]
  },
  {
   "cell_type": "markdown",
   "id": "f95ff21d",
   "metadata": {
    "slideshow": {
     "slide_type": "subslide"
    }
   },
   "source": [
    "### Group Exercise:\n",
    "\n",
    "Discuss and work with your neighbor:\n",
    "\n",
    "Suppose the cover price of a book is \\\\$24.95, but bookstores get a 40\\% discount. Shipping costs \\\\$3 for the first copy and 75 cents for each additional copy. What is the total wholesale cost for 60 copies? \n",
    "\n",
    "> When you are done with your calculation, raise your hand."
   ]
  },
  {
   "cell_type": "code",
   "execution_count": 23,
   "id": "7b51d7c5",
   "metadata": {},
   "outputs": [
    {
     "data": {
      "text/plain": [
       "945.4499999999999"
      ]
     },
     "execution_count": 23,
     "metadata": {},
     "output_type": "execute_result"
    }
   ],
   "source": [
    "(24.95 * (1- 0.4) * 60) + (3 + 0.75 * (60-1))"
   ]
  },
  {
   "cell_type": "code",
   "execution_count": 24,
   "id": "75c522fb",
   "metadata": {},
   "outputs": [
    {
     "data": {
      "text/plain": [
       "1574.25"
      ]
     },
     "execution_count": 24,
     "metadata": {},
     "output_type": "execute_result"
    }
   ],
   "source": [
    "(24.95 * (1- 0.4) * 100) + (3 + 0.75 * (100-1))"
   ]
  },
  {
   "cell_type": "markdown",
   "id": "104733cd",
   "metadata": {
    "slideshow": {
     "slide_type": "subslide"
    }
   },
   "source": [
    "## Value and types\n",
    "\n",
    "A value is one of the basic things a program works with, like a letter or a number\n",
    "\n",
    "Each value has a type:\n",
    "\n",
    "* 60 is an integer, 24.95 is a float, \"Hello World\" is a string\n",
    "* we can use built-in function `type()` to check the type of a value"
   ]
  },
  {
   "cell_type": "code",
   "execution_count": 25,
   "id": "d26912e7",
   "metadata": {},
   "outputs": [
    {
     "data": {
      "text/plain": [
       "int"
      ]
     },
     "execution_count": 25,
     "metadata": {},
     "output_type": "execute_result"
    }
   ],
   "source": [
    "type(60)"
   ]
  },
  {
   "cell_type": "code",
   "execution_count": 26,
   "id": "78253f77",
   "metadata": {},
   "outputs": [
    {
     "data": {
      "text/plain": [
       "float"
      ]
     },
     "execution_count": 26,
     "metadata": {},
     "output_type": "execute_result"
    }
   ],
   "source": [
    "type(24.95)"
   ]
  },
  {
   "cell_type": "code",
   "execution_count": 27,
   "id": "e481846b",
   "metadata": {},
   "outputs": [
    {
     "data": {
      "text/plain": [
       "str"
      ]
     },
     "execution_count": 27,
     "metadata": {},
     "output_type": "execute_result"
    }
   ],
   "source": [
    "type(\"Hello World\")"
   ]
  },
  {
   "cell_type": "markdown",
   "id": "090d34cc",
   "metadata": {
    "slideshow": {
     "slide_type": "slide"
    }
   },
   "source": [
    "## Variables\n",
    "\n",
    "Two parts in a variable: **Name** and **Value**.\n",
    "\n",
    "* Name: state\n",
    "* Value: \"Texas\", 48, \"48\"\n"
   ]
  },
  {
   "cell_type": "markdown",
   "id": "25f4025b",
   "metadata": {
    "slideshow": {
     "slide_type": "subslide"
    }
   },
   "source": [
    "### Creating a variable: **Assignment Statement**\n",
    "* Use the equal sign `name = value`\n",
    "* The name of the variable goes on the left and the value on the right. \n",
    "* Think of it as an arrow pointing from `name` to `value`.\n",
    "\n",
    "<img src=\"pics/variables.png\" style=\"width: 500px;\"/> \n",
    "\n",
    "\n",
    "We do not need to declare the type of a newly defined variable (makes the program more succinct than C/C++), python will infer the type based on the value."
   ]
  },
  {
   "cell_type": "code",
   "execution_count": 28,
   "id": "cd406716",
   "metadata": {
    "slideshow": {
     "slide_type": "fragment"
    }
   },
   "outputs": [
    {
     "name": "stdout",
     "output_type": "stream",
     "text": [
      "Texas\n"
     ]
    }
   ],
   "source": [
    "state = \"Texas\"\n",
    "print(state)"
   ]
  },
  {
   "cell_type": "code",
   "execution_count": 29,
   "id": "5bfe45e5",
   "metadata": {},
   "outputs": [
    {
     "data": {
      "text/plain": [
       "str"
      ]
     },
     "execution_count": 29,
     "metadata": {},
     "output_type": "execute_result"
    }
   ],
   "source": [
    "type(state)"
   ]
  },
  {
   "cell_type": "markdown",
   "id": "827af080",
   "metadata": {
    "slideshow": {
     "slide_type": "subslide"
    }
   },
   "source": [
    "### Updating a variable: **Assignment Statement**\n",
    "\n",
    "* Use the equal sign `name = value`"
   ]
  },
  {
   "cell_type": "code",
   "execution_count": 30,
   "id": "a6ff9533",
   "metadata": {
    "slideshow": {
     "slide_type": "fragment"
    }
   },
   "outputs": [
    {
     "name": "stdout",
     "output_type": "stream",
     "text": [
      "48\n"
     ]
    }
   ],
   "source": [
    "state = 48\n",
    "print(state)"
   ]
  },
  {
   "cell_type": "code",
   "execution_count": 31,
   "id": "fb88c9a4",
   "metadata": {},
   "outputs": [
    {
     "data": {
      "text/plain": [
       "int"
      ]
     },
     "execution_count": 31,
     "metadata": {},
     "output_type": "execute_result"
    }
   ],
   "source": [
    "type(state)"
   ]
  },
  {
   "cell_type": "markdown",
   "id": "3faecdb0",
   "metadata": {
    "slideshow": {
     "slide_type": "subslide"
    }
   },
   "source": [
    "### Rules of Variable Names\n",
    "* Leading character:\n",
    "    * Must be a letter or the underscore character\n",
    "    * Cannot be a number"
   ]
  },
  {
   "cell_type": "code",
   "execution_count": 32,
   "id": "48ec63ab",
   "metadata": {
    "slideshow": {
     "slide_type": "fragment"
    }
   },
   "outputs": [],
   "source": [
    "_state = 48"
   ]
  },
  {
   "cell_type": "code",
   "execution_count": 33,
   "id": "3c6d07c1",
   "metadata": {},
   "outputs": [
    {
     "ename": "SyntaxError",
     "evalue": "invalid syntax (3927349684.py, line 1)",
     "output_type": "error",
     "traceback": [
      "\u001b[0;36m  Cell \u001b[0;32mIn[33], line 1\u001b[0;36m\u001b[0m\n\u001b[0;31m    $state = 48\u001b[0m\n\u001b[0m    ^\u001b[0m\n\u001b[0;31mSyntaxError\u001b[0m\u001b[0;31m:\u001b[0m invalid syntax\n"
     ]
    }
   ],
   "source": [
    "$state = 48"
   ]
  },
  {
   "cell_type": "code",
   "execution_count": 34,
   "id": "9bb3c3cd",
   "metadata": {
    "slideshow": {
     "slide_type": "fragment"
    }
   },
   "outputs": [
    {
     "ename": "SyntaxError",
     "evalue": "invalid syntax (1752543828.py, line 1)",
     "output_type": "error",
     "traceback": [
      "\u001b[0;36m  Cell \u001b[0;32mIn[34], line 1\u001b[0;36m\u001b[0m\n\u001b[0;31m    4state = 48\u001b[0m\n\u001b[0m     ^\u001b[0m\n\u001b[0;31mSyntaxError\u001b[0m\u001b[0;31m:\u001b[0m invalid syntax\n"
     ]
    }
   ],
   "source": [
    "4state = 48"
   ]
  },
  {
   "cell_type": "markdown",
   "id": "bf497f1c",
   "metadata": {
    "slideshow": {
     "slide_type": "subslide"
    }
   },
   "source": [
    "* can only contain alpha-numeric characters and underscores (A-z, 0-9, and _ )"
   ]
  },
  {
   "cell_type": "code",
   "execution_count": 35,
   "id": "d6c28ab9",
   "metadata": {
    "slideshow": {
     "slide_type": "fragment"
    }
   },
   "outputs": [],
   "source": [
    "state_id = 48"
   ]
  },
  {
   "cell_type": "code",
   "execution_count": 36,
   "id": "b7b9831b",
   "metadata": {},
   "outputs": [
    {
     "ename": "SyntaxError",
     "evalue": "cannot assign to operator (3220935798.py, line 1)",
     "output_type": "error",
     "traceback": [
      "\u001b[0;36m  Cell \u001b[0;32mIn[36], line 1\u001b[0;36m\u001b[0m\n\u001b[0;31m    state&id = 48\u001b[0m\n\u001b[0m    ^\u001b[0m\n\u001b[0;31mSyntaxError\u001b[0m\u001b[0;31m:\u001b[0m cannot assign to operator\n"
     ]
    }
   ],
   "source": [
    "state&id = 48"
   ]
  },
  {
   "cell_type": "markdown",
   "id": "5430bbf8",
   "metadata": {
    "slideshow": {
     "slide_type": "subslide"
    }
   },
   "source": [
    "* Case-sensitive "
   ]
  },
  {
   "cell_type": "code",
   "execution_count": 37,
   "id": "7e709030",
   "metadata": {
    "slideshow": {
     "slide_type": "fragment"
    }
   },
   "outputs": [],
   "source": [
    "state = 48"
   ]
  },
  {
   "cell_type": "code",
   "execution_count": 38,
   "id": "eece0f77",
   "metadata": {
    "slideshow": {
     "slide_type": "fragment"
    }
   },
   "outputs": [],
   "source": [
    "STATE = 40"
   ]
  },
  {
   "cell_type": "code",
   "execution_count": 39,
   "id": "353e409d",
   "metadata": {
    "slideshow": {
     "slide_type": "fragment"
    }
   },
   "outputs": [
    {
     "data": {
      "text/plain": [
       "48"
      ]
     },
     "execution_count": 39,
     "metadata": {},
     "output_type": "execute_result"
    }
   ],
   "source": [
    "state"
   ]
  },
  {
   "cell_type": "markdown",
   "id": "82347e1e",
   "metadata": {
    "slideshow": {
     "slide_type": "subslide"
    }
   },
   "source": [
    "### \"Good\"  Variable Names\n",
    "\n",
    "1. Be clear and concise.\n",
    "2. Be written in English.\n",
    "4. Not conflict with any [Python keywords](https://www.pythonforbeginners.com/basics/keywords-in-python), such as ``for``, ``True``, ``False``, ``and``, ``if``, or ``else``. These are reserved for speical operations in Python and cannot be used as variable names.\n"
   ]
  },
  {
   "cell_type": "code",
   "execution_count": 40,
   "id": "99e9a9c8",
   "metadata": {},
   "outputs": [],
   "source": [
    "HSHDHAHFASFHAHF = 1"
   ]
  },
  {
   "cell_type": "code",
   "execution_count": 41,
   "id": "6e348781",
   "metadata": {},
   "outputs": [
    {
     "ename": "SyntaxError",
     "evalue": "invalid syntax (338946984.py, line 1)",
     "output_type": "error",
     "traceback": [
      "\u001b[0;36m  Cell \u001b[0;32mIn[41], line 1\u001b[0;36m\u001b[0m\n\u001b[0;31m    for = 9\u001b[0m\n\u001b[0m        ^\u001b[0m\n\u001b[0;31mSyntaxError\u001b[0m\u001b[0;31m:\u001b[0m invalid syntax\n"
     ]
    }
   ],
   "source": [
    "for = 9"
   ]
  },
  {
   "cell_type": "code",
   "execution_count": 42,
   "id": "d5563463",
   "metadata": {
    "slideshow": {
     "slide_type": "fragment"
    }
   },
   "outputs": [
    {
     "name": "stdout",
     "output_type": "stream",
     "text": [
      "\n",
      "Here is a list of the Python keywords.  Enter any keyword to get more help.\n",
      "\n",
      "False               break               for                 not\n",
      "None                class               from                or\n",
      "True                continue            global              pass\n",
      "__peg_parser__      def                 if                  raise\n",
      "and                 del                 import              return\n",
      "as                  elif                in                  try\n",
      "assert              else                is                  while\n",
      "async               except              lambda              with\n",
      "await               finally             nonlocal            yield\n",
      "\n"
     ]
    }
   ],
   "source": [
    "help(\"keywords\")"
   ]
  },
  {
   "cell_type": "code",
   "execution_count": 43,
   "id": "48307e03",
   "metadata": {
    "slideshow": {
     "slide_type": "fragment"
    }
   },
   "outputs": [
    {
     "name": "stdout",
     "output_type": "stream",
     "text": [
      "The \"for\" statement\n",
      "*******************\n",
      "\n",
      "The \"for\" statement is used to iterate over the elements of a sequence\n",
      "(such as a string, tuple or list) or other iterable object:\n",
      "\n",
      "   for_stmt ::= \"for\" target_list \"in\" expression_list \":\" suite\n",
      "                [\"else\" \":\" suite]\n",
      "\n",
      "The expression list is evaluated once; it should yield an iterable\n",
      "object.  An iterator is created for the result of the\n",
      "\"expression_list\".  The suite is then executed once for each item\n",
      "provided by the iterator, in the order returned by the iterator.  Each\n",
      "item in turn is assigned to the target list using the standard rules\n",
      "for assignments (see Assignment statements), and then the suite is\n",
      "executed.  When the items are exhausted (which is immediately when the\n",
      "sequence is empty or an iterator raises a \"StopIteration\" exception),\n",
      "the suite in the \"else\" clause, if present, is executed, and the loop\n",
      "terminates.\n",
      "\n",
      "A \"break\" statement executed in the first suite terminates the loop\n",
      "without executing the \"else\" clause’s suite.  A \"continue\" statement\n",
      "executed in the first suite skips the rest of the suite and continues\n",
      "with the next item, or with the \"else\" clause if there is no next\n",
      "item.\n",
      "\n",
      "The for-loop makes assignments to the variables in the target list.\n",
      "This overwrites all previous assignments to those variables including\n",
      "those made in the suite of the for-loop:\n",
      "\n",
      "   for i in range(10):\n",
      "       print(i)\n",
      "       i = 5             # this will not affect the for-loop\n",
      "                         # because i will be overwritten with the next\n",
      "                         # index in the range\n",
      "\n",
      "Names in the target list are not deleted when the loop is finished,\n",
      "but if the sequence is empty, they will not have been assigned to at\n",
      "all by the loop.  Hint: the built-in function \"range()\" returns an\n",
      "iterator of integers suitable to emulate the effect of Pascal’s \"for i\n",
      ":= a to b do\"; e.g., \"list(range(3))\" returns the list \"[0, 1, 2]\".\n",
      "\n",
      "Note:\n",
      "\n",
      "  There is a subtlety when the sequence is being modified by the loop\n",
      "  (this can only occur for mutable sequences, e.g. lists).  An\n",
      "  internal counter is used to keep track of which item is used next,\n",
      "  and this is incremented on each iteration.  When this counter has\n",
      "  reached the length of the sequence the loop terminates.  This means\n",
      "  that if the suite deletes the current (or a previous) item from the\n",
      "  sequence, the next item will be skipped (since it gets the index of\n",
      "  the current item which has already been treated).  Likewise, if the\n",
      "  suite inserts an item in the sequence before the current item, the\n",
      "  current item will be treated again the next time through the loop.\n",
      "  This can lead to nasty bugs that can be avoided by making a\n",
      "  temporary copy using a slice of the whole sequence, e.g.,\n",
      "\n",
      "     for x in a[:]:\n",
      "         if x < 0: a.remove(x)\n",
      "\n",
      "Related help topics: break, continue, while\n",
      "\n"
     ]
    }
   ],
   "source": [
    "help(\"for\")"
   ]
  },
  {
   "cell_type": "markdown",
   "id": "8266952f",
   "metadata": {
    "slideshow": {
     "slide_type": "subslide"
    }
   },
   "source": [
    "### Good Variable Naming Format: pothole_case_naming\n",
    "* lowercase words separated by underscores ``_``. \n",
    "* our suggested format as the underscores make it easy to read the variable, and don't add too much to the length of the variable name. \n",
    "* As an example, consider the variable ``temp_celsius``. "
   ]
  },
  {
   "cell_type": "code",
   "execution_count": 44,
   "id": "300c4e3a",
   "metadata": {
    "slideshow": {
     "slide_type": "fragment"
    }
   },
   "outputs": [],
   "source": [
    "fire_station_id = \"101533\""
   ]
  },
  {
   "cell_type": "code",
   "execution_count": 45,
   "id": "d40645e2",
   "metadata": {},
   "outputs": [],
   "source": [
    "x = 1"
   ]
  },
  {
   "cell_type": "code",
   "execution_count": 46,
   "id": "8e631d08",
   "metadata": {},
   "outputs": [],
   "source": [
    "xx = 3 # not a good name"
   ]
  },
  {
   "cell_type": "code",
   "execution_count": 47,
   "id": "7f3c850e",
   "metadata": {
    "slideshow": {
     "slide_type": "fragment"
    }
   },
   "outputs": [],
   "source": [
    "university_name = \"UNT\""
   ]
  },
  {
   "cell_type": "markdown",
   "id": "110797f5",
   "metadata": {
    "slideshow": {
     "slide_type": "slide"
    }
   },
   "source": [
    "### Automation 1: arithmetic operations on variables\n",
    "\n",
    "#### Example: Group Exercise\n",
    "\n",
    "Suppose the cover price of a book is \\\\$24.95, but bookstores get a 40\\% discount. Shipping costs \\\\$3 for the first copy and 75 cents for each additional copy. What is the total wholesale cost for 60 copies? Use a variable for the number of copies (variable name: `copies`).\n"
   ]
  },
  {
   "cell_type": "code",
   "execution_count": 1,
   "id": "e809acf6",
   "metadata": {},
   "outputs": [
    {
     "data": {
      "text/plain": [
       "945.4499999999999"
      ]
     },
     "execution_count": 1,
     "metadata": {},
     "output_type": "execute_result"
    }
   ],
   "source": [
    "copies = 60\n",
    "(24.95 * (1-0.4) * copies) + (3 *1 + (copies-1) * 0.75)"
   ]
  },
  {
   "cell_type": "code",
   "execution_count": 2,
   "id": "faa174c8",
   "metadata": {},
   "outputs": [
    {
     "data": {
      "text/plain": [
       "15722.249999999998"
      ]
     },
     "execution_count": 2,
     "metadata": {},
     "output_type": "execute_result"
    }
   ],
   "source": [
    "copies = 1000\n",
    "(24.95 * (1-0.4) * copies) + (3 *1 + (copies-1) * 0.75)"
   ]
  },
  {
   "cell_type": "code",
   "execution_count": 3,
   "id": "1113f0f9",
   "metadata": {},
   "outputs": [
    {
     "data": {
      "text/plain": [
       "15722.249999999998"
      ]
     },
     "execution_count": 3,
     "metadata": {},
     "output_type": "execute_result"
    }
   ],
   "source": [
    "copies = 1000\n",
    "discount = 0.4\n",
    "(24.95 * (1-discount) * copies) + (3 *1 + (copies-1) * 0.75)"
   ]
  },
  {
   "cell_type": "code",
   "execution_count": 4,
   "id": "55bed92f",
   "metadata": {},
   "outputs": [
    {
     "data": {
      "text/plain": [
       "5742.249999999998"
      ]
     },
     "execution_count": 4,
     "metadata": {},
     "output_type": "execute_result"
    }
   ],
   "source": [
    "copies = 1000\n",
    "discount = 0.8\n",
    "(24.95 * (1-discount) * copies) + (3 *1 + (copies-1) * 0.75)"
   ]
  },
  {
   "cell_type": "markdown",
   "id": "facfa76d",
   "metadata": {
    "slideshow": {
     "slide_type": "subslide"
    }
   },
   "source": [
    "### Automation 2: functions\n",
    "\n",
    "(takes an input), do sth about it, (and generate an output)\n",
    "\n",
    "Takes the number of copies as the input, generate the total cost as the output.\n",
    "\n",
    "```python\n",
    "print(\"Hello!\")\n",
    "```\n",
    "\n",
    "Our solution:\n",
    "\n",
    "```python\n",
    "calc_total_cost(10)\n",
    "```"
   ]
  },
  {
   "cell_type": "code",
   "execution_count": 53,
   "id": "d21bbb61",
   "metadata": {},
   "outputs": [
    {
     "name": "stdout",
     "output_type": "stream",
     "text": [
      "Hello!\n"
     ]
    }
   ],
   "source": [
    "print(\"Hello!\")"
   ]
  },
  {
   "cell_type": "code",
   "execution_count": 54,
   "id": "50a15364",
   "metadata": {
    "slideshow": {
     "slide_type": "fragment"
    }
   },
   "outputs": [
    {
     "name": "stdout",
     "output_type": "stream",
     "text": [
      "1\n"
     ]
    }
   ],
   "source": [
    "print(1)"
   ]
  },
  {
   "cell_type": "code",
   "execution_count": 55,
   "id": "c3157a48",
   "metadata": {
    "slideshow": {
     "slide_type": "fragment"
    }
   },
   "outputs": [
    {
     "ename": "NameError",
     "evalue": "name 'calc_book_price' is not defined",
     "output_type": "error",
     "traceback": [
      "\u001b[0;31m---------------------------------------------------------------------------\u001b[0m",
      "\u001b[0;31mNameError\u001b[0m                                 Traceback (most recent call last)",
      "Cell \u001b[0;32mIn[55], line 1\u001b[0m\n\u001b[0;32m----> 1\u001b[0m \u001b[43mcalc_book_price\u001b[49m(\u001b[38;5;241m100\u001b[39m)\n",
      "\u001b[0;31mNameError\u001b[0m: name 'calc_book_price' is not defined"
     ]
    }
   ],
   "source": [
    "calc_book_price(100)"
   ]
  },
  {
   "cell_type": "markdown",
   "id": "06e998ec",
   "metadata": {
    "slideshow": {
     "slide_type": "subslide"
    }
   },
   "source": [
    "### Group Exercise:\n",
    "\n",
    "\n",
    "Discuss and work with your neighbor:\n",
    "\n",
    "Suppose the cover price of a book is \\\\$24.95, but bookstores get a 40\\% discount. Shipping costs \\\\$3 for the first copy and 75 cents for each additional copy. What is the total wholesale cost for 60 copies? \n",
    "\n",
    "> how to automate our solution in a function?\n",
    "\n",
    "```python\n",
    "def calc_total_cost(copies):\n",
    "    return\n",
    "```"
   ]
  },
  {
   "cell_type": "code",
   "execution_count": 56,
   "id": "03def845",
   "metadata": {
    "slideshow": {
     "slide_type": "fragment"
    }
   },
   "outputs": [],
   "source": [
    "def calc_total_cost(copies):\n",
    "    return"
   ]
  },
  {
   "cell_type": "code",
   "execution_count": 57,
   "id": "938d964d",
   "metadata": {},
   "outputs": [],
   "source": [
    "def calc_book_price(price, number):\n",
    "    book_price = price * number\n",
    "    return book_price"
   ]
  },
  {
   "cell_type": "markdown",
   "id": "21be7f12",
   "metadata": {
    "slideshow": {
     "slide_type": "slide"
    }
   },
   "source": [
    "# Next Class\n",
    "\n",
    "* Topic: Functions\n",
    "* Readings: Chapter 3\n",
    "* Other Prep:\n",
    "    * Install [UNT Cisco AnyConnect Mobility Client (VPN)](https://itservices.cas.unt.edu/services/accounts-servers/articles/cisco-anyconnect-mobility-client-vpn)\n"
   ]
  }
 ],
 "metadata": {
  "celltoolbar": "Slideshow",
  "kernelspec": {
   "display_name": "Python 3 (ipykernel)",
   "language": "python",
   "name": "python3"
  },
  "language_info": {
   "codemirror_mode": {
    "name": "ipython",
    "version": 3
   },
   "file_extension": ".py",
   "mimetype": "text/x-python",
   "name": "python",
   "nbconvert_exporter": "python",
   "pygments_lexer": "ipython3",
   "version": "3.11.0"
  }
 },
 "nbformat": 4,
 "nbformat_minor": 5
}
