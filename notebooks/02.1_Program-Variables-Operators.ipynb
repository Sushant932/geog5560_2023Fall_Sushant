{
 "cells": [
  {
   "cell_type": "markdown",
   "id": "657e0604",
   "metadata": {
    "slideshow": {
     "slide_type": "slide"
    }
   },
   "source": [
    "# Introduction to Python for Open Source Geocomputation\n",
    "\n",
    "![python](pics/python-logo-master-v3-TM.png)\n",
    "\n",
    "* Instructor: Dr. Wei Kang\n",
    "\n",
    "Content:\n",
    "* [The Way of Program](#The-Way-of-Program)\n",
    "* Operators\n",
    "* Variables"
   ]
  },
  {
   "cell_type": "markdown",
   "id": "00c43c66",
   "metadata": {
    "slideshow": {
     "slide_type": "slide"
    }
   },
   "source": [
    "## The Way of Program\n",
    "\n",
    "Program for problem solving:\n",
    "* formulate problems\n",
    "* think creatively about solutions\n",
    "* express a solution clearly and accurately\n"
   ]
  },
  {
   "cell_type": "markdown",
   "id": "a7133de4",
   "metadata": {
    "slideshow": {
     "slide_type": "subslide"
    }
   },
   "source": [
    "## What is a program? - Computation\n",
    "\n",
    "A sequence of instructions that specifies how to perform a **computation**.\n",
    "\n",
    "Different types of computation:\n",
    "\n",
    "| Type      | Example (1) |Examples (2)  |\n",
    "| :----:  | :----:  |:----:  |\n",
    "| Mathematical      | Solving a system of equations       |Finding the roots of a polynomial|\n",
    "| Symbolic   | Searching and replacing text in a document   |processing an image or playing a video|\n"
   ]
  },
  {
   "cell_type": "markdown",
   "id": "f57ac2f8",
   "metadata": {
    "slideshow": {
     "slide_type": "subslide"
    }
   },
   "source": [
    "## What is a program? - Instructions\n",
    "\n",
    "| Instruction    | Function |\n",
    "| :----  | :----  |\n",
    "| input      | Get data from the keyboard, a file, the network, or some other device.   |\n",
    "| output   | Display data on the screen, save it in a file, send it over the network, etc. |\n",
    "|math/operation| Perform basic mathematical operations like addition and multiplication.|\n",
    "|conditional execution|Check for certain conditions and run the appropriate code.|\n",
    "|repetition| Perform some action repeatedly, usually with some variation.|\n",
    "\n",
    "**Divide and conquer!!!**"
   ]
  },
  {
   "cell_type": "markdown",
   "id": "b6f6ca5c",
   "metadata": {
    "slideshow": {
     "slide_type": "subslide"
    }
   },
   "source": [
    "### Examples\n",
    "\n",
    "* [COVID-19 dashbord](https://coronavirus.jhu.edu/map.html) before it terminates\n",
    "    * input: real-time website data\n",
    "    * math/operation: data processing, statistical analysis, visualization\n",
    "    * output: summary numbers, statistical plots, maps\n",
    "    * conditional execution: highly relevant \n",
    "    * repetition: repeating same operations for each incoming data set (probably with some variation)\n",
    "    \n",
    " \n",
    "    "
   ]
  },
  {
   "cell_type": "code",
   "execution_count": null,
   "id": "674b7ffc",
   "metadata": {
    "slideshow": {
     "slide_type": "fragment"
    }
   },
   "outputs": [],
   "source": [
    "input()"
   ]
  },
  {
   "cell_type": "markdown",
   "id": "d1d7b5bc",
   "metadata": {
    "slideshow": {
     "slide_type": "slide"
    }
   },
   "source": [
    "## Problem 1 : Print \"Hello world!\"\n",
    "\n",
    "Think about the five basic instructions: input, output, math, conditional execution, repetition.\n",
    "\n",
    "For this problem: which instructions will we need?"
   ]
  },
  {
   "cell_type": "markdown",
   "id": "4b044232",
   "metadata": {
    "slideshow": {
     "slide_type": "fragment"
    }
   },
   "source": [
    "input, output"
   ]
  },
  {
   "cell_type": "code",
   "execution_count": null,
   "id": "40719289",
   "metadata": {
    "slideshow": {
     "slide_type": "fragment"
    }
   },
   "outputs": [],
   "source": [
    "print(\"Hello world!\")"
   ]
  },
  {
   "cell_type": "code",
   "execution_count": null,
   "id": "ac24d580",
   "metadata": {},
   "outputs": [],
   "source": [
    "?print"
   ]
  },
  {
   "cell_type": "markdown",
   "id": "b00e4b09",
   "metadata": {
    "slideshow": {
     "slide_type": "subslide"
    }
   },
   "source": [
    "### Analyze the program ```print(\"Hello world!\")```\n",
    "\n",
    "* A statement\n",
    "* ```print()```: function \n",
    "    * indicated by ```()```\n",
    "    * displays the value of the input (required `argument`) on the screen\n",
    "    * one of the many Python _built-in_ functions \n",
    "* ```\"Hello world!\"```: \n",
    "    * `string` data type\n",
    "    * input\n",
    "    * required argument: the string of characters it should print out for you"
   ]
  },
  {
   "cell_type": "code",
   "execution_count": null,
   "id": "2b13633d",
   "metadata": {
    "slideshow": {
     "slide_type": "fragment"
    }
   },
   "outputs": [],
   "source": [
    "print(1)"
   ]
  },
  {
   "cell_type": "markdown",
   "id": "d5d40818",
   "metadata": {
    "slideshow": {
     "slide_type": "subslide"
    }
   },
   "source": [
    "## Problem 2 : Print \"Hello world!\" three times\n",
    "\n",
    "Think about the five basic instructions: input, output, math, conditional execution, repetition.\n",
    "\n",
    "For this problem: which instructions will we need?"
   ]
  },
  {
   "cell_type": "markdown",
   "id": "7ff13f24",
   "metadata": {
    "slideshow": {
     "slide_type": "fragment"
    }
   },
   "source": [
    "input, output, repetition"
   ]
  },
  {
   "cell_type": "code",
   "execution_count": null,
   "id": "6f68bfee",
   "metadata": {
    "slideshow": {
     "slide_type": "fragment"
    }
   },
   "outputs": [],
   "source": [
    "for i in range(3):\n",
    "    print(\"Hello world!\")"
   ]
  },
  {
   "cell_type": "markdown",
   "id": "d53b360c",
   "metadata": {
    "slideshow": {
     "slide_type": "slide"
    }
   },
   "source": [
    "## Python as a calculator (Arithmetic operators)\n",
    "\n",
    "The symbols are what you would expect, except for the \"raise-to-the-power-of\" operator, which you obtain with two asterisks: `**`. Try all of these:\n",
    "\n",
    "```python\n",
    "+   -   *   /   **   %   //\n",
    "```\n",
    "\n",
    "The `%` symbol is the _modulo_ operator (divide and return the remainder), and the double-slash (//) is _floor division_.\n",
    "\n",
    "Operators: special symbols that represent computations like addition and multiplication"
   ]
  },
  {
   "cell_type": "code",
   "execution_count": null,
   "id": "845864dc",
   "metadata": {
    "slideshow": {
     "slide_type": "fragment"
    }
   },
   "outputs": [],
   "source": [
    "2 + 2"
   ]
  },
  {
   "cell_type": "code",
   "execution_count": null,
   "id": "f714b05d",
   "metadata": {
    "slideshow": {
     "slide_type": "fragment"
    }
   },
   "outputs": [],
   "source": [
    "1.25 + 3.65"
   ]
  },
  {
   "cell_type": "code",
   "execution_count": null,
   "id": "b41dd1db",
   "metadata": {
    "slideshow": {
     "slide_type": "subslide"
    }
   },
   "outputs": [],
   "source": [
    "5 - 3"
   ]
  },
  {
   "cell_type": "code",
   "execution_count": null,
   "id": "c133e5a2",
   "metadata": {
    "slideshow": {
     "slide_type": "fragment"
    }
   },
   "outputs": [],
   "source": [
    "2 * 4"
   ]
  },
  {
   "cell_type": "code",
   "execution_count": null,
   "id": "3565e100",
   "metadata": {
    "slideshow": {
     "slide_type": "fragment"
    }
   },
   "outputs": [],
   "source": [
    "7 / 2"
   ]
  },
  {
   "cell_type": "code",
   "execution_count": null,
   "id": "e499ca4b",
   "metadata": {
    "slideshow": {
     "slide_type": "fragment"
    }
   },
   "outputs": [],
   "source": [
    "2**3"
   ]
  },
  {
   "cell_type": "code",
   "execution_count": null,
   "id": "4863b60f",
   "metadata": {},
   "outputs": [],
   "source": [
    "2 * 2 *2"
   ]
  },
  {
   "cell_type": "code",
   "execution_count": null,
   "id": "a8fe60c8",
   "metadata": {
    "slideshow": {
     "slide_type": "fragment"
    }
   },
   "outputs": [],
   "source": [
    "5%2"
   ]
  },
  {
   "cell_type": "code",
   "execution_count": null,
   "id": "c85025d6",
   "metadata": {
    "slideshow": {
     "slide_type": "fragment"
    }
   },
   "outputs": [],
   "source": [
    "5//2"
   ]
  },
  {
   "cell_type": "code",
   "execution_count": null,
   "id": "9e2b262a",
   "metadata": {},
   "outputs": [],
   "source": [
    "5/2"
   ]
  },
  {
   "cell_type": "markdown",
   "id": "6273272b",
   "metadata": {
    "slideshow": {
     "slide_type": "subslide"
    }
   },
   "source": [
    "Let's see an interesting case:"
   ]
  },
  {
   "cell_type": "code",
   "execution_count": null,
   "id": "44fbd1bf",
   "metadata": {
    "slideshow": {
     "slide_type": "fragment"
    }
   },
   "outputs": [],
   "source": [
    "9**1/2 "
   ]
  },
  {
   "cell_type": "markdown",
   "id": "b51c0b4c",
   "metadata": {
    "slideshow": {
     "slide_type": "subslide"
    }
   },
   "source": [
    "### Discuss with your neighbor:\n",
    "_What happened?_ Isn't $9^{1/2} = 3$? (Raising to the power $1/2$ is the same as taking the square root.) Did Python get this wrong?"
   ]
  },
  {
   "cell_type": "markdown",
   "id": "2716796e",
   "metadata": {
    "slideshow": {
     "slide_type": "fragment"
    }
   },
   "source": [
    "Compare with this:"
   ]
  },
  {
   "cell_type": "code",
   "execution_count": null,
   "id": "a1dcae58",
   "metadata": {},
   "outputs": [],
   "source": [
    "9 ** 0.5"
   ]
  },
  {
   "cell_type": "code",
   "execution_count": null,
   "id": "051f276a",
   "metadata": {
    "slideshow": {
     "slide_type": "fragment"
    }
   },
   "outputs": [],
   "source": [
    "9**(1/2)"
   ]
  },
  {
   "cell_type": "code",
   "execution_count": null,
   "id": "bad968ff",
   "metadata": {},
   "outputs": [],
   "source": [
    "8/2"
   ]
  },
  {
   "cell_type": "markdown",
   "id": "b32ecaa8",
   "metadata": {
    "slideshow": {
     "slide_type": "subslide"
    }
   },
   "source": [
    "Yes! The order of operations matters! \n",
    "\n",
    "|Order|Operation|\n",
    "|--|--|\n",
    "|1|Parentheses means brackets()|\n",
    "|2| Exponents (and Roots) means power|\n",
    "|3|Multiplication & Division|\n",
    "|4|Addition & Subtraction|\n"
   ]
  },
  {
   "cell_type": "markdown",
   "id": "aa9fef03",
   "metadata": {
    "slideshow": {
     "slide_type": "subslide"
    }
   },
   "source": [
    "### Another example of order of Arithmetic operations"
   ]
  },
  {
   "cell_type": "code",
   "execution_count": null,
   "id": "5f3c7776",
   "metadata": {
    "slideshow": {
     "slide_type": "fragment"
    }
   },
   "outputs": [],
   "source": [
    "3 + 3 / 2"
   ]
  },
  {
   "cell_type": "code",
   "execution_count": null,
   "id": "6c95e34f",
   "metadata": {
    "slideshow": {
     "slide_type": "fragment"
    }
   },
   "outputs": [],
   "source": [
    "(3 + 3) / 2"
   ]
  },
  {
   "cell_type": "code",
   "execution_count": null,
   "id": "e808d12b",
   "metadata": {},
   "outputs": [],
   "source": [
    "3 + (3 / 2)"
   ]
  },
  {
   "cell_type": "markdown",
   "id": "f95ff21d",
   "metadata": {
    "slideshow": {
     "slide_type": "subslide"
    }
   },
   "source": [
    "### Group Exercise:\n",
    "\n",
    "Discuss and work with your neighbor:\n",
    "\n",
    "Suppose the cover price of a book is \\\\$24.95, but bookstores get a 40\\% discount. Shipping costs \\\\$3 for the first copy and 75 cents for each additional copy. What is the total wholesale cost for 60 copies? \n",
    "\n",
    "> When you are done with your calculation, raise your hand."
   ]
  },
  {
   "cell_type": "code",
   "execution_count": null,
   "id": "b89f3dc8",
   "metadata": {},
   "outputs": [],
   "source": [
    "(24.95 * (1- 0.4) * 60) + (3 + 0.75 * (60-1))"
   ]
  },
  {
   "cell_type": "code",
   "execution_count": null,
   "id": "4105bed7",
   "metadata": {},
   "outputs": [],
   "source": [
    "(24.95 * (1- 0.4) * 100) + (3 + 0.75 * (100-1))"
   ]
  },
  {
   "cell_type": "markdown",
   "id": "104733cd",
   "metadata": {
    "slideshow": {
     "slide_type": "subslide"
    }
   },
   "source": [
    "## Value and types\n",
    "\n",
    "A value is one of the basic things a program works with, like a letter or a number\n",
    "\n",
    "Each value has a type:\n",
    "\n",
    "* 60 is an integer, 24.95 is a float, \"Hello World\" is a string\n",
    "* we can use built-in function `type()` to check the type of a value"
   ]
  },
  {
   "cell_type": "code",
   "execution_count": null,
   "id": "d26912e7",
   "metadata": {},
   "outputs": [],
   "source": [
    "type(60)"
   ]
  },
  {
   "cell_type": "code",
   "execution_count": null,
   "id": "78253f77",
   "metadata": {},
   "outputs": [],
   "source": [
    "type(24.95)"
   ]
  },
  {
   "cell_type": "code",
   "execution_count": null,
   "id": "e481846b",
   "metadata": {},
   "outputs": [],
   "source": [
    "type(\"Hello World\")"
   ]
  },
  {
   "cell_type": "markdown",
   "id": "090d34cc",
   "metadata": {
    "slideshow": {
     "slide_type": "slide"
    }
   },
   "source": [
    "## Variables\n",
    "\n",
    "Two parts in a variable: **Name** and **Value**.\n",
    "\n",
    "* Name: state\n",
    "* Value: \"Texas\", 48, \"48\"\n"
   ]
  },
  {
   "cell_type": "markdown",
   "id": "25f4025b",
   "metadata": {
    "slideshow": {
     "slide_type": "subslide"
    }
   },
   "source": [
    "### Creating a variable: **Assignment Statement**\n",
    "* Use the equal sign `name = value`\n",
    "* The name of the variable goes on the left and the value on the right. \n",
    "* Think of it as an arrow pointing from `name` to `value`.\n",
    "\n",
    "<img src=\"pics/variables.png\" style=\"width: 500px;\"/> \n",
    "\n",
    "\n",
    "We do not need to declare the type of a newly defined variable (makes the program more succinct than C/C++), python will infer the type based on the value."
   ]
  },
  {
   "cell_type": "code",
   "execution_count": null,
   "id": "cd406716",
   "metadata": {
    "slideshow": {
     "slide_type": "fragment"
    }
   },
   "outputs": [],
   "source": [
    "state = \"Texas\"\n",
    "print(state)"
   ]
  },
  {
   "cell_type": "code",
   "execution_count": null,
   "id": "5bfe45e5",
   "metadata": {},
   "outputs": [],
   "source": [
    "type(state)"
   ]
  },
  {
   "cell_type": "markdown",
   "id": "827af080",
   "metadata": {
    "slideshow": {
     "slide_type": "subslide"
    }
   },
   "source": [
    "### Updating a variable: **Assignment Statement**\n",
    "\n",
    "* Use the equal sign `name = value`"
   ]
  },
  {
   "cell_type": "code",
   "execution_count": null,
   "id": "a6ff9533",
   "metadata": {
    "slideshow": {
     "slide_type": "fragment"
    }
   },
   "outputs": [],
   "source": [
    "state = 48\n",
    "print(state)"
   ]
  },
  {
   "cell_type": "code",
   "execution_count": null,
   "id": "fb88c9a4",
   "metadata": {},
   "outputs": [],
   "source": [
    "type(state)"
   ]
  },
  {
   "cell_type": "markdown",
   "id": "3faecdb0",
   "metadata": {
    "slideshow": {
     "slide_type": "subslide"
    }
   },
   "source": [
    "### Rules of Variable Names\n",
    "* Leading character:\n",
    "    * Must be a letter or the underscore character\n",
    "    * Cannot be a number"
   ]
  },
  {
   "cell_type": "code",
   "execution_count": null,
   "id": "48ec63ab",
   "metadata": {
    "slideshow": {
     "slide_type": "fragment"
    }
   },
   "outputs": [],
   "source": [
    "_state = 48"
   ]
  },
  {
   "cell_type": "code",
   "execution_count": null,
   "id": "3c6d07c1",
   "metadata": {},
   "outputs": [],
   "source": [
    "$state = 48"
   ]
  },
  {
   "cell_type": "code",
   "execution_count": null,
   "id": "9bb3c3cd",
   "metadata": {
    "slideshow": {
     "slide_type": "fragment"
    }
   },
   "outputs": [],
   "source": [
    "4state = 48"
   ]
  },
  {
   "cell_type": "markdown",
   "id": "bf497f1c",
   "metadata": {
    "slideshow": {
     "slide_type": "subslide"
    }
   },
   "source": [
    "* can only contain alpha-numeric characters and underscores (A-z, 0-9, and _ )"
   ]
  },
  {
   "cell_type": "code",
   "execution_count": null,
   "id": "d6c28ab9",
   "metadata": {
    "slideshow": {
     "slide_type": "fragment"
    }
   },
   "outputs": [],
   "source": [
    "state_id = 48"
   ]
  },
  {
   "cell_type": "code",
   "execution_count": null,
   "id": "b7b9831b",
   "metadata": {},
   "outputs": [],
   "source": [
    "state&id = 48"
   ]
  },
  {
   "cell_type": "markdown",
   "id": "5430bbf8",
   "metadata": {
    "slideshow": {
     "slide_type": "subslide"
    }
   },
   "source": [
    "* Case-sensitive "
   ]
  },
  {
   "cell_type": "code",
   "execution_count": null,
   "id": "7e709030",
   "metadata": {
    "slideshow": {
     "slide_type": "fragment"
    }
   },
   "outputs": [],
   "source": [
    "state = 48"
   ]
  },
  {
   "cell_type": "code",
   "execution_count": null,
   "id": "eece0f77",
   "metadata": {
    "slideshow": {
     "slide_type": "fragment"
    }
   },
   "outputs": [],
   "source": [
    "STATE = 40"
   ]
  },
  {
   "cell_type": "code",
   "execution_count": null,
   "id": "353e409d",
   "metadata": {
    "slideshow": {
     "slide_type": "fragment"
    }
   },
   "outputs": [],
   "source": [
    "state"
   ]
  },
  {
   "cell_type": "markdown",
   "id": "82347e1e",
   "metadata": {
    "slideshow": {
     "slide_type": "subslide"
    }
   },
   "source": [
    "### \"Good\"  Variable Names\n",
    "\n",
    "1. Be clear and concise.\n",
    "2. Be written in English.\n",
    "4. Not conflict with any [Python keywords](https://www.pythonforbeginners.com/basics/keywords-in-python), such as ``for``, ``True``, ``False``, ``and``, ``if``, or ``else``. These are reserved for speical operations in Python and cannot be used as variable names.\n"
   ]
  },
  {
   "cell_type": "code",
   "execution_count": null,
   "id": "99e9a9c8",
   "metadata": {},
   "outputs": [],
   "source": [
    "HSHDHAHFASFHAHF = 1"
   ]
  },
  {
   "cell_type": "code",
   "execution_count": null,
   "id": "6e348781",
   "metadata": {},
   "outputs": [],
   "source": [
    "for = 9"
   ]
  },
  {
   "cell_type": "code",
   "execution_count": null,
   "id": "d5563463",
   "metadata": {
    "slideshow": {
     "slide_type": "fragment"
    }
   },
   "outputs": [],
   "source": [
    "help(\"keywords\")"
   ]
  },
  {
   "cell_type": "code",
   "execution_count": null,
   "id": "9802c108",
   "metadata": {
    "slideshow": {
     "slide_type": "fragment"
    }
   },
   "outputs": [],
   "source": [
    "help(\"for\")"
   ]
  },
  {
   "cell_type": "markdown",
   "id": "8266952f",
   "metadata": {
    "slideshow": {
     "slide_type": "subslide"
    }
   },
   "source": [
    "### Good Variable Naming Format: pothole_case_naming\n",
    "* lowercase words separated by underscores ``_``. \n",
    "* our suggested format as the underscores make it easy to read the variable, and don't add too much to the length of the variable name. \n",
    "* As an example, consider the variable ``temp_celsius``. "
   ]
  },
  {
   "cell_type": "code",
   "execution_count": null,
   "id": "300c4e3a",
   "metadata": {
    "slideshow": {
     "slide_type": "fragment"
    }
   },
   "outputs": [],
   "source": [
    "fire_station_id = \"101533\""
   ]
  },
  {
   "cell_type": "code",
   "execution_count": null,
   "id": "d40645e2",
   "metadata": {},
   "outputs": [],
   "source": [
    "x = 1"
   ]
  },
  {
   "cell_type": "code",
   "execution_count": null,
   "id": "8e631d08",
   "metadata": {},
   "outputs": [],
   "source": [
    "xx = 3 # not a good name"
   ]
  },
  {
   "cell_type": "code",
   "execution_count": null,
   "id": "7f3c850e",
   "metadata": {
    "slideshow": {
     "slide_type": "fragment"
    }
   },
   "outputs": [],
   "source": [
    "university_name = \"UNT\""
   ]
  },
  {
   "cell_type": "markdown",
   "id": "110797f5",
   "metadata": {
    "slideshow": {
     "slide_type": "slide"
    }
   },
   "source": [
    "### Automation 1: arithmetic operations on variables\n",
    "\n",
    "#### Example: Group Exercise\n",
    "\n",
    "Suppose the cover price of a book is \\\\$24.95, but bookstores get a 40\\% discount. Shipping costs \\\\$3 for the first copy and 75 cents for each additional copy. What is the total wholesale cost for 60 copies? Use a variable for the number of copies (variable name: `copy`).\n"
   ]
  },
  {
   "cell_type": "code",
   "execution_count": null,
   "id": "e809acf6",
   "metadata": {},
   "outputs": [],
   "source": [
    "copies = 60\n",
    "(24.95 * (1-0.4) * copies) + (3 *1 + (copies-1) * 0.75)"
   ]
  },
  {
   "cell_type": "code",
   "execution_count": null,
   "id": "faa174c8",
   "metadata": {},
   "outputs": [],
   "source": [
    "copies = 1000\n",
    "(24.95 * (1-0.4) * copies) + (3 *1 + (copies-1) * 0.75)"
   ]
  },
  {
   "cell_type": "code",
   "execution_count": null,
   "id": "1113f0f9",
   "metadata": {},
   "outputs": [],
   "source": [
    "copies = 1000\n",
    "discount = 0.4\n",
    "(24.95 * (1-discount) * copies) + (3 *1 + (copies-1) * 0.75)"
   ]
  },
  {
   "cell_type": "code",
   "execution_count": null,
   "id": "55bed92f",
   "metadata": {},
   "outputs": [],
   "source": [
    "copies = 1000\n",
    "discount = 0.8\n",
    "(24.95 * (1-discount) * copies) + (3 *1 + (copies-1) * 0.75)"
   ]
  },
  {
   "cell_type": "code",
   "execution_count": null,
   "id": "e009a0a2",
   "metadata": {},
   "outputs": [],
   "source": [
    "(24.95 * (1-0.4) * 60) + (3 *1 + (60-1) * 0.75)"
   ]
  },
  {
   "cell_type": "markdown",
   "id": "facfa76d",
   "metadata": {
    "slideshow": {
     "slide_type": "subslide"
    }
   },
   "source": [
    "### Automation 2: functions\n",
    "\n",
    "(takes an input), do sth about it, (and generate an output)\n",
    "\n",
    "Takes the number of copies as the input, generate the total cost as the output.\n",
    "\n",
    "```python\n",
    "print(\"Hello!\")\n",
    "```\n",
    "\n",
    "Our solution:\n",
    "\n",
    "```python\n",
    "calc_total_cost(10)\n",
    "```"
   ]
  },
  {
   "cell_type": "code",
   "execution_count": null,
   "id": "7ec10006",
   "metadata": {},
   "outputs": [],
   "source": [
    "print(\"Hello!\")"
   ]
  },
  {
   "cell_type": "code",
   "execution_count": null,
   "id": "50a15364",
   "metadata": {
    "slideshow": {
     "slide_type": "fragment"
    }
   },
   "outputs": [],
   "source": [
    "print(1)"
   ]
  },
  {
   "cell_type": "code",
   "execution_count": null,
   "id": "c3157a48",
   "metadata": {
    "slideshow": {
     "slide_type": "fragment"
    }
   },
   "outputs": [],
   "source": [
    "calc_book_price(100)"
   ]
  },
  {
   "cell_type": "markdown",
   "id": "06e998ec",
   "metadata": {
    "slideshow": {
     "slide_type": "subslide"
    }
   },
   "source": [
    "### Group Exercise:\n",
    "\n",
    "\n",
    "Discuss and work with your neighbor:\n",
    "\n",
    "Suppose the cover price of a book is \\\\$24.95, but bookstores get a 40\\% discount. Shipping costs \\\\$3 for the first copy and 75 cents for each additional copy. What is the total wholesale cost for 60 copies? \n",
    "\n",
    "> how to automate our solution in a function?\n",
    "\n",
    "```python\n",
    "def calc_total_cost(copies):\n",
    "    return\n",
    "```"
   ]
  },
  {
   "cell_type": "code",
   "execution_count": null,
   "id": "03def845",
   "metadata": {
    "slideshow": {
     "slide_type": "fragment"
    }
   },
   "outputs": [],
   "source": [
    "def calc_total_cost(copies):\n",
    "    return"
   ]
  },
  {
   "cell_type": "code",
   "execution_count": null,
   "id": "a83f2fdb",
   "metadata": {},
   "outputs": [],
   "source": [
    "def calc_book_price(price, number):\n",
    "    book_price = price * number\n",
    "    return book_price"
   ]
  },
  {
   "cell_type": "markdown",
   "id": "21be7f12",
   "metadata": {
    "slideshow": {
     "slide_type": "slide"
    }
   },
   "source": [
    "# Next Class\n",
    "\n",
    "* Topic: Functions\n",
    "* Readings: Chapter 3\n",
    "* Other Prep:\n",
    "    * Install [UNT Cisco AnyConnect Mobility Client (VPN)](https://itservices.cas.unt.edu/services/accounts-servers/articles/cisco-anyconnect-mobility-client-vpn)\n"
   ]
  },
  {
   "cell_type": "code",
   "execution_count": null,
   "id": "b179f366",
   "metadata": {},
   "outputs": [],
   "source": []
  }
 ],
 "metadata": {
  "celltoolbar": "Slideshow",
  "kernelspec": {
   "display_name": "Python 3 (ipykernel)",
   "language": "python",
   "name": "python3"
  },
  "language_info": {
   "codemirror_mode": {
    "name": "ipython",
    "version": 3
   },
   "file_extension": ".py",
   "mimetype": "text/x-python",
   "name": "python",
   "nbconvert_exporter": "python",
   "pygments_lexer": "ipython3",
   "version": "3.9.16"
  }
 },
 "nbformat": 4,
 "nbformat_minor": 5
}
