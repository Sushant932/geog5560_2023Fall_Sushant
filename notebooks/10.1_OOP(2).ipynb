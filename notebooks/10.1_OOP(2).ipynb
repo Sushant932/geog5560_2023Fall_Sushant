{
 "cells": [
  {
   "cell_type": "markdown",
   "id": "f151fc6c",
   "metadata": {
    "slideshow": {
     "slide_type": "slide"
    }
   },
   "source": [
    "# Introduction to Python for Open Source Geocomputation\n",
    "\n",
    "![python](pics/python-logo-master-v3-TM.png)\n",
    "\n",
    "* Instructor: Dr. Wei Kang\n",
    "\n",
    "Content:\n",
    "\n",
    "* Polymorphism"
   ]
  },
  {
   "cell_type": "code",
   "execution_count": 1,
   "id": "563df9bc",
   "metadata": {},
   "outputs": [
    {
     "name": "stdout",
     "output_type": "stream",
     "text": [
      "{1: 2}\n"
     ]
    }
   ],
   "source": [
    "print({1:2})"
   ]
  },
  {
   "cell_type": "code",
   "execution_count": 2,
   "id": "bd697fce",
   "metadata": {},
   "outputs": [
    {
     "name": "stdout",
     "output_type": "stream",
     "text": [
      "asb\n"
     ]
    }
   ],
   "source": [
    "print(\"asb\")"
   ]
  },
  {
   "cell_type": "code",
   "execution_count": 3,
   "id": "fdd139ec",
   "metadata": {},
   "outputs": [
    {
     "name": "stdout",
     "output_type": "stream",
     "text": [
      "[12, 2]\n"
     ]
    }
   ],
   "source": [
    "print([12,2])"
   ]
  },
  {
   "cell_type": "code",
   "execution_count": 4,
   "id": "1828f8a8",
   "metadata": {},
   "outputs": [],
   "source": [
    "class Point:\n",
    "    def __init__(self, x=3, y=4):\n",
    "        self.x = x\n",
    "        self.y = y"
   ]
  },
  {
   "cell_type": "code",
   "execution_count": 5,
   "id": "a0f4a0ff",
   "metadata": {},
   "outputs": [],
   "source": [
    "p2 = Point()"
   ]
  },
  {
   "cell_type": "code",
   "execution_count": 6,
   "id": "40b992af",
   "metadata": {},
   "outputs": [
    {
     "name": "stdout",
     "output_type": "stream",
     "text": [
      "<__main__.Point object at 0x1069df710>\n"
     ]
    }
   ],
   "source": [
    "print(p2)"
   ]
  },
  {
   "cell_type": "markdown",
   "id": "a13252ec",
   "metadata": {
    "slideshow": {
     "slide_type": "slide"
    }
   },
   "source": [
    "### `print` representation of an object\n",
    "\n",
    "```python\n",
    "class Point:\n",
    "    def __init__(self, x=3, y=4):\n",
    "        self.x = x\n",
    "        self.y = y\n",
    "    \n",
    "    def __str__(self):\n",
    "        return \"<\"+str(self.x)+\",\"+str(self.y)+\">\"\n",
    "```\n",
    "* uninformative print representation by default\n",
    "* define a `__str__` method for a class (special method)\n",
    "* Python calls the `__str__` method when used with `print` on your class object\n",
    "* you choose what it does! Say that when we print a Point object, we want to display its x,y corrdinates"
   ]
  },
  {
   "cell_type": "code",
   "execution_count": 7,
   "id": "712da0ba",
   "metadata": {},
   "outputs": [],
   "source": [
    "class Point:\n",
    "    def __init__(self, x=3, y=4):\n",
    "        self.x = x\n",
    "        self.y = y\n",
    "    \n",
    "    def __str__(self):\n",
    "        return \"<\"+str(self.x)+\",\"+str(self.y)+\">\""
   ]
  },
  {
   "cell_type": "code",
   "execution_count": 8,
   "id": "c72c31eb",
   "metadata": {},
   "outputs": [],
   "source": [
    "p2 = Point()"
   ]
  },
  {
   "cell_type": "code",
   "execution_count": 9,
   "id": "25d3bcb2",
   "metadata": {},
   "outputs": [
    {
     "name": "stdout",
     "output_type": "stream",
     "text": [
      "<3,4>\n"
     ]
    }
   ],
   "source": [
    "print(p2)"
   ]
  },
  {
   "cell_type": "code",
   "execution_count": 10,
   "id": "9671cda4",
   "metadata": {},
   "outputs": [
    {
     "name": "stdout",
     "output_type": "stream",
     "text": [
      "{1: 2}\n"
     ]
    }
   ],
   "source": [
    "print({1:2})"
   ]
  },
  {
   "cell_type": "markdown",
   "id": "af928e4b",
   "metadata": {},
   "source": [
    "Function Polymorphism `print`"
   ]
  },
  {
   "cell_type": "markdown",
   "id": "4ce14b91",
   "metadata": {
    "slideshow": {
     "slide_type": "subslide"
    }
   },
   "source": [
    "### Polymorphism: an important property of OOP\n",
    "\n",
    "* the use of a single type entity (function, operator or object) to represent different types in different scenarios.\n",
    "* Polymorphic `print()` function\n",
    "    * `print(\"python\")`: print the string\n",
    "    * `print(p2)`: print the x and y coordinates in the format of `<x,y>`\n",
    "* Polymorphic `len()` function\n",
    "    * `len(\"python\")`: number of characters in the string\n",
    "    * `len([1,2,\"python\"])`: number of items in the list\n",
    "    * `len({1:2, \"python\": 3})`: number of keys/key-value pairs in the dictionary\n",
    "* Polymorphism in addition operator `+`\n",
    "    * `1+2`\n",
    "    * `\"python\"+ \" \"+ \"good\"`"
   ]
  },
  {
   "cell_type": "code",
   "execution_count": 11,
   "id": "e99f07f9",
   "metadata": {},
   "outputs": [
    {
     "data": {
      "text/plain": [
       "6"
      ]
     },
     "execution_count": 11,
     "metadata": {},
     "output_type": "execute_result"
    }
   ],
   "source": [
    "len(\"python\")"
   ]
  },
  {
   "cell_type": "code",
   "execution_count": 12,
   "id": "cf623117",
   "metadata": {},
   "outputs": [
    {
     "data": {
      "text/plain": [
       "3"
      ]
     },
     "execution_count": 12,
     "metadata": {},
     "output_type": "execute_result"
    }
   ],
   "source": [
    "len([1,2,\"python\"])"
   ]
  },
  {
   "cell_type": "code",
   "execution_count": 13,
   "id": "b46752ab",
   "metadata": {},
   "outputs": [
    {
     "data": {
      "text/plain": [
       "2"
      ]
     },
     "execution_count": 13,
     "metadata": {},
     "output_type": "execute_result"
    }
   ],
   "source": [
    "len({1:2, \"python\": 3})"
   ]
  },
  {
   "cell_type": "code",
   "execution_count": 14,
   "id": "845190bd",
   "metadata": {},
   "outputs": [
    {
     "data": {
      "text/plain": [
       "3"
      ]
     },
     "execution_count": 14,
     "metadata": {},
     "output_type": "execute_result"
    }
   ],
   "source": [
    "1+2"
   ]
  },
  {
   "cell_type": "code",
   "execution_count": 15,
   "id": "4d188e70",
   "metadata": {},
   "outputs": [
    {
     "data": {
      "text/plain": [
       "'python good'"
      ]
     },
     "execution_count": 15,
     "metadata": {},
     "output_type": "execute_result"
    }
   ],
   "source": [
    "\"python\"+ \" \"+ \"good\""
   ]
  },
  {
   "cell_type": "code",
   "execution_count": 16,
   "id": "81a1ba86",
   "metadata": {},
   "outputs": [],
   "source": [
    "class Point:\n",
    "    def __init__(self, x=3, y=4):\n",
    "        self.x = x\n",
    "        self.y = y\n",
    "    \n",
    "    def __str__(self):\n",
    "        return \"<\"+str(self.x)+\",\"+str(self.y)+\">\""
   ]
  },
  {
   "cell_type": "code",
   "execution_count": 17,
   "id": "d18d3031",
   "metadata": {},
   "outputs": [],
   "source": [
    "p1 = Point()\n",
    "p2 = Point()"
   ]
  },
  {
   "cell_type": "code",
   "execution_count": 18,
   "id": "bcbf6e40",
   "metadata": {},
   "outputs": [
    {
     "ename": "TypeError",
     "evalue": "unsupported operand type(s) for +: 'Point' and 'Point'",
     "output_type": "error",
     "traceback": [
      "\u001b[0;31m---------------------------------------------------------------------------\u001b[0m",
      "\u001b[0;31mTypeError\u001b[0m                                 Traceback (most recent call last)",
      "Cell \u001b[0;32mIn[18], line 1\u001b[0m\n\u001b[0;32m----> 1\u001b[0m p1 \u001b[38;5;241m+\u001b[39m p2\n",
      "\u001b[0;31mTypeError\u001b[0m: unsupported operand type(s) for +: 'Point' and 'Point'"
     ]
    }
   ],
   "source": [
    "p1 + p2"
   ]
  },
  {
   "cell_type": "markdown",
   "id": "ad3d00c8",
   "metadata": {
    "slideshow": {
     "slide_type": "slide"
    }
   },
   "source": [
    "### Special operators\n",
    "\n",
    "* `+, -, ==, <, >, len(), print`, and [many others](https://docs.python.org/3/reference/datamodel.html#basic-customization)\n",
    "* like `print`, we can write special methods to override these to work with your class\n",
    "* define them with **double underscores before/after**\n",
    "    * `__add__(self, other)`: `self + other`\n",
    "    * `__sub__(self, other)`: `self - other`\n",
    "    * `__eq__(self, other)`: `self == other`\n",
    "    * `__lt__(self, other)`: `self < other`\n",
    "    * `__len__(self)`: `len(self)`\n",
    "    * `__str__(self)`: `print self`\n",
    "    * ... and others\n",
    "        * `self` refers to the current instance \n",
    "        * `other` refers to another instance of the same class\n",
    "        \n",
    " "
   ]
  },
  {
   "cell_type": "markdown",
   "id": "e499af01",
   "metadata": {
    "slideshow": {
     "slide_type": "subslide"
    }
   },
   "source": [
    "### Customizing `+` for class `Point`\n",
    "\n",
    "```python\n",
    "class Point:\n",
    "    def __init__(self, x=3, y=4):\n",
    "        self.x = x\n",
    "        self.y = y\n",
    "        \n",
    "    def __str__(self):\n",
    "        return \"<\"+str(self.x)+\",\"+str(self.y)+\">\"\n",
    "    \n",
    "    def __add__(self, other):\n",
    "        return Point(self.x+other.x, self.y+other.y)\n",
    "```"
   ]
  },
  {
   "cell_type": "code",
   "execution_count": 19,
   "id": "291ca1cb",
   "metadata": {},
   "outputs": [],
   "source": [
    "class Point:\n",
    "    def __init__(self, x=3, y=4):\n",
    "        self.x = x\n",
    "        self.y = y\n",
    "        \n",
    "    def __str__(self):\n",
    "        return \"<\"+str(self.x)+\",\"+str(self.y)+\">\"\n",
    "    \n",
    "    def __add__(self, other):\n",
    "        return Point(self.x+other.x, self.y+other.y)"
   ]
  },
  {
   "cell_type": "code",
   "execution_count": 20,
   "id": "19341ec1",
   "metadata": {},
   "outputs": [],
   "source": [
    "p1 = Point()\n",
    "p2 = Point(4,5)"
   ]
  },
  {
   "cell_type": "code",
   "execution_count": 21,
   "id": "c4841de2",
   "metadata": {},
   "outputs": [
    {
     "name": "stdout",
     "output_type": "stream",
     "text": [
      "<7,9>\n"
     ]
    }
   ],
   "source": [
    "p3 = p1 + p2\n",
    "print(p3)"
   ]
  },
  {
   "cell_type": "code",
   "execution_count": 22,
   "id": "cfd38708",
   "metadata": {},
   "outputs": [
    {
     "name": "stdout",
     "output_type": "stream",
     "text": [
      "7 9\n"
     ]
    }
   ],
   "source": [
    "print(p3.x, p3.y)"
   ]
  },
  {
   "cell_type": "code",
   "execution_count": 23,
   "id": "5bc81634-cb36-47e9-a033-6f551fe4d01d",
   "metadata": {},
   "outputs": [],
   "source": [
    "p1 = Point()\n",
    "p2 = Point()"
   ]
  },
  {
   "cell_type": "code",
   "execution_count": 24,
   "id": "9d6ea8a6",
   "metadata": {},
   "outputs": [
    {
     "data": {
      "text/plain": [
       "False"
      ]
     },
     "execution_count": 24,
     "metadata": {},
     "output_type": "execute_result"
    }
   ],
   "source": [
    "p1 == p2"
   ]
  },
  {
   "cell_type": "markdown",
   "id": "705ee28a",
   "metadata": {
    "slideshow": {
     "slide_type": "subslide"
    }
   },
   "source": [
    "#### Exercise:\n",
    "\n",
    "```python\n",
    "class Point:\n",
    "    def __init__(self, x=3, y=4):\n",
    "        self.x = x\n",
    "        self.y = y\n",
    "    def __add__(self, other):\n",
    "        return Point(self.x+other.x, self.y+other.y)\n",
    "   \n",
    "```\n",
    "\n",
    "Customize the operator `==` for class `Point` to compare one instance of `Point` with another. If both the x and y coordinates are equal, `True` is returned, otherwise, `False` is returned. (hint: Define the method `__eq__(self, other)` to calculate `self == other`)\n",
    " \n",
    "> Raise your hand when you are done"
   ]
  },
  {
   "cell_type": "code",
   "execution_count": 25,
   "id": "4be0054b-c54b-4cf0-a03f-16c8eccf0d82",
   "metadata": {},
   "outputs": [],
   "source": [
    "class Point:\n",
    "    def __init__(self, x=3, y=4):\n",
    "        self.x = x\n",
    "        self.y = y\n",
    "    def __add__(self, other):\n",
    "        return Point(self.x+other.x, self.y+other.y)\n",
    "    def __eq__(self, other):\n",
    "        return self.x == other.x and self.y == other.y"
   ]
  },
  {
   "cell_type": "code",
   "execution_count": 26,
   "id": "1c46079f",
   "metadata": {},
   "outputs": [],
   "source": [
    "p1 = Point()\n",
    "p2 = Point(4,5)"
   ]
  },
  {
   "cell_type": "code",
   "execution_count": 27,
   "id": "5cf8f9f9",
   "metadata": {},
   "outputs": [
    {
     "data": {
      "text/plain": [
       "False"
      ]
     },
     "execution_count": 27,
     "metadata": {},
     "output_type": "execute_result"
    }
   ],
   "source": [
    "p1 == p2"
   ]
  },
  {
   "cell_type": "code",
   "execution_count": 28,
   "id": "4a20c858",
   "metadata": {},
   "outputs": [],
   "source": [
    "p1 = Point(4,5)\n",
    "p2 = Point(4,5)"
   ]
  },
  {
   "cell_type": "code",
   "execution_count": 29,
   "id": "3e53374c",
   "metadata": {},
   "outputs": [
    {
     "data": {
      "text/plain": [
       "True"
      ]
     },
     "execution_count": 29,
     "metadata": {},
     "output_type": "execute_result"
    }
   ],
   "source": [
    "p1 == p2"
   ]
  },
  {
   "cell_type": "markdown",
   "id": "43612034",
   "metadata": {
    "slideshow": {
     "slide_type": "subslide"
    }
   },
   "source": [
    "### Power of OOP\n",
    "\n",
    "* create our own classes of objects on top of Python’s basic classes\n",
    "* bundle together objects that share\n",
    "    * common attributes \n",
    "    * procedures that operate on those attributes\n",
    "* OOP models complex things as reproducible, simple structures\n",
    "* Reusable, OOP objects can be used across programs\n",
    "* Allows for class-specific behavior through polymorphism\n",
    "* Easier to debug, classes often contain all applicable information to them"
   ]
  }
 ],
 "metadata": {
  "celltoolbar": "Slideshow",
  "kernelspec": {
   "display_name": "Python 3 (ipykernel)",
   "language": "python",
   "name": "python3"
  },
  "language_info": {
   "codemirror_mode": {
    "name": "ipython",
    "version": 3
   },
   "file_extension": ".py",
   "mimetype": "text/x-python",
   "name": "python",
   "nbconvert_exporter": "python",
   "pygments_lexer": "ipython3",
   "version": "3.11.5"
  }
 },
 "nbformat": 4,
 "nbformat_minor": 5
}
