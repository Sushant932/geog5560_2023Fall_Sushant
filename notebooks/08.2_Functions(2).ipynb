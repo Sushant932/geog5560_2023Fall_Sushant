{
 "cells": [
  {
   "cell_type": "markdown",
   "id": "9fb08c74",
   "metadata": {
    "slideshow": {
     "slide_type": "slide"
    }
   },
   "source": [
    "# Introduction to Python for Open Source Geocomputation\n",
    "\n",
    "![python](pics/python-logo-master-v3-TM.png)\n",
    "\n",
    "* Instructor: Dr. Wei Kang\n",
    "\n",
    "Content:\n",
    "\n",
    "* Arguments in Functions\n",
    "    * positional\n",
    "    * keyword\n",
    "    * variable length arguments"
   ]
  },
  {
   "cell_type": "markdown",
   "id": "9f7b8cfc",
   "metadata": {
    "slideshow": {
     "slide_type": "slide"
    }
   },
   "source": [
    "# Functions \n",
    "\n",
    "Functions are ways we can extend Python by writing code to add functionality\n",
    "that we would like to **reuse**. \n",
    "\n",
    "<img src=\"pics/Function_anatomy-400.png\" width=\"300\">\n",
    "\n",
    "* Required:\n",
    "    * function keyword `def`\n",
    "    * function name \n",
    "    * solution: statements/expressions\n",
    "* Optional\n",
    "    * Argument(s) (input)/parameters\n",
    "        * Arguments: values passed to the function\n",
    "        * Parameters: variables in the function that were assigned to by arguments\n",
    "    * Return values (output)"
   ]
  },
  {
   "cell_type": "markdown",
   "id": "cd1465de",
   "metadata": {
    "slideshow": {
     "slide_type": "subslide"
    }
   },
   "source": [
    "## Function Argument Types\n",
    "\n",
    "* positional (what we have defined so far)\n",
    "* keyword\n",
    "* variable length positional\n",
    "* variable length keyword"
   ]
  },
  {
   "cell_type": "markdown",
   "id": "b3ffc9ef",
   "metadata": {
    "slideshow": {
     "slide_type": "subslide"
    }
   },
   "source": [
    "### Positional Arguments\n",
    "\n",
    "```python\n",
    "def power_positional(x, exponent):\n",
    "     return x**exponent\n",
    "```\n",
    "\n",
    "\n",
    "* The position of each positional argument is critical\n",
    "    * `power_positional(2,3)` is different from `power_positional(3,2)`\n",
    "    * the first argument passed in the funciton is assigned to the local variable `x`\n",
    "    * the second argument passed in the funciton is assigned to the local variable `exponent`\n",
    "* Positional arguments are **required** \n",
    "    * `power_positional(3)` will throw an error"
   ]
  },
  {
   "cell_type": "code",
   "execution_count": null,
   "id": "85d741f1",
   "metadata": {},
   "outputs": [],
   "source": [
    "def power_positional(x, exponent):\n",
    "     return x**exponent"
   ]
  },
  {
   "cell_type": "code",
   "execution_count": null,
   "id": "8a021310",
   "metadata": {},
   "outputs": [],
   "source": [
    "power_positional(2, 3)"
   ]
  },
  {
   "cell_type": "code",
   "execution_count": null,
   "id": "9dfd5413",
   "metadata": {},
   "outputs": [],
   "source": [
    "power_positional(3, 2)"
   ]
  },
  {
   "cell_type": "code",
   "execution_count": null,
   "id": "d0f10cb9",
   "metadata": {},
   "outputs": [],
   "source": [
    "power_positional(3)"
   ]
  },
  {
   "cell_type": "markdown",
   "id": "e3cd480f",
   "metadata": {
    "slideshow": {
     "slide_type": "subslide"
    }
   },
   "source": [
    "### Keyword Arguments\n",
    "\n",
    "\n",
    "```python\n",
    "def power_keyword(x=2, exponent=3):\n",
    "     return x**exponent\n",
    "```\n",
    "\n",
    "Keyword parameters can serve two uses:\n",
    "\n",
    "* Define default values for parameters\n",
    "* When we call functions in this way, the order (position) of the arguments can be changed"
   ]
  },
  {
   "cell_type": "code",
   "execution_count": null,
   "id": "2869f730",
   "metadata": {},
   "outputs": [],
   "source": [
    "def power_keyword(x=2, exponent=3):\n",
    "     return x**exponent"
   ]
  },
  {
   "cell_type": "code",
   "execution_count": null,
   "id": "2cadc412",
   "metadata": {},
   "outputs": [],
   "source": [
    "power_keyword() #default values 2,3 are used"
   ]
  },
  {
   "cell_type": "code",
   "execution_count": null,
   "id": "346f658d",
   "metadata": {},
   "outputs": [],
   "source": [
    "power_keyword(exponent=3, x=10)"
   ]
  },
  {
   "cell_type": "code",
   "execution_count": null,
   "id": "cb78203b",
   "metadata": {},
   "outputs": [],
   "source": [
    "power_keyword(x=2)"
   ]
  },
  {
   "cell_type": "markdown",
   "id": "e9add83b",
   "metadata": {},
   "source": [
    "We may pass the value to a keyword argument and leave the other one with default value"
   ]
  },
  {
   "cell_type": "code",
   "execution_count": null,
   "id": "48a58a74",
   "metadata": {},
   "outputs": [],
   "source": [
    "power_keyword(exponent=3)"
   ]
  },
  {
   "cell_type": "code",
   "execution_count": null,
   "id": "32f8357a",
   "metadata": {},
   "outputs": [],
   "source": [
    "def power_keyword(x=2, exponent=3):\n",
    "     return x**exponent"
   ]
  },
  {
   "cell_type": "code",
   "execution_count": null,
   "id": "a85ce148",
   "metadata": {},
   "outputs": [],
   "source": [
    "power_keyword(exponent=3, x=2)"
   ]
  },
  {
   "cell_type": "markdown",
   "id": "61576281",
   "metadata": {},
   "source": [
    "We can change the order of the keyword arguments"
   ]
  },
  {
   "cell_type": "code",
   "execution_count": null,
   "id": "951b729b",
   "metadata": {},
   "outputs": [],
   "source": [
    "power_keyword(2, 3)  "
   ]
  },
  {
   "cell_type": "markdown",
   "id": "82a88e47",
   "metadata": {},
   "source": [
    "We can also use the keywords implicitly and their positions explicitly"
   ]
  },
  {
   "cell_type": "code",
   "execution_count": null,
   "id": "c398144e",
   "metadata": {},
   "outputs": [],
   "source": [
    "def power_keyword(x=2, exponent=3):\n",
    "     return x**exponent"
   ]
  },
  {
   "cell_type": "code",
   "execution_count": null,
   "id": "eeef2fd3",
   "metadata": {},
   "outputs": [],
   "source": [
    "power_keyword(2, exponent=3)  "
   ]
  },
  {
   "cell_type": "code",
   "execution_count": null,
   "id": "a442e341",
   "metadata": {},
   "outputs": [],
   "source": [
    "power_keyword(x=2, 3)  "
   ]
  },
  {
   "cell_type": "markdown",
   "id": "b02b7c92",
   "metadata": {},
   "source": [
    "positional arguments have to come before the keyword arguments"
   ]
  },
  {
   "cell_type": "code",
   "execution_count": null,
   "id": "7ee4a383",
   "metadata": {},
   "outputs": [],
   "source": [
    "def power_keyword(x=2, exponent=3):\n",
    "     return x**exponent"
   ]
  },
  {
   "cell_type": "code",
   "execution_count": null,
   "id": "43a1e85d",
   "metadata": {},
   "outputs": [],
   "source": [
    "power_keyword(2, x=3) "
   ]
  },
  {
   "cell_type": "code",
   "execution_count": null,
   "id": "cf4fc847",
   "metadata": {},
   "outputs": [],
   "source": [
    "power_keyword(2, exponent=3) "
   ]
  },
  {
   "cell_type": "markdown",
   "id": "680b1299",
   "metadata": {
    "slideshow": {
     "slide_type": "subslide"
    }
   },
   "source": [
    "### Combining Positional and Keyword Arguments in Defining a function\n",
    "\n",
    "We can combine these two types of arguments in a defining a function\n",
    "\n",
    "* using positional arguments to specify **required** parameters\n",
    "* using keyword arguments to define **optional** parameters\n",
    "* positional arguments have to **precede** the keyword arguments.\n",
    "\n",
    "```python\n",
    "def power_combined(x, exponent=3):\n",
    "     return x**exponent\n",
    "```"
   ]
  },
  {
   "cell_type": "code",
   "execution_count": null,
   "id": "05d38c80",
   "metadata": {},
   "outputs": [],
   "source": [
    "def power_combined(x, exponent=3):\n",
    "     return x**exponent"
   ]
  },
  {
   "cell_type": "code",
   "execution_count": null,
   "id": "171742ce",
   "metadata": {},
   "outputs": [],
   "source": [
    "power_combined(2)"
   ]
  },
  {
   "cell_type": "code",
   "execution_count": null,
   "id": "99200cb0",
   "metadata": {},
   "outputs": [],
   "source": [
    "power_combined(2, 3)"
   ]
  },
  {
   "cell_type": "code",
   "execution_count": null,
   "id": "8cb093e4",
   "metadata": {},
   "outputs": [],
   "source": [
    "power_combined(7, 5)"
   ]
  },
  {
   "cell_type": "code",
   "execution_count": null,
   "id": "cab664d4",
   "metadata": {},
   "outputs": [],
   "source": [
    "power_combined(7, exponent=5)"
   ]
  },
  {
   "cell_type": "code",
   "execution_count": null,
   "id": "1771ff2f",
   "metadata": {},
   "outputs": [],
   "source": [
    "def power_combined(x=2, exponent):\n",
    "     return x**exponent"
   ]
  },
  {
   "cell_type": "markdown",
   "id": "1d3a2906",
   "metadata": {
    "slideshow": {
     "slide_type": "subslide"
    }
   },
   "source": [
    "### Group Exercise:\n",
    "\n",
    "Suppose the cover price of a book is $24.95, but bookstores get a 40\\% discount. Shipping costs \\\\$3 for the first copy and 75 cents for each additional copy. What is the total wholesale cost for 60 copies? Write a function `total_cost` with five arguments/parameters: \n",
    "\n",
    "* `price`: cover price of a book\n",
    "* `discount`: discount for each book\n",
    "* `shipping_first`: shipping cost for the first copy\n",
    "* `shipping_additional`: shipping cost for each additional copy\n",
    "* `copies`: number of copies to purchase\n",
    "\n",
    "`copies` and `price` are keyword arguments while the other three are positional arguments.\n",
    "\n",
    "> Once you complete the function, caculate the total cost for cover price (\\\\$24.95), discount(10\\%), shipping for first copy (\\\\$5) and each additional copy (\\\\$0.5), and copies (60)\n",
    "\n",
    "> raise your hand when you are done!\n"
   ]
  },
  {
   "cell_type": "code",
   "execution_count": null,
   "id": "dbcacdae",
   "metadata": {},
   "outputs": [],
   "source": [
    "def total_cost(discount, shipping_first, shipping_additional,\n",
    "              price=24.95, copies = 60):\n",
    "    return price*(1-discount)* copies + shipping_first + shipping_additional * (copies-1)"
   ]
  },
  {
   "cell_type": "code",
   "execution_count": null,
   "id": "1ac573ac",
   "metadata": {},
   "outputs": [],
   "source": [
    "total_cost(0.1, 5, 0.5)"
   ]
  },
  {
   "cell_type": "code",
   "execution_count": null,
   "id": "6cb64ca2",
   "metadata": {},
   "outputs": [],
   "source": [
    "total_cost(0.1, 5, 0.5, 24.95, 60)"
   ]
  },
  {
   "cell_type": "code",
   "execution_count": null,
   "id": "50eeec96",
   "metadata": {},
   "outputs": [],
   "source": [
    "total_cost(0.1, 5, 0.5, copies= 60, price = 24.95)"
   ]
  },
  {
   "cell_type": "code",
   "execution_count": null,
   "id": "89da9200",
   "metadata": {},
   "outputs": [],
   "source": [
    "def calc_total_cost(discount, shipping_first, shipping_additional, \n",
    "                    copies=60, price = 24.95):\n",
    "    total = price * (1-discount) * copies + (shipping_first+ (copies-1) * shipping_additional)\n",
    "    return total"
   ]
  },
  {
   "cell_type": "code",
   "execution_count": null,
   "id": "3ef4f27a",
   "metadata": {},
   "outputs": [],
   "source": [
    "calc_total_cost(0.1, 5, 0.5)"
   ]
  },
  {
   "cell_type": "code",
   "execution_count": null,
   "id": "8846608c",
   "metadata": {},
   "outputs": [],
   "source": [
    "calc_total_cost(0.1, 5, 0.5, 60, 24.95) "
   ]
  },
  {
   "cell_type": "code",
   "execution_count": null,
   "id": "b9b8b02e",
   "metadata": {},
   "outputs": [],
   "source": [
    "calc_total_cost(0.1, 5, 0.5, 100, 90) "
   ]
  },
  {
   "cell_type": "markdown",
   "id": "10488d49",
   "metadata": {
    "slideshow": {
     "slide_type": "subslide"
    }
   },
   "source": [
    "### Variable Length Positional Arguments\n",
    "\n",
    "```python\n",
    "def power_vapa(x,*names,exponent=2):\n",
    "    print('x: ',x)\n",
    "    print('exponent: ',exponent)\n",
    "    for name in names:\n",
    "        print(name)\n",
    "```\n",
    "\n",
    "* used to accept an undetermined (at definition time) number of positional arguments\n",
    "* they are tucked into a **tuple**\n",
    "* they have to come after positional arguments\n",
    "* they can come after keyword arguments"
   ]
  },
  {
   "cell_type": "code",
   "execution_count": null,
   "id": "d9501662",
   "metadata": {},
   "outputs": [],
   "source": [
    "def power_vapa(x,*names,exponent=2):\n",
    "    print('x: ',x)\n",
    "    print('exponent: ',exponent)\n",
    "    for name in names:\n",
    "        print(name)"
   ]
  },
  {
   "cell_type": "code",
   "execution_count": null,
   "id": "2308ec53",
   "metadata": {},
   "outputs": [],
   "source": [
    "power_vapa(2,3,6,7,7)"
   ]
  },
  {
   "cell_type": "code",
   "execution_count": null,
   "id": "239387fb",
   "metadata": {},
   "outputs": [],
   "source": [
    "power_vapa(2,3,6,7,7,10,2,3,1,243,254)"
   ]
  },
  {
   "cell_type": "markdown",
   "id": "d31e249e",
   "metadata": {},
   "source": [
    "keywords arguments can be omitted when calling the function"
   ]
  },
  {
   "cell_type": "code",
   "execution_count": null,
   "id": "1692f983",
   "metadata": {},
   "outputs": [],
   "source": [
    "def power_vapa(x,*names,exponent=2):\n",
    "    print('x: ',x)\n",
    "    print('exponent: ',exponent)\n",
    "    for name in names:\n",
    "        print(name)"
   ]
  },
  {
   "cell_type": "code",
   "execution_count": null,
   "id": "48e5a7a5",
   "metadata": {},
   "outputs": [],
   "source": [
    "power_vapa(2,3,6,7,7,exponent=100)"
   ]
  },
  {
   "cell_type": "markdown",
   "id": "9c60fa40",
   "metadata": {},
   "source": [
    "keywords arguments before Variable Length Positional Arguments?"
   ]
  },
  {
   "cell_type": "code",
   "execution_count": null,
   "id": "1cee740c",
   "metadata": {},
   "outputs": [],
   "source": [
    "def power_vapa_r(x,exponent=2,*names):\n",
    "    print('x: ',x)\n",
    "    print('exponent: ',exponent)\n",
    "    for name in names:\n",
    "        print(name)"
   ]
  },
  {
   "cell_type": "code",
   "execution_count": null,
   "id": "299192c1",
   "metadata": {},
   "outputs": [],
   "source": [
    "power_vapa_r(2,3,6,7,7)"
   ]
  },
  {
   "cell_type": "markdown",
   "id": "a5b01ccc",
   "metadata": {},
   "source": [
    "if keywords arguments comes before Variable Length Positional Arguments, they are treated as positional arguments and are required when calling the function"
   ]
  },
  {
   "cell_type": "code",
   "execution_count": null,
   "id": "5344f0c6",
   "metadata": {},
   "outputs": [],
   "source": [
    "power_vapa_r(2,3,\"python\", 6,7,7)"
   ]
  },
  {
   "cell_type": "markdown",
   "id": "44a2e41c",
   "metadata": {},
   "source": [
    "`print()` is a function that accepts Variable Length Positional Arguments"
   ]
  },
  {
   "cell_type": "code",
   "execution_count": null,
   "id": "6eaa9913",
   "metadata": {},
   "outputs": [],
   "source": [
    "print(1,2,3,4,\"happy\")"
   ]
  },
  {
   "cell_type": "code",
   "execution_count": null,
   "id": "e114e1f6",
   "metadata": {},
   "outputs": [],
   "source": [
    "print(1,23,4,5,2,3,52,3,\"astring\", [12])"
   ]
  },
  {
   "cell_type": "markdown",
   "id": "4d2778a3",
   "metadata": {
    "slideshow": {
     "slide_type": "subslide"
    }
   },
   "source": [
    "### Variable Length Keyword Arguments\n",
    "\n",
    "```python\n",
    "def power_vaka(x,exponent=2,**theRest):\n",
    "    print('x: ',x)\n",
    "    print('exponent: ',exponent)\n",
    "    for key,value in theRest.items():\n",
    "        print(key,value)\n",
    "```\n",
    "\n",
    "* used to accept an undetermined (at definition time) number of keyword arguments\n",
    "* they are tucked into a **dictionary**\n",
    "* they have to come after positional, Variable Length Positional Arguments, and keywords arguments"
   ]
  },
  {
   "cell_type": "code",
   "execution_count": 2,
   "id": "d45966c7",
   "metadata": {},
   "outputs": [],
   "source": [
    "def power_vaka(x,exponent=2,**theRest):\n",
    "    print('x: ',x)\n",
    "    print('exponent: ',exponent)\n",
    "    for key,value in theRest.items():\n",
    "        print(key,value)"
   ]
  },
  {
   "cell_type": "code",
   "execution_count": 3,
   "id": "bc940c5e",
   "metadata": {},
   "outputs": [
    {
     "ename": "SyntaxError",
     "evalue": "invalid syntax (2878477854.py, line 1)",
     "output_type": "error",
     "traceback": [
      "\u001b[0;36m  Cell \u001b[0;32mIn[3], line 1\u001b[0;36m\u001b[0m\n\u001b[0;31m    def power_vaka(x,**theRest,exponent=2):\u001b[0m\n\u001b[0m                               ^\u001b[0m\n\u001b[0;31mSyntaxError\u001b[0m\u001b[0;31m:\u001b[0m invalid syntax\n"
     ]
    }
   ],
   "source": [
    "def power_vaka(x,**theRest,exponent=2):\n",
    "    print('x: ',x)\n",
    "    print('exponent: ',exponent)\n",
    "    for key,value in theRest.items():\n",
    "        print(key,value)"
   ]
  },
  {
   "cell_type": "code",
   "execution_count": 5,
   "id": "57336f50",
   "metadata": {},
   "outputs": [
    {
     "data": {
      "text/plain": [
       "{'university': 'UNT', 'state': 'TX'}"
      ]
     },
     "execution_count": 5,
     "metadata": {},
     "output_type": "execute_result"
    }
   ],
   "source": [
    "theRest = dict([(\"university\", \"UNT\"),(\"state\",\"TX\")])\n",
    "theRest"
   ]
  },
  {
   "cell_type": "code",
   "execution_count": 6,
   "id": "f36eb55d",
   "metadata": {},
   "outputs": [],
   "source": [
    "def power_vaka(x,exponent=2,**theRest):\n",
    "    print('x: ',x)\n",
    "    print('exponent: ',exponent)\n",
    "    for key,value in theRest.items():\n",
    "        print(key,value)"
   ]
  },
  {
   "cell_type": "code",
   "execution_count": 7,
   "id": "db3f1134",
   "metadata": {},
   "outputs": [
    {
     "name": "stdout",
     "output_type": "stream",
     "text": [
      "x:  3\n",
      "exponent:  2\n",
      "university UNT\n",
      "state TX\n"
     ]
    }
   ],
   "source": [
    "power_vaka(3,university=\"UNT\", state=\"TX\")"
   ]
  },
  {
   "cell_type": "code",
   "execution_count": 8,
   "id": "13bbc085",
   "metadata": {},
   "outputs": [
    {
     "name": "stdout",
     "output_type": "stream",
     "text": [
      "x:  3\n",
      "exponent:  22\n",
      "university UNT\n",
      "state TX\n"
     ]
    }
   ],
   "source": [
    "power_vaka(3,22, university=\"UNT\", state=\"TX\")"
   ]
  },
  {
   "cell_type": "code",
   "execution_count": 9,
   "id": "42b063d6",
   "metadata": {},
   "outputs": [
    {
     "ename": "TypeError",
     "evalue": "power_vaka() got multiple values for argument 'exponent'",
     "output_type": "error",
     "traceback": [
      "\u001b[0;31m---------------------------------------------------------------------------\u001b[0m",
      "\u001b[0;31mTypeError\u001b[0m                                 Traceback (most recent call last)",
      "Cell \u001b[0;32mIn[9], line 1\u001b[0m\n\u001b[0;32m----> 1\u001b[0m \u001b[43mpower_vaka\u001b[49m\u001b[43m(\u001b[49m\u001b[38;5;241;43m3\u001b[39;49m\u001b[43m,\u001b[49m\u001b[38;5;241;43m22\u001b[39;49m\u001b[43m,\u001b[49m\u001b[43m \u001b[49m\u001b[43muniversity\u001b[49m\u001b[38;5;241;43m=\u001b[39;49m\u001b[38;5;124;43m\"\u001b[39;49m\u001b[38;5;124;43mUNT\u001b[39;49m\u001b[38;5;124;43m\"\u001b[39;49m\u001b[43m,\u001b[49m\u001b[43m \u001b[49m\u001b[43mstate\u001b[49m\u001b[38;5;241;43m=\u001b[39;49m\u001b[38;5;124;43m\"\u001b[39;49m\u001b[38;5;124;43mTX\u001b[39;49m\u001b[38;5;124;43m\"\u001b[39;49m\u001b[43m,\u001b[49m\u001b[43m \u001b[49m\u001b[43mexponent\u001b[49m\u001b[38;5;241;43m=\u001b[39;49m\u001b[38;5;241;43m10\u001b[39;49m\u001b[43m)\u001b[49m\n",
      "\u001b[0;31mTypeError\u001b[0m: power_vaka() got multiple values for argument 'exponent'"
     ]
    }
   ],
   "source": [
    "power_vaka(3,22, university=\"UNT\", state=\"TX\", exponent=10)"
   ]
  },
  {
   "cell_type": "markdown",
   "id": "6d974a43",
   "metadata": {},
   "source": [
    "Mixing Variable Length Keyword and positional Arguments in one function"
   ]
  },
  {
   "cell_type": "code",
   "execution_count": 10,
   "id": "c559a581",
   "metadata": {},
   "outputs": [],
   "source": [
    "def power_vapkam(x,*names, exponent=2, **theRest):\n",
    "    print('x: ',x)\n",
    "    print('exponent: ',exponent)\n",
    "    for a in names:\n",
    "        print(a)\n",
    "    for key,value in theRest.items():\n",
    "        print(key,value)"
   ]
  },
  {
   "cell_type": "code",
   "execution_count": 11,
   "id": "1d7fdb8c",
   "metadata": {},
   "outputs": [
    {
     "name": "stdout",
     "output_type": "stream",
     "text": [
      "x:  3\n",
      "exponent:  2\n",
      "2\n",
      "python\n",
      "1\n",
      "23\n",
      "university UNT\n",
      "state TX\n"
     ]
    }
   ],
   "source": [
    "power_vapkam(3,2, \"python\", 1,23, university=\"UNT\", state=\"TX\")"
   ]
  },
  {
   "cell_type": "code",
   "execution_count": 12,
   "id": "d69604cd",
   "metadata": {},
   "outputs": [
    {
     "name": "stdout",
     "output_type": "stream",
     "text": [
      "x:  3\n",
      "exponent:  2\n",
      "10\n",
      "python\n",
      "1\n",
      "23\n",
      "university UNT\n",
      "state TX\n"
     ]
    }
   ],
   "source": [
    "power_vapkam(3,10, \"python\", 1,23, university=\"UNT\", state=\"TX\")"
   ]
  },
  {
   "cell_type": "code",
   "execution_count": 13,
   "id": "4c3c85e7",
   "metadata": {},
   "outputs": [
    {
     "name": "stdout",
     "output_type": "stream",
     "text": [
      "x:  3\n",
      "exponent:  10\n",
      "10\n",
      "python\n",
      "1\n",
      "23\n",
      "university UNT\n",
      "state TX\n"
     ]
    }
   ],
   "source": [
    "power_vapkam(3,10, \"python\", 1,23, exponent=10, university=\"UNT\", state=\"TX\")"
   ]
  },
  {
   "cell_type": "code",
   "execution_count": 14,
   "id": "37877b6f",
   "metadata": {},
   "outputs": [
    {
     "name": "stdout",
     "output_type": "stream",
     "text": [
      "x:  3\n",
      "exponent:  10\n",
      "10\n",
      "python\n",
      "1\n",
      "23\n",
      "university UNT\n",
      "state TX\n"
     ]
    }
   ],
   "source": [
    "power_vapkam(3,10, \"python\", 1,23, university=\"UNT\", state=\"TX\",exponent=10)"
   ]
  },
  {
   "cell_type": "code",
   "execution_count": 15,
   "id": "00fcdc77",
   "metadata": {},
   "outputs": [],
   "source": [
    "def power_vapka(x,exponent=2, *names, **theRest):\n",
    "    print('x: ',x)\n",
    "    print('exponent: ',exponent)\n",
    "    for a in names:\n",
    "        print(a)\n",
    "    for key,value in theRest.items():\n",
    "        print(key,value)"
   ]
  },
  {
   "cell_type": "code",
   "execution_count": 16,
   "id": "aa4ecb5a",
   "metadata": {},
   "outputs": [
    {
     "name": "stdout",
     "output_type": "stream",
     "text": [
      "x:  3\n",
      "exponent:  2\n",
      "python\n",
      "1\n",
      "23\n",
      "university UNT\n",
      "state TX\n"
     ]
    }
   ],
   "source": [
    "power_vapka(3,2, \"python\", 1,23, university=\"UNT\", state=\"TX\")"
   ]
  },
  {
   "cell_type": "code",
   "execution_count": 17,
   "id": "8d304d9e",
   "metadata": {},
   "outputs": [
    {
     "name": "stdout",
     "output_type": "stream",
     "text": [
      "x:  3\n",
      "exponent:  10\n",
      "python\n",
      "1\n",
      "23\n",
      "university UNT\n",
      "state TX\n"
     ]
    }
   ],
   "source": [
    "power_vapka(3,10, \"python\", 1,23, university=\"UNT\", state=\"TX\")"
   ]
  },
  {
   "cell_type": "markdown",
   "id": "06803861",
   "metadata": {
    "slideshow": {
     "slide_type": "subslide"
    }
   },
   "source": [
    "## global and local variables\n",
    "\n",
    "* Inside a function, variables and parameters are local\n",
    "    * it only exists inside the function.\n",
    "    * When the function terminates, the variables/paramters inside the function is destroyed. If we try to print it, we get an error."
   ]
  },
  {
   "cell_type": "code",
   "execution_count": 18,
   "id": "21bd6f5c",
   "metadata": {},
   "outputs": [],
   "source": [
    "def times2(number):\n",
    "    new_number = number * 2\n",
    "    return new_number"
   ]
  },
  {
   "cell_type": "code",
   "execution_count": 19,
   "id": "45721928",
   "metadata": {},
   "outputs": [
    {
     "ename": "NameError",
     "evalue": "name 'number' is not defined",
     "output_type": "error",
     "traceback": [
      "\u001b[0;31m---------------------------------------------------------------------------\u001b[0m",
      "\u001b[0;31mNameError\u001b[0m                                 Traceback (most recent call last)",
      "Cell \u001b[0;32mIn[19], line 1\u001b[0m\n\u001b[0;32m----> 1\u001b[0m \u001b[38;5;28mprint\u001b[39m(\u001b[43mnumber\u001b[49m)\n",
      "\u001b[0;31mNameError\u001b[0m: name 'number' is not defined"
     ]
    }
   ],
   "source": [
    "print(number)"
   ]
  },
  {
   "cell_type": "code",
   "execution_count": 20,
   "id": "9e8cef62",
   "metadata": {},
   "outputs": [
    {
     "ename": "NameError",
     "evalue": "name 'new_number' is not defined",
     "output_type": "error",
     "traceback": [
      "\u001b[0;31m---------------------------------------------------------------------------\u001b[0m",
      "\u001b[0;31mNameError\u001b[0m                                 Traceback (most recent call last)",
      "Cell \u001b[0;32mIn[20], line 1\u001b[0m\n\u001b[0;32m----> 1\u001b[0m \u001b[38;5;28mprint\u001b[39m(\u001b[43mnew_number\u001b[49m)\n",
      "\u001b[0;31mNameError\u001b[0m: name 'new_number' is not defined"
     ]
    }
   ],
   "source": [
    "print(new_number)"
   ]
  },
  {
   "cell_type": "markdown",
   "id": "ccf4b095",
   "metadata": {
    "slideshow": {
     "slide_type": "fragment"
    }
   },
   "source": [
    "The variables defined in the function exist only in its *namespace*.\n",
    "\n",
    "Here, in the *global namespace* we get a `NameError` when trying to access the variables `number` or `new_number` because they have only been defined within the `times2()` function.\n",
    "\n",
    "How about calling the function first?"
   ]
  },
  {
   "cell_type": "code",
   "execution_count": 21,
   "id": "755447e6",
   "metadata": {},
   "outputs": [],
   "source": [
    "def times2(number):\n",
    "    new_number = number * 2\n",
    "    return new_number"
   ]
  },
  {
   "cell_type": "code",
   "execution_count": 22,
   "id": "80434284",
   "metadata": {},
   "outputs": [
    {
     "data": {
      "text/plain": [
       "10"
      ]
     },
     "execution_count": 22,
     "metadata": {},
     "output_type": "execute_result"
    }
   ],
   "source": [
    "times2(number=5)"
   ]
  },
  {
   "cell_type": "code",
   "execution_count": 23,
   "id": "3ee405da",
   "metadata": {},
   "outputs": [
    {
     "ename": "NameError",
     "evalue": "name 'number' is not defined",
     "output_type": "error",
     "traceback": [
      "\u001b[0;31m---------------------------------------------------------------------------\u001b[0m",
      "\u001b[0;31mNameError\u001b[0m                                 Traceback (most recent call last)",
      "Cell \u001b[0;32mIn[23], line 1\u001b[0m\n\u001b[0;32m----> 1\u001b[0m \u001b[38;5;28mprint\u001b[39m(\u001b[43mnumber\u001b[49m)\n",
      "\u001b[0;31mNameError\u001b[0m: name 'number' is not defined"
     ]
    }
   ],
   "source": [
    "print(number)"
   ]
  },
  {
   "cell_type": "code",
   "execution_count": 24,
   "id": "2fccca9a",
   "metadata": {},
   "outputs": [
    {
     "ename": "NameError",
     "evalue": "name 'new_number' is not defined",
     "output_type": "error",
     "traceback": [
      "\u001b[0;31m---------------------------------------------------------------------------\u001b[0m",
      "\u001b[0;31mNameError\u001b[0m                                 Traceback (most recent call last)",
      "Cell \u001b[0;32mIn[24], line 1\u001b[0m\n\u001b[0;32m----> 1\u001b[0m \u001b[38;5;28mprint\u001b[39m(\u001b[43mnew_number\u001b[49m)\n",
      "\u001b[0;31mNameError\u001b[0m: name 'new_number' is not defined"
     ]
    }
   ],
   "source": [
    "print(new_number)"
   ]
  },
  {
   "cell_type": "markdown",
   "id": "bcf6d64b",
   "metadata": {
    "slideshow": {
     "slide_type": "subslide"
    }
   },
   "source": [
    "As you can see `number` is still not defined in the global namespace.\n",
    "\n",
    "Why does Python work this way?\n",
    "\n",
    "Well, as it turns out, the benefit of having a separate namespace for functions is that we can define a variable in the global namespace, such as `number` and not need to worry about its name within a function, or the use of a function changing its value.\n",
    "\n",
    "Inside the function, the value that is passed will be known as `number`, but modifying that value will not alter a variable of the same name in the global namespace.\n",
    "\n",
    "Let's have a look at another example using a modified `times2()` function we can call `times2v2()`."
   ]
  },
  {
   "cell_type": "code",
   "execution_count": 25,
   "id": "b9a209c0",
   "metadata": {},
   "outputs": [],
   "source": [
    "def times2v2(number):\n",
    "    number = number * 2\n",
    "    return number"
   ]
  },
  {
   "cell_type": "markdown",
   "id": "fefbeb40",
   "metadata": {},
   "source": [
    "Let's now define a variable `number` in the global namespace and use our function to multiply it by 2."
   ]
  },
  {
   "cell_type": "code",
   "execution_count": 26,
   "id": "edc77594",
   "metadata": {},
   "outputs": [],
   "source": [
    "number = 15"
   ]
  },
  {
   "cell_type": "code",
   "execution_count": 27,
   "id": "a4331827",
   "metadata": {},
   "outputs": [
    {
     "data": {
      "text/plain": [
       "30"
      ]
     },
     "execution_count": 27,
     "metadata": {},
     "output_type": "execute_result"
    }
   ],
   "source": [
    "times2v2(number)"
   ]
  },
  {
   "cell_type": "code",
   "execution_count": 28,
   "id": "d57df054",
   "metadata": {},
   "outputs": [
    {
     "data": {
      "text/plain": [
       "15"
      ]
     },
     "execution_count": 28,
     "metadata": {},
     "output_type": "execute_result"
    }
   ],
   "source": [
    "number"
   ]
  },
  {
   "cell_type": "markdown",
   "id": "a78dedf6",
   "metadata": {
    "slideshow": {
     "slide_type": "subslide"
    }
   },
   "source": [
    "As you can see, the value of the variable `number` in the global namespace was set to 15 and remains 15 after using the `times2v2()` function.\n",
    "\n",
    "Although there is a variable inside that function with the same name as the value in the global namespace, using the function assigns the value of `number` inside the function and manipulates that value only inside the function.\n",
    "\n",
    "```{caution}\n",
    "Be aware that it is possible to access variable values in functions that have been defined in the global namespace, even if the value is not passed to the function.\n",
    "This is because Python will search for variables defined with a given name first inside the function, and then outside the function (the search domain is known as the variable's *scope*).\n",
    "If such a value is found, it can be used by the function, which could be dangerous.\n",
    "```\n",
    "\n",
    "Let's look at an example of behavior in a function that may be unexpected."
   ]
  },
  {
   "cell_type": "code",
   "execution_count": 29,
   "id": "bc475ab8",
   "metadata": {},
   "outputs": [],
   "source": [
    "def times2v2plus(number):\n",
    "    number = number * 2 + value\n",
    "    return number"
   ]
  },
  {
   "cell_type": "code",
   "execution_count": 30,
   "id": "b5940d73",
   "metadata": {},
   "outputs": [
    {
     "ename": "NameError",
     "evalue": "name 'value' is not defined",
     "output_type": "error",
     "traceback": [
      "\u001b[0;31m---------------------------------------------------------------------------\u001b[0m",
      "\u001b[0;31mNameError\u001b[0m                                 Traceback (most recent call last)",
      "Cell \u001b[0;32mIn[30], line 1\u001b[0m\n\u001b[0;32m----> 1\u001b[0m \u001b[43mtimes2v2plus\u001b[49m\u001b[43m(\u001b[49m\u001b[38;5;241;43m1\u001b[39;49m\u001b[43m)\u001b[49m\n",
      "Cell \u001b[0;32mIn[29], line 2\u001b[0m, in \u001b[0;36mtimes2v2plus\u001b[0;34m(number)\u001b[0m\n\u001b[1;32m      1\u001b[0m \u001b[38;5;28;01mdef\u001b[39;00m \u001b[38;5;21mtimes2v2plus\u001b[39m(number):\n\u001b[0;32m----> 2\u001b[0m     number \u001b[38;5;241m=\u001b[39m number \u001b[38;5;241m*\u001b[39m \u001b[38;5;241m2\u001b[39m \u001b[38;5;241m+\u001b[39m \u001b[43mvalue\u001b[49m\n\u001b[1;32m      3\u001b[0m     \u001b[38;5;28;01mreturn\u001b[39;00m number\n",
      "\u001b[0;31mNameError\u001b[0m: name 'value' is not defined"
     ]
    }
   ],
   "source": [
    "times2v2plus(1)"
   ]
  },
  {
   "cell_type": "code",
   "execution_count": 31,
   "id": "ff9c6355",
   "metadata": {},
   "outputs": [],
   "source": [
    "value = 10"
   ]
  },
  {
   "cell_type": "code",
   "execution_count": 32,
   "id": "ca562543",
   "metadata": {},
   "outputs": [
    {
     "data": {
      "text/plain": [
       "12"
      ]
     },
     "execution_count": 32,
     "metadata": {},
     "output_type": "execute_result"
    }
   ],
   "source": [
    "times2v2plus(1)"
   ]
  },
  {
   "cell_type": "markdown",
   "id": "5a6b00aa",
   "metadata": {},
   "source": [
    "Although `value` was not passed to `times2v2plus()` it is defined in the global namespace and thus can be used by our example function.\n",
    "\n",
    "Be careful!"
   ]
  },
  {
   "cell_type": "code",
   "execution_count": 33,
   "id": "6beff080",
   "metadata": {},
   "outputs": [],
   "source": [
    "def times2v2plus(number):\n",
    "    value = value *2\n",
    "    number = number * 2 + value\n",
    "    return number"
   ]
  },
  {
   "cell_type": "code",
   "execution_count": 34,
   "id": "149bb04b",
   "metadata": {},
   "outputs": [
    {
     "ename": "UnboundLocalError",
     "evalue": "local variable 'value' referenced before assignment",
     "output_type": "error",
     "traceback": [
      "\u001b[0;31m---------------------------------------------------------------------------\u001b[0m",
      "\u001b[0;31mUnboundLocalError\u001b[0m                         Traceback (most recent call last)",
      "Cell \u001b[0;32mIn[34], line 1\u001b[0m\n\u001b[0;32m----> 1\u001b[0m \u001b[43mtimes2v2plus\u001b[49m\u001b[43m(\u001b[49m\u001b[38;5;241;43m1\u001b[39;49m\u001b[43m)\u001b[49m\n",
      "Cell \u001b[0;32mIn[33], line 2\u001b[0m, in \u001b[0;36mtimes2v2plus\u001b[0;34m(number)\u001b[0m\n\u001b[1;32m      1\u001b[0m \u001b[38;5;28;01mdef\u001b[39;00m \u001b[38;5;21mtimes2v2plus\u001b[39m(number):\n\u001b[0;32m----> 2\u001b[0m     value \u001b[38;5;241m=\u001b[39m \u001b[43mvalue\u001b[49m \u001b[38;5;241m*\u001b[39m\u001b[38;5;241m2\u001b[39m\n\u001b[1;32m      3\u001b[0m     number \u001b[38;5;241m=\u001b[39m number \u001b[38;5;241m*\u001b[39m \u001b[38;5;241m2\u001b[39m \u001b[38;5;241m+\u001b[39m value\n\u001b[1;32m      4\u001b[0m     \u001b[38;5;28;01mreturn\u001b[39;00m number\n",
      "\u001b[0;31mUnboundLocalError\u001b[0m: local variable 'value' referenced before assignment"
     ]
    }
   ],
   "source": [
    "times2v2plus(1)"
   ]
  },
  {
   "cell_type": "code",
   "execution_count": 35,
   "id": "5a6e85bb",
   "metadata": {},
   "outputs": [
    {
     "data": {
      "text/plain": [
       "10"
      ]
     },
     "execution_count": 35,
     "metadata": {},
     "output_type": "execute_result"
    }
   ],
   "source": [
    "value"
   ]
  },
  {
   "cell_type": "markdown",
   "id": "1dbb2c1f",
   "metadata": {},
   "source": [
    "We run into a UnboundLocalError because when we make an assignment to a variable in a scope (`value = value *2`), that variable becomes local to that scope and shadows any similarly named variable in the outer scope. Since(`value = value *2`) assigns a new value to `value`, the compiler recognizes it as a local variable. \n",
    "https://docs.python.org/3/faq/programming.html#why-am-i-getting-an-unboundlocalerror-when-the-variable-has-a-value"
   ]
  },
  {
   "cell_type": "markdown",
   "id": "88538737",
   "metadata": {
    "slideshow": {
     "slide_type": "subslide"
    }
   },
   "source": [
    "### Further reading on namespaces and variables scopes \n",
    "\n",
    "For those who are interested, more information about namespaces and variables scopes can be found on the [Real Python website](https://realpython.com/python-namespaces-scope/)."
   ]
  },
  {
   "cell_type": "markdown",
   "id": "0cbd0076",
   "metadata": {
    "slideshow": {
     "slide_type": "slide"
    }
   },
   "source": [
    "## Functions within a function\n",
    "\n",
    "An example: Calculate $a^2+b^2$"
   ]
  },
  {
   "cell_type": "code",
   "execution_count": 36,
   "id": "855bf1b7",
   "metadata": {},
   "outputs": [],
   "source": [
    "def square(a):\n",
    "    return a**2"
   ]
  },
  {
   "cell_type": "code",
   "execution_count": 37,
   "id": "56d90e13",
   "metadata": {},
   "outputs": [],
   "source": [
    "def calc(a, b):\n",
    "    return square(a) + square(b)"
   ]
  },
  {
   "cell_type": "code",
   "execution_count": 38,
   "id": "51fcb5bc",
   "metadata": {},
   "outputs": [
    {
     "data": {
      "text/plain": [
       "40100"
      ]
     },
     "execution_count": 38,
     "metadata": {},
     "output_type": "execute_result"
    }
   ],
   "source": [
    "calc(10, 200)"
   ]
  },
  {
   "cell_type": "markdown",
   "id": "dda572e4",
   "metadata": {
    "slideshow": {
     "slide_type": "slide"
    }
   },
   "source": [
    "## Function docstrings\n",
    "\n",
    "\n",
    "A docstring is a string that starts on the first new line immediately after the declaration of a function or a class. Like the body of the function or class, the docstring must be indented 4 spaces. Typically, a docstring is contained within a block string, set off by tripe quotes \"\"\""
   ]
  },
  {
   "cell_type": "code",
   "execution_count": 39,
   "id": "8d4c780f",
   "metadata": {},
   "outputs": [],
   "source": [
    "def function(x, y):\n",
    "    \"\"\"\n",
    "    A one-line summary that does not use variable names or the function name.\n",
    "    \n",
    "    Parameters\n",
    "    ----------\n",
    "    x : type\n",
    "        Description of parameter `x`.\n",
    "    y\n",
    "        Description of parameter `y` (with type not specified).\n",
    "        \n",
    "        \n",
    "    Returns\n",
    "    -------\n",
    "    err_code : int\n",
    "        Non-zero value indicates error code, or zero on success.\n",
    "    err_msg : str or None\n",
    "        Human readable error message, or None on success.\n",
    "    \"\"\"\n",
    "    pass"
   ]
  },
  {
   "cell_type": "code",
   "execution_count": 40,
   "id": "ba597160",
   "metadata": {},
   "outputs": [
    {
     "ename": "IndentationError",
     "evalue": "expected an indented block (2090633418.py, line 1)",
     "output_type": "error",
     "traceback": [
      "\u001b[0;36m  Cell \u001b[0;32mIn[40], line 1\u001b[0;36m\u001b[0m\n\u001b[0;31m    def function(x, y):\u001b[0m\n\u001b[0m                       ^\u001b[0m\n\u001b[0;31mIndentationError\u001b[0m\u001b[0;31m:\u001b[0m expected an indented block\n"
     ]
    }
   ],
   "source": [
    "def function(x, y):"
   ]
  },
  {
   "cell_type": "code",
   "execution_count": 41,
   "id": "04277068",
   "metadata": {},
   "outputs": [],
   "source": [
    "def function(x, y):\n",
    "    pass"
   ]
  },
  {
   "cell_type": "code",
   "execution_count": 42,
   "id": "ff3321ac",
   "metadata": {},
   "outputs": [],
   "source": [
    "function(1,2)"
   ]
  },
  {
   "cell_type": "code",
   "execution_count": 43,
   "id": "8d0e2629",
   "metadata": {},
   "outputs": [],
   "source": [
    "def determine_multiple(a):\n",
    "    \"\"\"Determine whether a given integer is a multiple of 2 or/and 3.\n",
    "    \n",
    "    Parameters\n",
    "    ----------\n",
    "    a : int\n",
    "        An integer.\n",
    "        \n",
    "    Return\n",
    "    ------\n",
    "      : str\n",
    "        Descriptions.\n",
    "    \n",
    "    \"\"\"\n",
    "    ### BEGIN SOLUTION\n",
    "    if a % 6 == 0:\n",
    "        return \"The number is a multiple of 6\"\n",
    "    elif a % 2 == 0:\n",
    "        return \"The number is a multiple of 2\"\n",
    "    elif a % 3 == 0:\n",
    "        return \"The number is a multiple of 3\"\n",
    "    else: \n",
    "        return \"The number is not a multiple of 2 or 3\"\n",
    "    ### END SOLUTION"
   ]
  },
  {
   "cell_type": "code",
   "execution_count": null,
   "id": "3d7a3dcf",
   "metadata": {},
   "outputs": [],
   "source": [
    "determine_multiple?"
   ]
  }
 ],
 "metadata": {
  "kernelspec": {
   "display_name": "Python 3 (ipykernel)",
   "language": "python",
   "name": "python3"
  },
  "language_info": {
   "codemirror_mode": {
    "name": "ipython",
    "version": 3
   },
   "file_extension": ".py",
   "mimetype": "text/x-python",
   "name": "python",
   "nbconvert_exporter": "python",
   "pygments_lexer": "ipython3",
   "version": "3.9.18"
  }
 },
 "nbformat": 4,
 "nbformat_minor": 5
}
