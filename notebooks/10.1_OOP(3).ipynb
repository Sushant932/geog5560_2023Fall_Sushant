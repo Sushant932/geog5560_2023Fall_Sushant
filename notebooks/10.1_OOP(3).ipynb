{
 "cells": [
  {
   "cell_type": "markdown",
   "id": "f151fc6c",
   "metadata": {
    "slideshow": {
     "slide_type": "slide"
    }
   },
   "source": [
    "# Introduction to Python for Open Source Geocomputation\n",
    "\n",
    "![python](pics/python-logo-master-v3-TM.png)\n",
    "\n",
    "* Instructor: Dr. Wei Kang\n",
    "\n",
    "Content:\n",
    "\n",
    "* Class: parent and child classes\n",
    "* Inheritance\n",
    "* Review of OOP "
   ]
  },
  {
   "cell_type": "markdown",
   "id": "3b7aea40",
   "metadata": {
    "slideshow": {
     "slide_type": "slide"
    }
   },
   "source": [
    "# Overview of Class\n",
    "\n",
    "```python\n",
    "class Point:\n",
    "    def __init__(self, x=3, y=4):\n",
    "        self.x = x\n",
    "        self.y = y\n",
    "    \n",
    "    def translate(self, dx, dy):\n",
    "        '''\n",
    "        Translate the point dx units to the right and dy units up\n",
    "        '''\n",
    "        self.x = self.x + dx\n",
    "        self.y = self.y + dy\n",
    "        \n",
    "    def distance(self):\n",
    "        return (self.x**2 + self.y**2)**0.5\n",
    "    \n",
    "    def __str__(self):\n",
    "        return \"<\"+str(self.x)+\",\"+str(self.y)+\">\"\n",
    "    \n",
    "    def __add__(self, other):\n",
    "        return Point(self.x+other.x, self.y+other.y)\n",
    "    \n",
    "p1 = Point(1,2)\n",
    "p2 = Point()\n",
    "p1.translate(1,2)\n",
    "distance_p2 = p2.distance()\n",
    "print(p1)\n",
    "p3 = p1 + p2\n",
    "print(p3)\n",
    "```\n",
    "\n",
    "Class activity: discuss with your group members about the python program above for 5 minutes. \n",
    "* What does the program do? \n",
    "* What are the main compoents?\n",
    "    * What are the attributes?\n",
    "    * What are the methods? \n",
    "* What are the outputs?"
   ]
  },
  {
   "cell_type": "code",
   "execution_count": 1,
   "id": "3b792f1c",
   "metadata": {},
   "outputs": [
    {
     "name": "stdout",
     "output_type": "stream",
     "text": [
      "5.0\n",
      "<2,4>\n",
      "<5,8>\n"
     ]
    }
   ],
   "source": [
    "class Point:\n",
    "    def __init__(self, x=3, y=4):\n",
    "        self.x = x\n",
    "        self.y = y\n",
    "    \n",
    "    def translate(self, dx, dy):\n",
    "        '''\n",
    "        Translate the point dx units to the right and dy units up\n",
    "        '''\n",
    "        self.x = self.x + dx\n",
    "        self.y = self.y + dy\n",
    "        \n",
    "    def distance(self):\n",
    "        return (self.x**2 + self.y**2)**0.5\n",
    "    \n",
    "    def __str__(self):\n",
    "        return \"<\"+str(self.x)+\",\"+str(self.y)+\">\"\n",
    "    \n",
    "    def __add__(self, other):\n",
    "        return Point(self.x+other.x, self.y+other.y)\n",
    "    \n",
    "p1 = Point(1,2)\n",
    "p2 = Point()\n",
    "p1.translate(1,2)\n",
    "distance_p2 = p2.distance()\n",
    "print(distance_p2)\n",
    "print(p1)\n",
    "p3 = p1 + p2\n",
    "print(p3)"
   ]
  },
  {
   "cell_type": "code",
   "execution_count": 2,
   "id": "23151b8f",
   "metadata": {},
   "outputs": [
    {
     "name": "stdout",
     "output_type": "stream",
     "text": [
      "<2,4>\n"
     ]
    }
   ],
   "source": [
    "print(p1)"
   ]
  },
  {
   "cell_type": "code",
   "execution_count": 3,
   "id": "6f2118bc",
   "metadata": {},
   "outputs": [],
   "source": [
    "vary = p1.translate(1,2)"
   ]
  },
  {
   "cell_type": "code",
   "execution_count": 4,
   "id": "9af7ea36",
   "metadata": {},
   "outputs": [
    {
     "name": "stdout",
     "output_type": "stream",
     "text": [
      "<3,6>\n"
     ]
    }
   ],
   "source": [
    "print(p1)"
   ]
  },
  {
   "cell_type": "markdown",
   "id": "cecd9542",
   "metadata": {
    "slideshow": {
     "slide_type": "slide"
    }
   },
   "source": [
    "## Class and Inheritance in OOP\n",
    "\n",
    "<img src=\"pics/inheritance.png\" width=400 />\n",
    "\n",
    "\n",
    "* Inheritance: How attributes and methods of a **parent class** are passed down to **offspring classes**\n",
    "* Derivation: The creation of subclasses, which are new classes which retain the data and\n",
    "    functionality of the existing class, but permit additional modificatin and\n",
    "    customization\n",
    "* Hierarchy: Multiple generations of derivation. "
   ]
  },
  {
   "cell_type": "markdown",
   "id": "190985d6",
   "metadata": {
    "slideshow": {
     "slide_type": "subslide"
    }
   },
   "source": [
    "## Hierarchies\n",
    "\n",
    "<img src=\"pics/inheritance.png\" width=400 />\n",
    "\n",
    "* parent class (superclass)\n",
    "* child class (subclass)\n",
    "    * inherits all attributes and methods of parent class\n",
    "    * add more info (attributes)\n",
    "    * add more behavior (methods)\n",
    "    * override behavior"
   ]
  },
  {
   "cell_type": "markdown",
   "id": "b66416de",
   "metadata": {
    "slideshow": {
     "slide_type": "subslide"
    }
   },
   "source": [
    "### Inheritance: parent class\n",
    "\n",
    "```python\n",
    "class Animal:\n",
    "    def __init__(self, age):\n",
    "        self.age = age\n",
    "        self.name = None \n",
    "    def __str__(self):\n",
    "        return \"animal:\" + str(self.name)+\":\"+str(self.age)\n",
    "```\n",
    "\n",
    "* defining a class `Animal`\n",
    "* two attributes: `age`, `name`\n",
    "    * The `None` keyword is used to define a null value, or no value at all. `None` is not the same as 0, False, or an empty string. `None` is a data type of its own (NoneType) and only `None` can be None.\n",
    "* customize `print()` function with the definition of `__str__`"
   ]
  },
  {
   "cell_type": "code",
   "execution_count": 5,
   "id": "1cfd6b46",
   "metadata": {},
   "outputs": [],
   "source": [
    "class Animal:\n",
    "    def __init__(self, age):\n",
    "        self.age = age\n",
    "        self.name = None\n",
    "    def __str__(self):\n",
    "        return \"animal:\" + str(self.name)+\":\"+str(self.age)"
   ]
  },
  {
   "cell_type": "code",
   "execution_count": 6,
   "id": "cd9e5031",
   "metadata": {},
   "outputs": [],
   "source": [
    "a1 = Animal(2)"
   ]
  },
  {
   "cell_type": "code",
   "execution_count": 7,
   "id": "98930ad8",
   "metadata": {},
   "outputs": [
    {
     "name": "stdout",
     "output_type": "stream",
     "text": [
      "animal:None:2\n"
     ]
    }
   ],
   "source": [
    "print(a1)"
   ]
  },
  {
   "cell_type": "markdown",
   "id": "b4a9d180",
   "metadata": {
    "slideshow": {
     "slide_type": "subslide"
    }
   },
   "source": [
    "### Inheritance: subclass `Cat`\n",
    "\n",
    "```python\n",
    "class Cat(Animal):\n",
    "    def speak(self):\n",
    "        print(\"meow\")\n",
    "    def __str__(self):\n",
    "        return \"cat:\" + str(self.name)+\":\"+str(self.age)\n",
    "```\n",
    "\n",
    "* defining a class `Cat` which inherits everything from the parent class `Animal`\n",
    "* `__init__` is not missing, uses the `Animal` version\n",
    "    * two attributes: `age`, `name`\n",
    "* add new functionality with `speak()`\n",
    "* override `__str__` to customize `print()` function to better work with `Cat`"
   ]
  },
  {
   "cell_type": "code",
   "execution_count": 8,
   "id": "c8842efe",
   "metadata": {},
   "outputs": [],
   "source": [
    "class Cat(Animal):\n",
    "    def speak(self):\n",
    "        print(\"meow\")\n",
    "    def __str__(self):\n",
    "        return \"cat:\" + str(self.name)+\":\"+str(self.age)"
   ]
  },
  {
   "cell_type": "code",
   "execution_count": 9,
   "id": "3d035f65",
   "metadata": {},
   "outputs": [
    {
     "name": "stdout",
     "output_type": "stream",
     "text": [
      "Help on class Cat in module __main__:\n",
      "\n",
      "class Cat(Animal)\n",
      " |  Cat(age)\n",
      " |  \n",
      " |  Method resolution order:\n",
      " |      Cat\n",
      " |      Animal\n",
      " |      builtins.object\n",
      " |  \n",
      " |  Methods defined here:\n",
      " |  \n",
      " |  __str__(self)\n",
      " |      Return str(self).\n",
      " |  \n",
      " |  speak(self)\n",
      " |  \n",
      " |  ----------------------------------------------------------------------\n",
      " |  Methods inherited from Animal:\n",
      " |  \n",
      " |  __init__(self, age)\n",
      " |      Initialize self.  See help(type(self)) for accurate signature.\n",
      " |  \n",
      " |  ----------------------------------------------------------------------\n",
      " |  Data descriptors inherited from Animal:\n",
      " |  \n",
      " |  __dict__\n",
      " |      dictionary for instance variables (if defined)\n",
      " |  \n",
      " |  __weakref__\n",
      " |      list of weak references to the object (if defined)\n",
      "\n"
     ]
    }
   ],
   "source": [
    "help(Cat)"
   ]
  },
  {
   "cell_type": "code",
   "execution_count": 10,
   "id": "8a93ec87",
   "metadata": {},
   "outputs": [],
   "source": [
    "c1 = Cat(1.5)"
   ]
  },
  {
   "cell_type": "code",
   "execution_count": 11,
   "id": "768cd0ed",
   "metadata": {},
   "outputs": [
    {
     "name": "stdout",
     "output_type": "stream",
     "text": [
      "cat:None:1.5\n"
     ]
    }
   ],
   "source": [
    "print(c1)"
   ]
  },
  {
   "cell_type": "code",
   "execution_count": 12,
   "id": "5df128f4",
   "metadata": {},
   "outputs": [
    {
     "name": "stdout",
     "output_type": "stream",
     "text": [
      "meow\n"
     ]
    }
   ],
   "source": [
    "c1.speak()"
   ]
  },
  {
   "cell_type": "code",
   "execution_count": 13,
   "id": "61e75fa8",
   "metadata": {},
   "outputs": [
    {
     "ename": "AttributeError",
     "evalue": "'Animal' object has no attribute 'speak'",
     "output_type": "error",
     "traceback": [
      "\u001b[0;31m---------------------------------------------------------------------------\u001b[0m",
      "\u001b[0;31mAttributeError\u001b[0m                            Traceback (most recent call last)",
      "Cell \u001b[0;32mIn[13], line 1\u001b[0m\n\u001b[0;32m----> 1\u001b[0m a1\u001b[38;5;241m.\u001b[39mspeak()\n",
      "\u001b[0;31mAttributeError\u001b[0m: 'Animal' object has no attribute 'speak'"
     ]
    }
   ],
   "source": [
    "a1.speak()"
   ]
  },
  {
   "cell_type": "markdown",
   "id": "07d9970c",
   "metadata": {
    "slideshow": {
     "slide_type": "subslide"
    }
   },
   "source": [
    "### Which method to use?\n",
    "\n",
    "<img src=\"pics/inheritance.png\" width=300 />\n",
    "\n",
    "* subclasses can have methods with same name as their superclass\n",
    "* for an instance of a class, look for a method name in **current** class definition\n",
    "    * if not found, look for method name up the hierarchy (in parent, then grandparent, and so on)\n",
    "    * use first method up the hierarchy that you found with that method name"
   ]
  },
  {
   "cell_type": "markdown",
   "id": "10cbc1a0",
   "metadata": {
    "slideshow": {
     "slide_type": "slide"
    }
   },
   "source": [
    "### Inheritance: subclass `Person`\n",
    "\n",
    "```python\n",
    "class Person(Animal):\n",
    "    def __init__(self, name, age, friends):\n",
    "        Animal.__init__(self, age)\n",
    "        self.name = name\n",
    "        self.friends = friends\n",
    "    \n",
    "    def speak(self):\n",
    "        print(\"Hello!\")\n",
    "    def __str__(self):\n",
    "        return \"person:\" + str(self.name)+\":\"+str(self.age)\n",
    "```\n",
    "\n",
    "* defining a class `Person` which inherits everything from the parent class `Animal`\n",
    "* `__init__` is overridden\n",
    "    * three attributes\n",
    "    * call `Animal`'s `__init__` method \n",
    "* add new functionality with `speak()`\n",
    "* override `__str__` to customize `print()` function to better work with `Person`"
   ]
  },
  {
   "cell_type": "code",
   "execution_count": 14,
   "id": "df8bc578",
   "metadata": {},
   "outputs": [],
   "source": [
    "class Person(Animal):\n",
    "    def __init__(self, name, age, friends):\n",
    "        Animal.__init__(self, age)\n",
    "        self.name = name\n",
    "        self.friends = friends\n",
    "    \n",
    "    def speak(self):\n",
    "        print(\"Hello!\")\n",
    "    def __str__(self):\n",
    "        return \"person:\" + str(self.name)+\":\"+str(self.age)+ \":\"+str(self.friends)"
   ]
  },
  {
   "cell_type": "code",
   "execution_count": 15,
   "id": "69737615",
   "metadata": {},
   "outputs": [],
   "source": [
    "p1 = Person(\"Peter\",23, [\"Hanna\", \"Wendy\"] )"
   ]
  },
  {
   "cell_type": "code",
   "execution_count": 16,
   "id": "8a386d82",
   "metadata": {},
   "outputs": [
    {
     "name": "stdout",
     "output_type": "stream",
     "text": [
      "person:Peter:23:['Hanna', 'Wendy']\n"
     ]
    }
   ],
   "source": [
    "print(p1)"
   ]
  },
  {
   "cell_type": "code",
   "execution_count": 17,
   "id": "5b99884e",
   "metadata": {},
   "outputs": [
    {
     "name": "stdout",
     "output_type": "stream",
     "text": [
      "Hello!\n"
     ]
    }
   ],
   "source": [
    "p1.speak()"
   ]
  },
  {
   "cell_type": "markdown",
   "id": "aed2e736",
   "metadata": {
    "slideshow": {
     "slide_type": "subslide"
    }
   },
   "source": [
    "#### Exercise:\n",
    "\n",
    "```python\n",
    "class Person(Animal):\n",
    "    def __init__(self, name, age, friends):\n",
    "        Animal.__init__(self, age)\n",
    "        self.name = name\n",
    "        self.friends = friends\n",
    "    \n",
    "    def speak(self):\n",
    "        print(\"Hello!\")\n",
    "    def __str__(self):\n",
    "        return \"person:\" + str(self.name)+\":\"+str(self.age)+ \":\"+str(self.friends)\n",
    "   \n",
    "```\n",
    "\n",
    "Define class `Student` which is a subclass of `Person` above. \n",
    "* Add another attribute `major` and instantiate its value in `__init__`. \n",
    "* Override `speak` method by printing out `I have homework`\n",
    "* Override `print` function so that it will print `student` instead of `person`\n",
    "\n",
    "> Raise your hand when you are done"
   ]
  },
  {
   "cell_type": "code",
   "execution_count": 18,
   "id": "b0a0ecec",
   "metadata": {},
   "outputs": [],
   "source": [
    "class Student(Person):\n",
    "    def __init__(self, name, age, friends, major_student):\n",
    "        Person.__init__(self, name, age, friends)\n",
    "        self.major = major_student\n",
    "    def speak(self):\n",
    "        print(\"I have homework\")\n",
    "    def talk(self):\n",
    "        self.speak()\n",
    "    def __str__(self):\n",
    "        return \"student:\" + str(self.name)+\":\"+str(self.age)+ \":\"+str(self.friends) +\":\" + str(self.major)"
   ]
  },
  {
   "cell_type": "code",
   "execution_count": 19,
   "id": "7c9ffd4b",
   "metadata": {},
   "outputs": [],
   "source": [
    "s1 = Student(\"Jane\", 19, [\"Hanna\", \"Wendy\"], \"Geography\")"
   ]
  },
  {
   "cell_type": "code",
   "execution_count": 20,
   "id": "903ed4c7",
   "metadata": {},
   "outputs": [
    {
     "name": "stdout",
     "output_type": "stream",
     "text": [
      "I have homework\n"
     ]
    }
   ],
   "source": [
    "s1.speak()"
   ]
  },
  {
   "cell_type": "code",
   "execution_count": 21,
   "id": "82bffc02",
   "metadata": {},
   "outputs": [
    {
     "name": "stdout",
     "output_type": "stream",
     "text": [
      "I have homework\n"
     ]
    }
   ],
   "source": [
    "s1.talk()"
   ]
  },
  {
   "cell_type": "code",
   "execution_count": 22,
   "id": "91a38034",
   "metadata": {},
   "outputs": [
    {
     "name": "stdout",
     "output_type": "stream",
     "text": [
      "student:Jane:19:['Hanna', 'Wendy']:Geography\n"
     ]
    }
   ],
   "source": [
    "print(s1)"
   ]
  },
  {
   "cell_type": "markdown",
   "id": "dbc52646",
   "metadata": {
    "slideshow": {
     "slide_type": "subslide"
    }
   },
   "source": [
    "## OOP\n",
    "\n",
    "* create your own collections of data\n",
    "* organize information\n",
    "* division of work\n",
    "* access information in a consistent manner\n",
    "* add layers of complexity\n",
    "* like functions, classes are a mechanism for decomposition and abstraction in programming"
   ]
  },
  {
   "cell_type": "markdown",
   "id": "5d7cc06a",
   "metadata": {
    "slideshow": {
     "slide_type": "subslide"
    }
   },
   "source": [
    "### Characteristics of OOP\n",
    "\n",
    "![opp](pics/oop.png)"
   ]
  }
 ],
 "metadata": {
  "celltoolbar": "Slideshow",
  "kernelspec": {
   "display_name": "Python 3 (ipykernel)",
   "language": "python",
   "name": "python3"
  },
  "language_info": {
   "codemirror_mode": {
    "name": "ipython",
    "version": 3
   },
   "file_extension": ".py",
   "mimetype": "text/x-python",
   "name": "python",
   "nbconvert_exporter": "python",
   "pygments_lexer": "ipython3",
   "version": "3.11.5"
  }
 },
 "nbformat": 4,
 "nbformat_minor": 5
}
