{
 "cells": [
  {
   "cell_type": "markdown",
   "id": "02e1926a",
   "metadata": {
    "slideshow": {
     "slide_type": "slide"
    }
   },
   "source": [
    "# Introduction to Python for Open Source Geocomputation\n",
    "\n",
    "![python](pics/python-logo-master-v3-TM.png)\n",
    "\n",
    "* Instructor: Dr. Wei Kang\n",
    "\n",
    "Content:\n",
    "\n",
    "* Functions\n"
   ]
  },
  {
   "cell_type": "markdown",
   "id": "1b426807",
   "metadata": {
    "slideshow": {
     "slide_type": "slide"
    }
   },
   "source": [
    "# Functions - What is a function?\n",
    "\n",
    "Functions are ways we can extend Python by writing code to add functionality\n",
    "that we would like to **reuse**. \n",
    "\n",
    "* built-in functions: `print`, `help`\n",
    "* functions written by other developers and published in a package: `numpy.log`\n",
    "* user-defined functions"
   ]
  },
  {
   "cell_type": "code",
   "execution_count": 1,
   "id": "a572d0de",
   "metadata": {},
   "outputs": [
    {
     "name": "stdout",
     "output_type": "stream",
     "text": [
      "10\n"
     ]
    }
   ],
   "source": [
    "print(10)"
   ]
  },
  {
   "cell_type": "code",
   "execution_count": 2,
   "id": "92958f2b",
   "metadata": {},
   "outputs": [
    {
     "name": "stdout",
     "output_type": "stream",
     "text": [
      "Help on built-in function print in module builtins:\n",
      "\n",
      "print(*args, sep=' ', end='\\n', file=None, flush=False)\n",
      "    Prints the values to a stream, or to sys.stdout by default.\n",
      "    \n",
      "    sep\n",
      "      string inserted between values, default a space.\n",
      "    end\n",
      "      string appended after the last value, default a newline.\n",
      "    file\n",
      "      a file-like object (stream); defaults to the current sys.stdout.\n",
      "    flush\n",
      "      whether to forcibly flush the stream.\n",
      "\n"
     ]
    }
   ],
   "source": [
    "help(print)"
   ]
  },
  {
   "cell_type": "code",
   "execution_count": 3,
   "id": "f5a6c85e",
   "metadata": {},
   "outputs": [],
   "source": [
    "import numpy"
   ]
  },
  {
   "cell_type": "markdown",
   "id": "64e4263c",
   "metadata": {},
   "source": [
    "Defined variables in the `numpy` package:"
   ]
  },
  {
   "cell_type": "code",
   "execution_count": 4,
   "id": "98988747",
   "metadata": {},
   "outputs": [
    {
     "data": {
      "text/plain": [
       "inf"
      ]
     },
     "execution_count": 4,
     "metadata": {},
     "output_type": "execute_result"
    }
   ],
   "source": [
    "numpy.inf"
   ]
  },
  {
   "cell_type": "code",
   "execution_count": 5,
   "id": "70c44367",
   "metadata": {},
   "outputs": [
    {
     "data": {
      "text/plain": [
       "True"
      ]
     },
     "execution_count": 5,
     "metadata": {},
     "output_type": "execute_result"
    }
   ],
   "source": [
    "numpy.inf > 1000"
   ]
  },
  {
   "cell_type": "markdown",
   "id": "034f3b95",
   "metadata": {},
   "source": [
    "Defined functions in the `numpy` package:"
   ]
  },
  {
   "cell_type": "code",
   "execution_count": 6,
   "id": "95bb7cc5",
   "metadata": {},
   "outputs": [
    {
     "name": "stdout",
     "output_type": "stream",
     "text": [
      "Help on ufunc:\n",
      "\n",
      "log = <ufunc 'log'>\n",
      "    log(x, /, out=None, *, where=True, casting='same_kind', order='K', dtype=None, subok=True[, signature, extobj])\n",
      "    \n",
      "    Natural logarithm, element-wise.\n",
      "    \n",
      "    The natural logarithm `log` is the inverse of the exponential function,\n",
      "    so that `log(exp(x)) = x`. The natural logarithm is logarithm in base\n",
      "    `e`.\n",
      "    \n",
      "    Parameters\n",
      "    ----------\n",
      "    x : array_like\n",
      "        Input value.\n",
      "    out : ndarray, None, or tuple of ndarray and None, optional\n",
      "        A location into which the result is stored. If provided, it must have\n",
      "        a shape that the inputs broadcast to. If not provided or None,\n",
      "        a freshly-allocated array is returned. A tuple (possible only as a\n",
      "        keyword argument) must have length equal to the number of outputs.\n",
      "    where : array_like, optional\n",
      "        This condition is broadcast over the input. At locations where the\n",
      "        condition is True, the `out` array will be set to the ufunc result.\n",
      "        Elsewhere, the `out` array will retain its original value.\n",
      "        Note that if an uninitialized `out` array is created via the default\n",
      "        ``out=None``, locations within it where the condition is False will\n",
      "        remain uninitialized.\n",
      "    **kwargs\n",
      "        For other keyword-only arguments, see the\n",
      "        :ref:`ufunc docs <ufuncs.kwargs>`.\n",
      "    \n",
      "    Returns\n",
      "    -------\n",
      "    y : ndarray\n",
      "        The natural logarithm of `x`, element-wise.\n",
      "        This is a scalar if `x` is a scalar.\n",
      "    \n",
      "    See Also\n",
      "    --------\n",
      "    log10, log2, log1p, emath.log\n",
      "    \n",
      "    Notes\n",
      "    -----\n",
      "    Logarithm is a multivalued function: for each `x` there is an infinite\n",
      "    number of `z` such that `exp(z) = x`. The convention is to return the\n",
      "    `z` whose imaginary part lies in `(-pi, pi]`.\n",
      "    \n",
      "    For real-valued input data types, `log` always returns real output. For\n",
      "    each value that cannot be expressed as a real number or infinity, it\n",
      "    yields ``nan`` and sets the `invalid` floating point error flag.\n",
      "    \n",
      "    For complex-valued input, `log` is a complex analytical function that\n",
      "    has a branch cut `[-inf, 0]` and is continuous from above on it. `log`\n",
      "    handles the floating-point negative zero as an infinitesimal negative\n",
      "    number, conforming to the C99 standard.\n",
      "    \n",
      "    In the cases where the input has a negative real part and a very small\n",
      "    negative complex part (approaching 0), the result is so close to `-pi`\n",
      "    that it evaluates to exactly `-pi`.\n",
      "    \n",
      "    References\n",
      "    ----------\n",
      "    .. [1] M. Abramowitz and I.A. Stegun, \"Handbook of Mathematical Functions\",\n",
      "           10th printing, 1964, pp. 67.\n",
      "           https://personal.math.ubc.ca/~cbm/aands/page_67.htm\n",
      "    .. [2] Wikipedia, \"Logarithm\". https://en.wikipedia.org/wiki/Logarithm\n",
      "    \n",
      "    Examples\n",
      "    --------\n",
      "    >>> np.log([1, np.e, np.e**2, 0])\n",
      "    array([  0.,   1.,   2., -Inf])\n",
      "\n"
     ]
    }
   ],
   "source": [
    "help(numpy.log)"
   ]
  },
  {
   "cell_type": "code",
   "execution_count": 7,
   "id": "16235bb1",
   "metadata": {
    "slideshow": {
     "slide_type": "fragment"
    }
   },
   "outputs": [
    {
     "data": {
      "text/plain": [
       "2.302585092994046"
      ]
     },
     "execution_count": 7,
     "metadata": {},
     "output_type": "execute_result"
    }
   ],
   "source": [
    "numpy.log(10)"
   ]
  },
  {
   "cell_type": "markdown",
   "id": "932f0f04",
   "metadata": {
    "slideshow": {
     "slide_type": "subslide"
    }
   },
   "source": [
    "## Python Keywords\n",
    "\n",
    "* predefined and reserved words in python that have special meanings\n",
    "* used to define the syntax of the coding\n",
    "* cannot be used as an identifier, function, or variable name\n",
    "* All the keywords in python are written in lowercase except `True` and `False`."
   ]
  },
  {
   "cell_type": "markdown",
   "id": "6c4ec511-41a3-4b04-b091-b05cf932da15",
   "metadata": {
    "slideshow": {
     "slide_type": "subslide"
    }
   },
   "source": [
    "## Components of a user-defined function\n",
    "\n",
    "* Required:\n",
    "    * function keyword `def`\n",
    "    * function name and parentheses\n",
    "    * solution: statements/expressions\n",
    "* Optional\n",
    "    * parameters(s) (input)\n",
    "        * A parameter is the variable listed inside the parentheses in the function definition.\n",
    "    * `return` Statement (output)\n",
    "        * `return` followed by an optional return value\n",
    "        * immediately terminates a function execution and sends the return value back to the caller code\n",
    "    "
   ]
  },
  {
   "cell_type": "markdown",
   "id": "a5eef442",
   "metadata": {
    "slideshow": {
     "slide_type": "subslide"
    }
   },
   "source": [
    "### An example of a function\n",
    "\n",
    "```python\n",
    "def square(x):\n",
    "    return x*x\n",
    "```\n",
    "\n",
    "* ``def``: Python keyword for function definition\n",
    "* ``square``: function name\n",
    "* ``x``:  parameter\n",
    "* ``return``: what comes out of the function"
   ]
  },
  {
   "cell_type": "code",
   "execution_count": 8,
   "id": "58862daf",
   "metadata": {},
   "outputs": [],
   "source": [
    "def square(x):\n",
    "    return x*x"
   ]
  },
  {
   "cell_type": "code",
   "execution_count": 9,
   "id": "899c3493",
   "metadata": {},
   "outputs": [
    {
     "data": {
      "text/plain": [
       "100"
      ]
     },
     "execution_count": 9,
     "metadata": {},
     "output_type": "execute_result"
    }
   ],
   "source": [
    "square(10)"
   ]
  },
  {
   "cell_type": "code",
   "execution_count": 10,
   "id": "b1aafcae",
   "metadata": {},
   "outputs": [
    {
     "data": {
      "text/plain": [
       "function"
      ]
     },
     "execution_count": 10,
     "metadata": {},
     "output_type": "execute_result"
    }
   ],
   "source": [
    "type(square)"
   ]
  },
  {
   "cell_type": "markdown",
   "id": "156fbcb0",
   "metadata": {
    "slideshow": {
     "slide_type": "subslide"
    }
   },
   "source": [
    "### Function Calls\n",
    "\n",
    "Call the function `square` to calculate the square of 10?\n",
    "\n",
    "* function name\n",
    "* paratheses\n",
    "* argument(s): input\n",
    "    * An argument is the value that is sent to the function when it is called.\n",
    "    * Should match parameters in the function definition\n"
   ]
  },
  {
   "cell_type": "code",
   "execution_count": 11,
   "id": "5be7e154",
   "metadata": {
    "slideshow": {
     "slide_type": "fragment"
    }
   },
   "outputs": [
    {
     "data": {
      "text/plain": [
       "100"
      ]
     },
     "execution_count": 11,
     "metadata": {},
     "output_type": "execute_result"
    }
   ],
   "source": [
    "square(10)"
   ]
  },
  {
   "cell_type": "code",
   "execution_count": 12,
   "id": "b107950c",
   "metadata": {},
   "outputs": [
    {
     "data": {
      "text/plain": [
       "function"
      ]
     },
     "execution_count": 12,
     "metadata": {},
     "output_type": "execute_result"
    }
   ],
   "source": [
    "type(square)"
   ]
  },
  {
   "cell_type": "markdown",
   "id": "3cdddbf1",
   "metadata": {
    "slideshow": {
     "slide_type": "fragment"
    }
   },
   "source": [
    "The function `square` takes the argument of 10 and return the value of 100"
   ]
  },
  {
   "cell_type": "markdown",
   "id": "42e6f377",
   "metadata": {
    "slideshow": {
     "slide_type": "fragment"
    }
   },
   "source": [
    "We can also assign the returned value to a new variable"
   ]
  },
  {
   "cell_type": "code",
   "execution_count": 13,
   "id": "9dc32585",
   "metadata": {
    "slideshow": {
     "slide_type": "fragment"
    }
   },
   "outputs": [],
   "source": [
    "squared_10 = square(10)"
   ]
  },
  {
   "cell_type": "code",
   "execution_count": 14,
   "id": "4050fff3",
   "metadata": {},
   "outputs": [
    {
     "data": {
      "text/plain": [
       "100"
      ]
     },
     "execution_count": 14,
     "metadata": {},
     "output_type": "execute_result"
    }
   ],
   "source": [
    "squared_10"
   ]
  },
  {
   "cell_type": "code",
   "execution_count": 15,
   "id": "218ba32b",
   "metadata": {},
   "outputs": [
    {
     "data": {
      "text/plain": [
       "int"
      ]
     },
     "execution_count": 15,
     "metadata": {},
     "output_type": "execute_result"
    }
   ],
   "source": [
    "type(squared_10)"
   ]
  },
  {
   "cell_type": "code",
   "execution_count": 16,
   "id": "e14572c9",
   "metadata": {},
   "outputs": [
    {
     "data": {
      "text/plain": [
       "int"
      ]
     },
     "execution_count": 16,
     "metadata": {},
     "output_type": "execute_result"
    }
   ],
   "source": [
    "type(square(10))"
   ]
  },
  {
   "cell_type": "code",
   "execution_count": 17,
   "id": "fc3dff9e",
   "metadata": {},
   "outputs": [
    {
     "data": {
      "text/plain": [
       "function"
      ]
     },
     "execution_count": 17,
     "metadata": {},
     "output_type": "execute_result"
    }
   ],
   "source": [
    "type(square)"
   ]
  },
  {
   "cell_type": "markdown",
   "id": "8b07f525",
   "metadata": {
    "slideshow": {
     "slide_type": "subslide"
    }
   },
   "source": [
    "### Difference between `print` and `return` inside a function\n",
    "\n",
    "* `return`: sends the calculated value back to the caller code\n",
    "    * `return` is a keyword\n",
    "    * `return 1`\n",
    "* `print`: display formatted messages onto the screen \n",
    "    * `print` is a function\n",
    "    * `print(1)`"
   ]
  },
  {
   "cell_type": "code",
   "execution_count": 18,
   "id": "295d943c",
   "metadata": {},
   "outputs": [],
   "source": [
    "def square(x):\n",
    "    return x*x"
   ]
  },
  {
   "cell_type": "code",
   "execution_count": 19,
   "id": "abf95393",
   "metadata": {},
   "outputs": [],
   "source": [
    "x_squared = square(10)"
   ]
  },
  {
   "cell_type": "code",
   "execution_count": 20,
   "id": "96a6fd29",
   "metadata": {},
   "outputs": [
    {
     "data": {
      "text/plain": [
       "100"
      ]
     },
     "execution_count": 20,
     "metadata": {},
     "output_type": "execute_result"
    }
   ],
   "source": [
    "x_squared"
   ]
  },
  {
   "cell_type": "code",
   "execution_count": 21,
   "id": "d7cb9466",
   "metadata": {},
   "outputs": [],
   "source": [
    "def square(x):\n",
    "    print(x*x)"
   ]
  },
  {
   "cell_type": "code",
   "execution_count": 22,
   "id": "cf695c8e",
   "metadata": {},
   "outputs": [
    {
     "name": "stdout",
     "output_type": "stream",
     "text": [
      "100\n"
     ]
    }
   ],
   "source": [
    "x_squared = square(10)"
   ]
  },
  {
   "cell_type": "code",
   "execution_count": 23,
   "id": "3ca34325",
   "metadata": {},
   "outputs": [],
   "source": [
    "x_squared"
   ]
  },
  {
   "cell_type": "code",
   "execution_count": 24,
   "id": "ce77365e",
   "metadata": {},
   "outputs": [
    {
     "data": {
      "text/plain": [
       "NoneType"
      ]
     },
     "execution_count": 24,
     "metadata": {},
     "output_type": "execute_result"
    }
   ],
   "source": [
    "type(x_squared)"
   ]
  },
  {
   "cell_type": "markdown",
   "id": "e3c5db63",
   "metadata": {
    "slideshow": {
     "slide_type": "subslide"
    }
   },
   "source": [
    "### Composition\n",
    "We can also use the function `square` on the returned value of `square`"
   ]
  },
  {
   "cell_type": "code",
   "execution_count": 25,
   "id": "aecb4655",
   "metadata": {},
   "outputs": [],
   "source": [
    "def square(x):\n",
    "    return x*x"
   ]
  },
  {
   "cell_type": "code",
   "execution_count": 26,
   "id": "25bf3ebb",
   "metadata": {
    "slideshow": {
     "slide_type": "fragment"
    }
   },
   "outputs": [
    {
     "data": {
      "text/plain": [
       "10000"
      ]
     },
     "execution_count": 26,
     "metadata": {},
     "output_type": "execute_result"
    }
   ],
   "source": [
    "square(square(10))"
   ]
  },
  {
   "cell_type": "code",
   "execution_count": 27,
   "id": "f5d03cca",
   "metadata": {
    "slideshow": {
     "slide_type": "fragment"
    }
   },
   "outputs": [
    {
     "data": {
      "text/plain": [
       "10000"
      ]
     },
     "execution_count": 27,
     "metadata": {},
     "output_type": "execute_result"
    }
   ],
   "source": [
    "squared_10 = square(10)\n",
    "square(squared_10)"
   ]
  },
  {
   "cell_type": "code",
   "execution_count": 28,
   "id": "ee465ca6",
   "metadata": {},
   "outputs": [
    {
     "data": {
      "text/plain": [
       "100000000"
      ]
     },
     "execution_count": 28,
     "metadata": {},
     "output_type": "execute_result"
    }
   ],
   "source": [
    "square_10 = 10\n",
    "for i in range(3):\n",
    "    square_10 = square(square_10)\n",
    "square_10"
   ]
  },
  {
   "cell_type": "markdown",
   "id": "27d31109",
   "metadata": {
    "slideshow": {
     "slide_type": "subslide"
    }
   },
   "source": [
    "## Void functions: no Return values\n",
    "\n",
    "```python\n",
    "def hello():\n",
    "    print(\"Hello World!\")\n",
    "```\n",
    "\n",
    "* What are the components of the function?\n",
    "* What components does this function have? \n",
    "* What components does this function not have? "
   ]
  },
  {
   "cell_type": "code",
   "execution_count": 29,
   "id": "2015dfcc",
   "metadata": {},
   "outputs": [],
   "source": [
    "def hello():\n",
    "    print(\"Hello World!\")"
   ]
  },
  {
   "cell_type": "code",
   "execution_count": 30,
   "id": "3586fd60",
   "metadata": {},
   "outputs": [
    {
     "name": "stdout",
     "output_type": "stream",
     "text": [
      "Hello World!\n"
     ]
    }
   ],
   "source": [
    "hello()"
   ]
  },
  {
   "cell_type": "code",
   "execution_count": 31,
   "id": "4fdc5327",
   "metadata": {},
   "outputs": [
    {
     "name": "stdout",
     "output_type": "stream",
     "text": [
      "Hello World!\n"
     ]
    }
   ],
   "source": [
    "b = hello()"
   ]
  },
  {
   "cell_type": "code",
   "execution_count": 32,
   "id": "4124aebe",
   "metadata": {},
   "outputs": [],
   "source": [
    "b"
   ]
  },
  {
   "cell_type": "code",
   "execution_count": 33,
   "id": "ff014a75",
   "metadata": {},
   "outputs": [
    {
     "data": {
      "text/plain": [
       "NoneType"
      ]
     },
     "execution_count": 33,
     "metadata": {},
     "output_type": "execute_result"
    }
   ],
   "source": [
    "type(b)"
   ]
  },
  {
   "cell_type": "code",
   "execution_count": 34,
   "id": "794b3047",
   "metadata": {},
   "outputs": [],
   "source": [
    "def hello():\n",
    "    return \"luck!\""
   ]
  },
  {
   "cell_type": "code",
   "execution_count": 35,
   "id": "856d58dc",
   "metadata": {},
   "outputs": [],
   "source": [
    "b = hello()"
   ]
  },
  {
   "cell_type": "code",
   "execution_count": 36,
   "id": "9d8d823f",
   "metadata": {},
   "outputs": [
    {
     "data": {
      "text/plain": [
       "'luck!'"
      ]
     },
     "execution_count": 36,
     "metadata": {},
     "output_type": "execute_result"
    }
   ],
   "source": [
    "b"
   ]
  },
  {
   "cell_type": "code",
   "execution_count": 37,
   "id": "f1b8141b",
   "metadata": {},
   "outputs": [
    {
     "data": {
      "text/plain": [
       "str"
      ]
     },
     "execution_count": 37,
     "metadata": {},
     "output_type": "execute_result"
    }
   ],
   "source": [
    "type(b)"
   ]
  },
  {
   "cell_type": "code",
   "execution_count": 38,
   "id": "1c86dcc7",
   "metadata": {},
   "outputs": [],
   "source": [
    "def hello():\n",
    "    return \"luck!\"\n",
    "    print(\"luck!\")"
   ]
  },
  {
   "cell_type": "code",
   "execution_count": 39,
   "id": "eb2388c8",
   "metadata": {},
   "outputs": [],
   "source": [
    "def hello():\n",
    "    print(\"luck!\")\n",
    "    return \"luck!\""
   ]
  },
  {
   "cell_type": "markdown",
   "id": "4b4f355a",
   "metadata": {
    "slideshow": {
     "slide_type": "fragment"
    }
   },
   "source": [
    "* ``def``: Python keyword for function definition\n",
    "* ``hello``: function name\n",
    "* ``print(\"Hello World!\")``: print statement"
   ]
  },
  {
   "cell_type": "markdown",
   "id": "1df630e9",
   "metadata": {
    "slideshow": {
     "slide_type": "subslide"
    }
   },
   "source": [
    "## Functions with more than 1 parameters\n",
    "\n",
    "```python\n",
    "def addition(x, y):\n",
    "    return x+y\n",
    "```"
   ]
  },
  {
   "cell_type": "code",
   "execution_count": 40,
   "id": "dce614cd",
   "metadata": {},
   "outputs": [],
   "source": [
    "def addition(x, y):\n",
    "    return x+y"
   ]
  },
  {
   "cell_type": "code",
   "execution_count": 41,
   "id": "1ef57aca",
   "metadata": {},
   "outputs": [
    {
     "data": {
      "text/plain": [
       "<function __main__.addition(x, y)>"
      ]
     },
     "execution_count": 41,
     "metadata": {},
     "output_type": "execute_result"
    }
   ],
   "source": [
    "addition"
   ]
  },
  {
   "cell_type": "code",
   "execution_count": 42,
   "id": "8c1ae128",
   "metadata": {},
   "outputs": [
    {
     "data": {
      "text/plain": [
       "3"
      ]
     },
     "execution_count": 42,
     "metadata": {},
     "output_type": "execute_result"
    }
   ],
   "source": [
    "addition(1,2)"
   ]
  },
  {
   "cell_type": "code",
   "execution_count": 43,
   "id": "82a4e83a",
   "metadata": {},
   "outputs": [
    {
     "data": {
      "text/plain": [
       "3"
      ]
     },
     "execution_count": 43,
     "metadata": {},
     "output_type": "execute_result"
    }
   ],
   "source": [
    "1+2"
   ]
  },
  {
   "cell_type": "code",
   "execution_count": 44,
   "id": "2aa159f3",
   "metadata": {},
   "outputs": [],
   "source": [
    "def deduction(x,y):\n",
    "    return x-y"
   ]
  },
  {
   "cell_type": "code",
   "execution_count": 45,
   "id": "a6807b1d",
   "metadata": {},
   "outputs": [
    {
     "data": {
      "text/plain": [
       "1"
      ]
     },
     "execution_count": 45,
     "metadata": {},
     "output_type": "execute_result"
    }
   ],
   "source": [
    "deduction(2,1)"
   ]
  },
  {
   "cell_type": "code",
   "execution_count": 46,
   "id": "92a1ce46",
   "metadata": {},
   "outputs": [
    {
     "data": {
      "text/plain": [
       "-1"
      ]
     },
     "execution_count": 46,
     "metadata": {},
     "output_type": "execute_result"
    }
   ],
   "source": [
    "deduction(1,2)"
   ]
  },
  {
   "cell_type": "code",
   "execution_count": 47,
   "id": "fd71c850",
   "metadata": {},
   "outputs": [],
   "source": [
    "def deduction_reverse(x,y):\n",
    "    return y-x"
   ]
  },
  {
   "cell_type": "code",
   "execution_count": 48,
   "id": "3db6683b",
   "metadata": {},
   "outputs": [
    {
     "data": {
      "text/plain": [
       "-1"
      ]
     },
     "execution_count": 48,
     "metadata": {},
     "output_type": "execute_result"
    }
   ],
   "source": [
    "deduction_reverse(2,1)"
   ]
  },
  {
   "cell_type": "code",
   "execution_count": 49,
   "id": "bcba9dc5",
   "metadata": {},
   "outputs": [
    {
     "ename": "NameError",
     "evalue": "name 'x' is not defined",
     "output_type": "error",
     "traceback": [
      "\u001b[0;31m---------------------------------------------------------------------------\u001b[0m",
      "\u001b[0;31mNameError\u001b[0m                                 Traceback (most recent call last)",
      "Cell \u001b[0;32mIn[49], line 1\u001b[0m\n\u001b[0;32m----> 1\u001b[0m \u001b[43mx\u001b[49m\n",
      "\u001b[0;31mNameError\u001b[0m: name 'x' is not defined"
     ]
    }
   ],
   "source": [
    "x"
   ]
  },
  {
   "cell_type": "code",
   "execution_count": null,
   "id": "af3554d0",
   "metadata": {},
   "outputs": [],
   "source": [
    "x = 10"
   ]
  },
  {
   "cell_type": "code",
   "execution_count": null,
   "id": "06d8dae9",
   "metadata": {},
   "outputs": [],
   "source": [
    "x"
   ]
  },
  {
   "cell_type": "code",
   "execution_count": null,
   "id": "fac55518",
   "metadata": {},
   "outputs": [],
   "source": [
    "def deduction_reverse(x,y):\n",
    "    x = 100\n",
    "    return y-x"
   ]
  },
  {
   "cell_type": "code",
   "execution_count": null,
   "id": "efd4c2b0",
   "metadata": {},
   "outputs": [],
   "source": [
    "deduction_reverse(x,1)"
   ]
  },
  {
   "cell_type": "code",
   "execution_count": null,
   "id": "77bfaacb",
   "metadata": {},
   "outputs": [],
   "source": [
    "x"
   ]
  },
  {
   "cell_type": "markdown",
   "id": "b5b3d8c8",
   "metadata": {
    "slideshow": {
     "slide_type": "subslide"
    }
   },
   "source": [
    "### Parameters/Arguments in a Function\n",
    "* order/position is important\n",
    "* local variables  - cannot be used outside the function"
   ]
  },
  {
   "cell_type": "markdown",
   "id": "221fd232",
   "metadata": {
    "slideshow": {
     "slide_type": "subslide"
    }
   },
   "source": [
    "### Group Exercise:\n",
    "\n",
    "Suppose the cover price of a book is \\\\$24.95, but bookstores get a 40\\% discount. Shipping costs \\\\$3 for the first copy and 75 cents for each additional copy. What is the total wholesale cost for 60 copies? 15 copies? 10000 copies?\n",
    "\n",
    "> how to automate our solution in a function? \n",
    "> What are the input (arguments)? How should we select the arguments?\n",
    "\n",
    "```python\n",
    "def total_costs(num_copies):\n",
    "    return\n",
    "```"
   ]
  },
  {
   "cell_type": "code",
   "execution_count": null,
   "id": "5658998d",
   "metadata": {},
   "outputs": [],
   "source": [
    "def total_costs(num_copies):\n",
    "    return (24.95 * (1-0.4) * num_copies) + (3 *1 + (num_copies-1) * 0.75)"
   ]
  },
  {
   "cell_type": "code",
   "execution_count": null,
   "id": "1d0d7478",
   "metadata": {},
   "outputs": [],
   "source": [
    "num_copies = 88"
   ]
  },
  {
   "cell_type": "code",
   "execution_count": null,
   "id": "a58bbcf6",
   "metadata": {},
   "outputs": [],
   "source": [
    "total_costs(num_copies)"
   ]
  },
  {
   "cell_type": "code",
   "execution_count": null,
   "id": "1c0a2340",
   "metadata": {},
   "outputs": [],
   "source": [
    "total_costs(99)"
   ]
  },
  {
   "cell_type": "code",
   "execution_count": null,
   "id": "652df631",
   "metadata": {},
   "outputs": [],
   "source": [
    "copies = 999"
   ]
  },
  {
   "cell_type": "code",
   "execution_count": null,
   "id": "d7cd484d",
   "metadata": {},
   "outputs": [],
   "source": [
    "total_costs(copies)"
   ]
  },
  {
   "cell_type": "code",
   "execution_count": null,
   "id": "46023190",
   "metadata": {},
   "outputs": [],
   "source": [
    "total_costs(999)"
   ]
  },
  {
   "cell_type": "code",
   "execution_count": null,
   "id": "bee59cd9",
   "metadata": {},
   "outputs": [],
   "source": [
    "def total_costs(num_copies, discount):\n",
    "#     num_copies = 60\n",
    "    return (24.95 * (1-discount) * num_copies) + (3 *1 + (num_copies-1) * 0.75)"
   ]
  },
  {
   "cell_type": "code",
   "execution_count": null,
   "id": "c9f8918a",
   "metadata": {},
   "outputs": [],
   "source": [
    "total_costs(99, 0.1)"
   ]
  },
  {
   "cell_type": "markdown",
   "id": "bdf0ac4a",
   "metadata": {
    "slideshow": {
     "slide_type": "slide"
    }
   },
   "source": [
    "## Good programming practice with functions - docstrings\n",
    "\n",
    "Numpy docstring guidlines <https://numpydoc.readthedocs.io/en/latest/format.html>\n",
    "\n",
    "* A one-line summary describing what the function does\n",
    "* Description of the function arguments and their respective types. (input)\n",
    "* Description of the function's returns and their respective types. (output)\n",
    "* Some examples (optional)"
   ]
  },
  {
   "cell_type": "code",
   "execution_count": null,
   "id": "403bdd14",
   "metadata": {},
   "outputs": [],
   "source": [
    "numpy.log?"
   ]
  },
  {
   "cell_type": "markdown",
   "id": "d8a97de1",
   "metadata": {
    "slideshow": {
     "slide_type": "slide"
    }
   },
   "source": [
    "## Abundant functions in Python\n",
    "\n",
    "* built-in function:\n",
    "    * ``type``: get an object's type\n",
    "    * ``int``: Convert a number or string to an integer\n",
    "* functions from built-in modules:\n",
    "    * import statement: ``import math`` creates a module object named math\n",
    "    * The ``math`` module object contains the functions and variables defined in the module\n",
    "    * how to access these functions or variables: dot notation (math.log)"
   ]
  },
  {
   "cell_type": "code",
   "execution_count": null,
   "id": "98a33697",
   "metadata": {},
   "outputs": [],
   "source": [
    "type(10)"
   ]
  },
  {
   "cell_type": "code",
   "execution_count": null,
   "id": "fd2fe211",
   "metadata": {},
   "outputs": [],
   "source": [
    "type(10.1)"
   ]
  },
  {
   "cell_type": "code",
   "execution_count": null,
   "id": "3e60fc99",
   "metadata": {},
   "outputs": [],
   "source": [
    "int(10.1)"
   ]
  },
  {
   "cell_type": "code",
   "execution_count": null,
   "id": "b2730247",
   "metadata": {},
   "outputs": [],
   "source": [
    "int(10.9)"
   ]
  },
  {
   "cell_type": "code",
   "execution_count": null,
   "id": "7c82b904",
   "metadata": {},
   "outputs": [],
   "source": [
    "import math\n",
    "dir(math)"
   ]
  },
  {
   "cell_type": "markdown",
   "id": "540b87ab",
   "metadata": {
    "slideshow": {
     "slide_type": "subslide"
    }
   },
   "source": [
    "### Variables and functions in the imported module"
   ]
  },
  {
   "cell_type": "code",
   "execution_count": null,
   "id": "ee56448b",
   "metadata": {
    "slideshow": {
     "slide_type": "fragment"
    }
   },
   "outputs": [],
   "source": [
    "math.pi"
   ]
  },
  {
   "cell_type": "markdown",
   "id": "55abf319",
   "metadata": {
    "slideshow": {
     "slide_type": "subslide"
    }
   },
   "source": [
    "### Group Exercise\n",
    "\n",
    "* calculate the smallest integer that is larger than $\\pi$\n",
    "* calculate the largest integer that is smaller than $\\pi$\n",
    "\n",
    "Hint: use the ``int`` function"
   ]
  },
  {
   "cell_type": "code",
   "execution_count": null,
   "id": "c1c692fa",
   "metadata": {
    "slideshow": {
     "slide_type": "fragment"
    }
   },
   "outputs": [],
   "source": [
    "int(math.pi)+1"
   ]
  },
  {
   "cell_type": "code",
   "execution_count": null,
   "id": "b384c7d6",
   "metadata": {
    "slideshow": {
     "slide_type": "fragment"
    }
   },
   "outputs": [],
   "source": [
    "int(math.pi)"
   ]
  },
  {
   "cell_type": "code",
   "execution_count": null,
   "id": "dc416244",
   "metadata": {},
   "outputs": [],
   "source": [
    "math.ceil?"
   ]
  },
  {
   "cell_type": "code",
   "execution_count": null,
   "id": "e4bf12f2",
   "metadata": {
    "slideshow": {
     "slide_type": "fragment"
    }
   },
   "outputs": [],
   "source": [
    "math.ceil(math.pi)"
   ]
  },
  {
   "cell_type": "markdown",
   "id": "6877107c",
   "metadata": {
    "slideshow": {
     "slide_type": "slide"
    }
   },
   "source": [
    "# HW1 (Programming Assignment)\n",
    "\n",
    "* Where: You will use your UNT EUID and password to login the Jupyter Hub https://jupyterhub.cas.unt.edu/ to complete the assignment and submit it. You need to make sure to connect to UNT VPN beforehand.\n",
    "* Four programming exercises \n",
    "    * complete the solution in a function\n",
    "    * the function is defined\n",
    "    * Use the test case to evaluate whether your solution is correct\n",
    "    * submit your completed work to the Jupyter Hub by 09/07/2023\n",
    "        * Do not submit multiple times as I can only see your last submission and submission time (risk of being considered as late work)\n",
    "        * 24-hour extension, no tokens needed\n",
    "        * Start early: getting an additional token by handing in an assignment at least 24 hours before its due date.\n",
    "    "
   ]
  },
  {
   "cell_type": "markdown",
   "id": "b8be9944",
   "metadata": {
    "slideshow": {
     "slide_type": "slide"
    }
   },
   "source": [
    "# Next Class\n",
    "\n",
    "Topics:\n",
    "\n",
    "* Numerical data types \n",
    "\n",
    "Readings: Chapter 5"
   ]
  },
  {
   "cell_type": "code",
   "execution_count": null,
   "id": "f440c2af",
   "metadata": {},
   "outputs": [],
   "source": []
  }
 ],
 "metadata": {
  "celltoolbar": "Slideshow",
  "kernelspec": {
   "display_name": "Python 3 (ipykernel)",
   "language": "python",
   "name": "python3"
  },
  "language_info": {
   "codemirror_mode": {
    "name": "ipython",
    "version": 3
   },
   "file_extension": ".py",
   "mimetype": "text/x-python",
   "name": "python",
   "nbconvert_exporter": "python",
   "pygments_lexer": "ipython3",
   "version": "3.11.0"
  }
 },
 "nbformat": 4,
 "nbformat_minor": 5
}
