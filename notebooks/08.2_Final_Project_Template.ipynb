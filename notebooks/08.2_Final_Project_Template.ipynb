{
 "cells": [
  {
   "cell_type": "markdown",
   "id": "bb0ef68e",
   "metadata": {},
   "source": [
    "# Project title: \n",
    "\n",
    "* Author: "
   ]
  },
  {
   "cell_type": "markdown",
   "id": "689197ed",
   "metadata": {},
   "source": [
    "## Abstract\n",
    "\n",
    "* Briefly introduce your project objective\n",
    "* how you design/implement this project with python (what external packages were used, what modules/functions/classes you wrote) \n",
    "* how your design and implementation makes project easier, faster, or more accurate"
   ]
  },
  {
   "cell_type": "markdown",
   "id": "aeeac475",
   "metadata": {},
   "source": [
    "## Introduction\n",
    "\n",
    "* What is your project objective? Describe the task you intend to accomplish using Python\n",
    "* Why is it important? \n",
    "    * how your proposed solution will make the task easier, faster, and/or more accurate\n",
    "    * why your task could not simply be accomplished using the \"out-of-the-box\" tools (e.g., from ArcGIS/QGIS), or why your script gives a particular advantage over those tools (e.g., iterations or conditionals are required)\n",
    "* What do you plan to do? "
   ]
  },
  {
   "cell_type": "markdown",
   "id": "828b5c7e",
   "metadata": {},
   "source": [
    "## Study area and data (optional)\n",
    "\n",
    "## Sample data"
   ]
  },
  {
   "cell_type": "markdown",
   "id": "c6bd1d76",
   "metadata": {},
   "source": [
    "## Project design\n",
    "\n",
    "* How do you divide and conquer? What are the components comprising the project and how do you plan to tackle each?\n",
    "* What external packages do you plan to use and why? What functions or classes are you going to write?  "
   ]
  },
  {
   "cell_type": "markdown",
   "id": "06a74926",
   "metadata": {},
   "source": [
    "## Results and discussion"
   ]
  },
  {
   "cell_type": "code",
   "execution_count": null,
   "id": "f1b59985",
   "metadata": {},
   "outputs": [],
   "source": [
    "import numpy as np"
   ]
  },
  {
   "cell_type": "markdown",
   "id": "c1ceb133",
   "metadata": {},
   "source": [
    "I will use the function from the external package `numpy` to generate a 1-dimensional array of length 3 below:"
   ]
  },
  {
   "cell_type": "code",
   "execution_count": null,
   "id": "4fe25a26",
   "metadata": {},
   "outputs": [],
   "source": [
    "np.zeros(3)"
   ]
  },
  {
   "cell_type": "markdown",
   "id": "9e71208d",
   "metadata": {},
   "source": [
    "I will call the function from my user-defined module `my_mod.py` to accomplish the task (describe your task):"
   ]
  },
  {
   "cell_type": "code",
   "execution_count": null,
   "id": "6216a048",
   "metadata": {},
   "outputs": [],
   "source": [
    "import my_mod"
   ]
  },
  {
   "cell_type": "code",
   "execution_count": null,
   "id": "2acf8473",
   "metadata": {},
   "outputs": [],
   "source": [
    "my_mod.my_function"
   ]
  },
  {
   "cell_type": "code",
   "execution_count": null,
   "id": "0ce99c5a",
   "metadata": {},
   "outputs": [],
   "source": [
    "my_mod.MyClass"
   ]
  },
  {
   "cell_type": "markdown",
   "id": "305abe9a",
   "metadata": {},
   "source": [
    "## Conclusions"
   ]
  },
  {
   "cell_type": "markdown",
   "id": "0dd2f061",
   "metadata": {},
   "source": [
    "## References (any citation style)"
   ]
  }
 ],
 "metadata": {
  "kernelspec": {
   "display_name": "Python 3 (ipykernel)",
   "language": "python",
   "name": "python3"
  },
  "language_info": {
   "codemirror_mode": {
    "name": "ipython",
    "version": 3
   },
   "file_extension": ".py",
   "mimetype": "text/x-python",
   "name": "python",
   "nbconvert_exporter": "python",
   "pygments_lexer": "ipython3",
   "version": "3.9.18"
  }
 },
 "nbformat": 4,
 "nbformat_minor": 5
}
