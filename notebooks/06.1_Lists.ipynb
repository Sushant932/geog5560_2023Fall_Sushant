{
 "cells": [
  {
   "cell_type": "markdown",
   "id": "f6f7754f",
   "metadata": {
    "slideshow": {
     "slide_type": "slide"
    }
   },
   "source": [
    "# Introduction to Python for Open Source Geocomputation\n",
    "\n",
    "![python](pics/python-logo-master-v3-TM.png)\n",
    "\n",
    "\n",
    "* Instructor: Dr. Wei Kang\n",
    "\n",
    "Content:\n",
    "\n",
    "* Lists - continued"
   ]
  },
  {
   "cell_type": "markdown",
   "id": "3aea84b0",
   "metadata": {
    "slideshow": {
     "slide_type": "slide"
    }
   },
   "source": [
    "# Standard Data Types in Python - lists\n",
    "\n",
    "| Category of Data type | Data type            | Example    |\n",
    "| -------------- | -------------------- | ---------- |\n",
    "| Numeric, scalar         | Integer| 1       |\n",
    "|        | Floats   | 1.2   |\n",
    "|          | Complex    | 1.5+0.5j  |\n",
    "|         | Booleans   | True    |\n",
    "| Container    | strings   | \"Hello World\"   |\n",
    "|     | List   | [1, \"Hello World\"]  |\n",
    "|     | Tuple   | (1, \"Hello World\")  |\n",
    "|     | Set   | {1, \"Hello World\"}   |\n",
    "|     | Dictionary   | {1: \"Hello World\", 2: 100} |"
   ]
  },
  {
   "cell_type": "markdown",
   "id": "90c2ebcb",
   "metadata": {
    "slideshow": {
     "slide_type": "slide"
    }
   },
   "source": [
    "## `in` operator with lists\n",
    "\n",
    "similar to the behavior when working with strings\n",
    "\n",
    "* Check whether an item/element occurs in a given list\n",
    "* Returns a boolean value"
   ]
  },
  {
   "cell_type": "markdown",
   "id": "a6096b17",
   "metadata": {
    "slideshow": {
     "slide_type": "subslide"
    }
   },
   "source": [
    "### Group Exercise\n",
    "\n",
    "Write python code to check whether `3` occurs in the list `[1,2,3]`\n",
    "\n",
    "> When you are done, raise your hand!"
   ]
  },
  {
   "cell_type": "code",
   "execution_count": 1,
   "id": "20fdad4c",
   "metadata": {},
   "outputs": [
    {
     "data": {
      "text/plain": [
       "True"
      ]
     },
     "execution_count": 1,
     "metadata": {},
     "output_type": "execute_result"
    }
   ],
   "source": [
    "3 in [1,2,3]"
   ]
  },
  {
   "cell_type": "code",
   "execution_count": 2,
   "id": "800d717d",
   "metadata": {},
   "outputs": [
    {
     "data": {
      "text/plain": [
       "True"
      ]
     },
     "execution_count": 2,
     "metadata": {},
     "output_type": "execute_result"
    }
   ],
   "source": [
    "3 in [1,2,3]"
   ]
  },
  {
   "cell_type": "code",
   "execution_count": 3,
   "id": "1f69f879",
   "metadata": {},
   "outputs": [
    {
     "data": {
      "text/plain": [
       "True"
      ]
     },
     "execution_count": 3,
     "metadata": {},
     "output_type": "execute_result"
    }
   ],
   "source": [
    "3.0 in [1,2,3]"
   ]
  },
  {
   "cell_type": "markdown",
   "id": "e916600c",
   "metadata": {
    "slideshow": {
     "slide_type": "subslide"
    }
   },
   "source": [
    "### Comparison operators across integers and floats\n",
    "\n",
    "Numbers of built-in numeric types (Numeric Types — **int, float, complex**) and of the standard library types fractions.Fraction and decimal.Decimal can be compared **within and across their types***, with the restriction that complex numbers do not support order comparison. Within the limits of the types involved, they compare mathematically (algorithmically) correct without loss of precision.\n",
    "\n",
    "Compare numerical values rather than focusing on data types\n",
    "\n",
    "reference: <https://docs.python.org/3/reference/expressions.html#value-comparisons>"
   ]
  },
  {
   "cell_type": "code",
   "execution_count": 4,
   "id": "aba9c3cc",
   "metadata": {},
   "outputs": [
    {
     "data": {
      "text/plain": [
       "True"
      ]
     },
     "execution_count": 4,
     "metadata": {},
     "output_type": "execute_result"
    }
   ],
   "source": [
    "3 == 3.0"
   ]
  },
  {
   "cell_type": "code",
   "execution_count": 5,
   "id": "34c4eca2",
   "metadata": {},
   "outputs": [
    {
     "data": {
      "text/plain": [
       "True"
      ]
     },
     "execution_count": 5,
     "metadata": {},
     "output_type": "execute_result"
    }
   ],
   "source": [
    "3.0 in [1,2,3]"
   ]
  },
  {
   "cell_type": "code",
   "execution_count": 6,
   "id": "751ecd4d",
   "metadata": {},
   "outputs": [
    {
     "data": {
      "text/plain": [
       "True"
      ]
     },
     "execution_count": 6,
     "metadata": {},
     "output_type": "execute_result"
    }
   ],
   "source": [
    "3 in [1,2,3.0]"
   ]
  },
  {
   "cell_type": "code",
   "execution_count": 7,
   "id": "82d9fa57",
   "metadata": {},
   "outputs": [
    {
     "data": {
      "text/plain": [
       "False"
      ]
     },
     "execution_count": 7,
     "metadata": {},
     "output_type": "execute_result"
    }
   ],
   "source": [
    "3 in [1,2,\"3\"]"
   ]
  },
  {
   "cell_type": "markdown",
   "id": "a6a81254",
   "metadata": {
    "slideshow": {
     "slide_type": "subslide"
    }
   },
   "source": [
    "Two ways to check whether an object is of the specified type:\n",
    "\n",
    "* `type(2) == int`\n",
    "* `isinstance(2, int) `"
   ]
  },
  {
   "cell_type": "code",
   "execution_count": 8,
   "id": "006a0351",
   "metadata": {},
   "outputs": [
    {
     "data": {
      "text/plain": [
       "True"
      ]
     },
     "execution_count": 8,
     "metadata": {},
     "output_type": "execute_result"
    }
   ],
   "source": [
    "type(2) == int"
   ]
  },
  {
   "cell_type": "code",
   "execution_count": 9,
   "id": "486ce7ee",
   "metadata": {},
   "outputs": [
    {
     "data": {
      "text/plain": [
       "True"
      ]
     },
     "execution_count": 9,
     "metadata": {},
     "output_type": "execute_result"
    }
   ],
   "source": [
    "isinstance(2, int) "
   ]
  },
  {
   "cell_type": "markdown",
   "id": "aaa32c58",
   "metadata": {
    "slideshow": {
     "slide_type": "subslide"
    }
   },
   "source": [
    "## Lists are Nestable\n",
    "\n",
    "* A list can be an element/item in another list"
   ]
  },
  {
   "cell_type": "code",
   "execution_count": 10,
   "id": "147546cb",
   "metadata": {},
   "outputs": [
    {
     "data": {
      "text/plain": [
       "[[1, 'happy', (1+9j), 2.3, True], [1, 2], True]"
      ]
     },
     "execution_count": 10,
     "metadata": {},
     "output_type": "execute_result"
    }
   ],
   "source": [
    "list_a = [1, \"happy\", 1+9j, 2.3, True]\n",
    "list_b = [list_a, [1,2], True]\n",
    "list_b"
   ]
  },
  {
   "cell_type": "markdown",
   "id": "19e030e8",
   "metadata": {
    "slideshow": {
     "slide_type": "subslide"
    }
   },
   "source": [
    "Indexing and slicing nested lists:"
   ]
  },
  {
   "cell_type": "code",
   "execution_count": 11,
   "id": "36250b0b",
   "metadata": {},
   "outputs": [
    {
     "data": {
      "text/plain": [
       "[1, 'happy', (1+9j), 2.3, True]"
      ]
     },
     "execution_count": 11,
     "metadata": {},
     "output_type": "execute_result"
    }
   ],
   "source": [
    "list_b[0] #the first element is a list"
   ]
  },
  {
   "cell_type": "code",
   "execution_count": 12,
   "id": "9f5c8088",
   "metadata": {},
   "outputs": [
    {
     "data": {
      "text/plain": [
       "'happy'"
      ]
     },
     "execution_count": 12,
     "metadata": {},
     "output_type": "execute_result"
    }
   ],
   "source": [
    "list_intermediate = list_b[0] \n",
    "list_intermediate[1]"
   ]
  },
  {
   "cell_type": "code",
   "execution_count": 13,
   "id": "59e9a8a3",
   "metadata": {},
   "outputs": [
    {
     "data": {
      "text/plain": [
       "'happy'"
      ]
     },
     "execution_count": 13,
     "metadata": {},
     "output_type": "execute_result"
    }
   ],
   "source": [
    "list_b[0][1]"
   ]
  },
  {
   "cell_type": "markdown",
   "id": "c7090691",
   "metadata": {
    "slideshow": {
     "slide_type": "subslide"
    }
   },
   "source": [
    "Since the first element is a list, we can use indexing to get the second element of this list"
   ]
  },
  {
   "cell_type": "code",
   "execution_count": 14,
   "id": "27fa89e8",
   "metadata": {},
   "outputs": [
    {
     "data": {
      "text/plain": [
       "'happy'"
      ]
     },
     "execution_count": 14,
     "metadata": {},
     "output_type": "execute_result"
    }
   ],
   "source": [
    "list_b[0][1] "
   ]
  },
  {
   "cell_type": "markdown",
   "id": "a3b2f9b7",
   "metadata": {
    "slideshow": {
     "slide_type": "subslide"
    }
   },
   "source": [
    "Since the second element of the first element of `list_b` is a string which is ordered, we can use slicing to get the second and the third elements of the string:"
   ]
  },
  {
   "cell_type": "code",
   "execution_count": 15,
   "id": "d1b95673",
   "metadata": {},
   "outputs": [
    {
     "data": {
      "text/plain": [
       "[[1, 'happy', (1+9j), 2.3, True], [1, 2], True]"
      ]
     },
     "execution_count": 15,
     "metadata": {},
     "output_type": "execute_result"
    }
   ],
   "source": [
    "list_b"
   ]
  },
  {
   "cell_type": "code",
   "execution_count": 16,
   "id": "c0b3809c",
   "metadata": {},
   "outputs": [
    {
     "data": {
      "text/plain": [
       "'pp'"
      ]
     },
     "execution_count": 16,
     "metadata": {},
     "output_type": "execute_result"
    }
   ],
   "source": [
    "list_b[0][1][2:4] "
   ]
  },
  {
   "cell_type": "code",
   "execution_count": 17,
   "id": "10c38111",
   "metadata": {},
   "outputs": [
    {
     "data": {
      "text/plain": [
       "[[1, 'happy', (1+9j), 2.3, True], [1, 2], True]"
      ]
     },
     "execution_count": 17,
     "metadata": {},
     "output_type": "execute_result"
    }
   ],
   "source": [
    "list_b"
   ]
  },
  {
   "cell_type": "code",
   "execution_count": 18,
   "id": "029a550c",
   "metadata": {},
   "outputs": [
    {
     "data": {
      "text/plain": [
       "True"
      ]
     },
     "execution_count": 18,
     "metadata": {},
     "output_type": "execute_result"
    }
   ],
   "source": [
    "list_b[2]"
   ]
  },
  {
   "cell_type": "code",
   "execution_count": 19,
   "id": "bfe6dcae",
   "metadata": {},
   "outputs": [
    {
     "data": {
      "text/plain": [
       "[]"
      ]
     },
     "execution_count": 19,
     "metadata": {},
     "output_type": "execute_result"
    }
   ],
   "source": [
    "list_b[2:2]"
   ]
  },
  {
   "cell_type": "code",
   "execution_count": 20,
   "id": "b2a89b16",
   "metadata": {},
   "outputs": [
    {
     "data": {
      "text/plain": [
       "[True]"
      ]
     },
     "execution_count": 20,
     "metadata": {},
     "output_type": "execute_result"
    }
   ],
   "source": [
    "list_b[2:4]"
   ]
  },
  {
   "cell_type": "markdown",
   "id": "cf3f900e",
   "metadata": {
    "slideshow": {
     "slide_type": "subslide"
    }
   },
   "source": [
    "### Robust start and end indices with python slicing `[start:end]`\n",
    "\n",
    "* **robust end index**: The above slicing on list (`list_b[2:4]`) works even though the end index slicing is greater than the maximal sequence index. This is because python scling has **robust end index**. The slice just takes all elements up to the maximal element. \n",
    "* If the start index is out of bounds as well, it returns the empty slice. So `list_b[4:]` will return an empty list."
   ]
  },
  {
   "cell_type": "code",
   "execution_count": 21,
   "id": "5075853f",
   "metadata": {},
   "outputs": [
    {
     "data": {
      "text/plain": [
       "[[1, 'happy', (1+9j), 2.3, True], [1, 2], True]"
      ]
     },
     "execution_count": 21,
     "metadata": {},
     "output_type": "execute_result"
    }
   ],
   "source": [
    "list_b"
   ]
  },
  {
   "cell_type": "code",
   "execution_count": 22,
   "id": "e077902a",
   "metadata": {},
   "outputs": [
    {
     "data": {
      "text/plain": [
       "[]"
      ]
     },
     "execution_count": 22,
     "metadata": {},
     "output_type": "execute_result"
    }
   ],
   "source": [
    "list_b[4:]"
   ]
  },
  {
   "cell_type": "code",
   "execution_count": 23,
   "id": "387dc8af",
   "metadata": {},
   "outputs": [
    {
     "data": {
      "text/plain": [
       "'pp'"
      ]
     },
     "execution_count": 23,
     "metadata": {},
     "output_type": "execute_result"
    }
   ],
   "source": [
    "a = list_b[0]\n",
    "b = a[1]\n",
    "b[2:4]"
   ]
  },
  {
   "cell_type": "markdown",
   "id": "9dec9b5c",
   "metadata": {
    "slideshow": {
     "slide_type": "subslide"
    }
   },
   "source": [
    "### Group Exercise (nested list)\n",
    "\n",
    "1. Write python code to obtain the second element of the nested list `list_b = [[1, 'happy', (1+9j), 2.3, True], [1, 2], True]`\n",
    "2. Write python code to obtain the second element of the second element (a list) of the nested list `list_b = [[1, 'happy', (1+9j), 2.3, True], [1, 2], True]`:\n",
    "\n",
    "\n",
    "> When you are done, raise your hand!"
   ]
  },
  {
   "cell_type": "code",
   "execution_count": 24,
   "id": "b5622a41",
   "metadata": {},
   "outputs": [],
   "source": [
    "list_b = [[1, 'happy', (1+9j), 2.3, True], [1, 2], True]"
   ]
  },
  {
   "cell_type": "code",
   "execution_count": 25,
   "id": "44ee8c57",
   "metadata": {},
   "outputs": [
    {
     "data": {
      "text/plain": [
       "[1, 2]"
      ]
     },
     "execution_count": 25,
     "metadata": {},
     "output_type": "execute_result"
    }
   ],
   "source": [
    "list_b[1]"
   ]
  },
  {
   "cell_type": "code",
   "execution_count": 26,
   "id": "beee565e",
   "metadata": {},
   "outputs": [
    {
     "data": {
      "text/plain": [
       "2"
      ]
     },
     "execution_count": 26,
     "metadata": {},
     "output_type": "execute_result"
    }
   ],
   "source": [
    "list_b[1][1]"
   ]
  },
  {
   "cell_type": "markdown",
   "id": "dc88795e",
   "metadata": {
    "slideshow": {
     "slide_type": "subslide"
    }
   },
   "source": [
    "### `in` operator with nested lists\n",
    "\n",
    "* check whether an object is an element of a given list"
   ]
  },
  {
   "cell_type": "code",
   "execution_count": 27,
   "id": "c12c112f",
   "metadata": {},
   "outputs": [],
   "source": [
    "list_a = [3, [1, 'happy', (1+9j), 2.3, True], [1, 2], False]"
   ]
  },
  {
   "cell_type": "code",
   "execution_count": 28,
   "id": "cf767f19",
   "metadata": {},
   "outputs": [
    {
     "data": {
      "text/plain": [
       "False"
      ]
     },
     "execution_count": 28,
     "metadata": {},
     "output_type": "execute_result"
    }
   ],
   "source": [
    "1 in list_a"
   ]
  },
  {
   "cell_type": "code",
   "execution_count": 29,
   "id": "0d7e1487",
   "metadata": {},
   "outputs": [
    {
     "data": {
      "text/plain": [
       "True"
      ]
     },
     "execution_count": 29,
     "metadata": {},
     "output_type": "execute_result"
    }
   ],
   "source": [
    "[1,2] in list_a"
   ]
  },
  {
   "cell_type": "code",
   "execution_count": 30,
   "id": "5142314e",
   "metadata": {},
   "outputs": [
    {
     "data": {
      "text/plain": [
       "'h'"
      ]
     },
     "execution_count": 30,
     "metadata": {},
     "output_type": "execute_result"
    }
   ],
   "source": [
    "list_a[1][1][0]"
   ]
  },
  {
   "cell_type": "code",
   "execution_count": 31,
   "id": "ec013535",
   "metadata": {},
   "outputs": [],
   "source": [
    "list_b = [[1, 'happy', (1+9j), 2.3, True], [1, 2], False]"
   ]
  },
  {
   "cell_type": "code",
   "execution_count": 32,
   "id": "84d6fc88",
   "metadata": {},
   "outputs": [
    {
     "data": {
      "text/plain": [
       "False"
      ]
     },
     "execution_count": 32,
     "metadata": {},
     "output_type": "execute_result"
    }
   ],
   "source": [
    "'happy' in list_b"
   ]
  },
  {
   "cell_type": "code",
   "execution_count": 33,
   "id": "d1b23670",
   "metadata": {},
   "outputs": [
    {
     "data": {
      "text/plain": [
       "True"
      ]
     },
     "execution_count": 33,
     "metadata": {},
     "output_type": "execute_result"
    }
   ],
   "source": [
    "'happy' in list_b[0]"
   ]
  },
  {
   "cell_type": "code",
   "execution_count": 34,
   "id": "14428c10",
   "metadata": {},
   "outputs": [
    {
     "data": {
      "text/plain": [
       "[[1, 'happy', (1+9j), 2.3, True], [1, 2], False]"
      ]
     },
     "execution_count": 34,
     "metadata": {},
     "output_type": "execute_result"
    }
   ],
   "source": [
    "list_b"
   ]
  },
  {
   "cell_type": "code",
   "execution_count": 35,
   "id": "b9c20137",
   "metadata": {},
   "outputs": [
    {
     "data": {
      "text/plain": [
       "True"
      ]
     },
     "execution_count": 35,
     "metadata": {},
     "output_type": "execute_result"
    }
   ],
   "source": [
    "[1, 'happy', (1+9j), 2.3, True] in list_b"
   ]
  },
  {
   "cell_type": "code",
   "execution_count": 36,
   "id": "cd30c0f5",
   "metadata": {},
   "outputs": [
    {
     "data": {
      "text/plain": [
       "True"
      ]
     },
     "execution_count": 36,
     "metadata": {},
     "output_type": "execute_result"
    }
   ],
   "source": [
    "'happy' in list_b[0]"
   ]
  },
  {
   "cell_type": "code",
   "execution_count": 37,
   "id": "dac36777",
   "metadata": {},
   "outputs": [
    {
     "data": {
      "text/plain": [
       "[1, 'happy', (1+9j), 2.3, True]"
      ]
     },
     "execution_count": 37,
     "metadata": {},
     "output_type": "execute_result"
    }
   ],
   "source": [
    "list_b[0]"
   ]
  },
  {
   "cell_type": "markdown",
   "id": "3362fba3",
   "metadata": {
    "slideshow": {
     "slide_type": "subslide"
    }
   },
   "source": [
    "## Lists are mutable\n",
    "\n",
    "Unlike strings, however, lists are mutable - item assignment is feasible"
   ]
  },
  {
   "cell_type": "code",
   "execution_count": 38,
   "id": "c4d12165",
   "metadata": {},
   "outputs": [],
   "source": [
    "list_a = [1, \"happy\", True]"
   ]
  },
  {
   "cell_type": "code",
   "execution_count": 39,
   "id": "70f54f5e",
   "metadata": {},
   "outputs": [],
   "source": [
    "list_a[1] = 2"
   ]
  },
  {
   "cell_type": "code",
   "execution_count": 40,
   "id": "5031d9a5",
   "metadata": {},
   "outputs": [
    {
     "data": {
      "text/plain": [
       "[1, 2, True]"
      ]
     },
     "execution_count": 40,
     "metadata": {},
     "output_type": "execute_result"
    }
   ],
   "source": [
    "list_a"
   ]
  },
  {
   "cell_type": "code",
   "execution_count": 41,
   "id": "393b6cbb",
   "metadata": {},
   "outputs": [],
   "source": [
    "list_a[2] = 3"
   ]
  },
  {
   "cell_type": "code",
   "execution_count": 42,
   "id": "1a00c53d",
   "metadata": {},
   "outputs": [
    {
     "data": {
      "text/plain": [
       "[1, 2, 3]"
      ]
     },
     "execution_count": 42,
     "metadata": {},
     "output_type": "execute_result"
    }
   ],
   "source": [
    "list_a"
   ]
  },
  {
   "cell_type": "markdown",
   "id": "c2f75c97",
   "metadata": {
    "slideshow": {
     "slide_type": "subslide"
    }
   },
   "source": [
    "### List item assignment with slicing (assign values to a slice of list)"
   ]
  },
  {
   "cell_type": "code",
   "execution_count": 43,
   "id": "e42eab7f",
   "metadata": {},
   "outputs": [],
   "source": [
    "list_a = [1, \"happy\", True]"
   ]
  },
  {
   "cell_type": "code",
   "execution_count": 44,
   "id": "cf15c1b4",
   "metadata": {},
   "outputs": [
    {
     "data": {
      "text/plain": [
       "['happy', True]"
      ]
     },
     "execution_count": 44,
     "metadata": {},
     "output_type": "execute_result"
    }
   ],
   "source": [
    "list_a[1:]"
   ]
  },
  {
   "cell_type": "code",
   "execution_count": 45,
   "id": "2031a5d1",
   "metadata": {},
   "outputs": [
    {
     "data": {
      "text/plain": [
       "[1, 2, 3]"
      ]
     },
     "execution_count": 45,
     "metadata": {},
     "output_type": "execute_result"
    }
   ],
   "source": [
    "list_a[1:] = [2,3]\n",
    "list_a"
   ]
  },
  {
   "cell_type": "code",
   "execution_count": 46,
   "id": "1b2e6417",
   "metadata": {},
   "outputs": [
    {
     "data": {
      "text/plain": [
       "[1, 1]"
      ]
     },
     "execution_count": 46,
     "metadata": {},
     "output_type": "execute_result"
    }
   ],
   "source": [
    "list_a[1:] = [1]\n",
    "list_a"
   ]
  },
  {
   "cell_type": "code",
   "execution_count": 47,
   "id": "ad4a0924",
   "metadata": {},
   "outputs": [
    {
     "data": {
      "text/plain": [
       "[1, 2, 3, 4, 5, 6, 1, 2, 46]"
      ]
     },
     "execution_count": 47,
     "metadata": {},
     "output_type": "execute_result"
    }
   ],
   "source": [
    "list_b = [1,2,3,4,5,6,1,2,46]\n",
    "list_b"
   ]
  },
  {
   "cell_type": "code",
   "execution_count": 48,
   "id": "b98c61b1",
   "metadata": {},
   "outputs": [
    {
     "data": {
      "text/plain": [
       "[1, 100, 101]"
      ]
     },
     "execution_count": 48,
     "metadata": {},
     "output_type": "execute_result"
    }
   ],
   "source": [
    "list_b[1:] = [100, 101]\n",
    "list_b"
   ]
  },
  {
   "cell_type": "markdown",
   "id": "a9248ccb",
   "metadata": {
    "slideshow": {
     "slide_type": "subslide"
    }
   },
   "source": [
    "## List Operations\n",
    "\n",
    "* Concatenation with `+` (similar to strings)\n",
    "* Repetition with `*` (similar to strings)"
   ]
  },
  {
   "cell_type": "code",
   "execution_count": 49,
   "id": "978b8e76",
   "metadata": {},
   "outputs": [
    {
     "data": {
      "text/plain": [
       "'happyhappy'"
      ]
     },
     "execution_count": 49,
     "metadata": {},
     "output_type": "execute_result"
    }
   ],
   "source": [
    "\"happy\" + \"happy\""
   ]
  },
  {
   "cell_type": "code",
   "execution_count": 50,
   "id": "52402c80",
   "metadata": {},
   "outputs": [
    {
     "data": {
      "text/plain": [
       "[1, 'happy', True]"
      ]
     },
     "execution_count": 50,
     "metadata": {},
     "output_type": "execute_result"
    }
   ],
   "source": [
    "list_a = [1, \"happy\", True]\n",
    "list_a"
   ]
  },
  {
   "cell_type": "code",
   "execution_count": 51,
   "id": "994debf9",
   "metadata": {},
   "outputs": [
    {
     "data": {
      "text/plain": [
       "[1, 'happy', True, 1, 'happy', True]"
      ]
     },
     "execution_count": 51,
     "metadata": {},
     "output_type": "execute_result"
    }
   ],
   "source": [
    "list_a + list_a"
   ]
  },
  {
   "cell_type": "code",
   "execution_count": 52,
   "id": "060ecbe7",
   "metadata": {},
   "outputs": [
    {
     "data": {
      "text/plain": [
       "[1, 2, 3, 2, 3, 4]"
      ]
     },
     "execution_count": 52,
     "metadata": {},
     "output_type": "execute_result"
    }
   ],
   "source": [
    "[1, 2, 3] + [2, 3, 4]"
   ]
  },
  {
   "cell_type": "code",
   "execution_count": 53,
   "id": "6ea35787",
   "metadata": {},
   "outputs": [
    {
     "data": {
      "text/plain": [
       "'happyhappyhappy'"
      ]
     },
     "execution_count": 53,
     "metadata": {},
     "output_type": "execute_result"
    }
   ],
   "source": [
    "\"happy\" * 3"
   ]
  },
  {
   "cell_type": "code",
   "execution_count": 54,
   "id": "ccb95766",
   "metadata": {},
   "outputs": [
    {
     "data": {
      "text/plain": [
       "[1, 'happy', True]"
      ]
     },
     "execution_count": 54,
     "metadata": {},
     "output_type": "execute_result"
    }
   ],
   "source": [
    "list_a"
   ]
  },
  {
   "cell_type": "code",
   "execution_count": 55,
   "id": "77a0b905",
   "metadata": {},
   "outputs": [
    {
     "data": {
      "text/plain": [
       "[1, 'happy', True, 1, 'happy', True, 1, 'happy', True]"
      ]
     },
     "execution_count": 55,
     "metadata": {},
     "output_type": "execute_result"
    }
   ],
   "source": [
    "list_a * 3"
   ]
  },
  {
   "cell_type": "code",
   "execution_count": 56,
   "id": "7eb2f57d",
   "metadata": {},
   "outputs": [
    {
     "ename": "TypeError",
     "evalue": "'>' not supported between instances of 'str' and 'int'",
     "output_type": "error",
     "traceback": [
      "\u001b[0;31m---------------------------------------------------------------------------\u001b[0m",
      "\u001b[0;31mTypeError\u001b[0m                                 Traceback (most recent call last)",
      "Cell \u001b[0;32mIn[56], line 1\u001b[0m\n\u001b[0;32m----> 1\u001b[0m \u001b[38;5;28;43mmax\u001b[39;49m\u001b[43m(\u001b[49m\u001b[43mlist_a\u001b[49m\u001b[43m)\u001b[49m\n",
      "\u001b[0;31mTypeError\u001b[0m: '>' not supported between instances of 'str' and 'int'"
     ]
    }
   ],
   "source": [
    "max(list_a)"
   ]
  },
  {
   "cell_type": "code",
   "execution_count": null,
   "id": "8e7a8b0f",
   "metadata": {},
   "outputs": [],
   "source": [
    "sum([1,2,3])"
   ]
  },
  {
   "cell_type": "code",
   "execution_count": 57,
   "id": "a1af2bec",
   "metadata": {},
   "outputs": [
    {
     "data": {
      "text/plain": [
       "[1, 'happy', True]"
      ]
     },
     "execution_count": 57,
     "metadata": {},
     "output_type": "execute_result"
    }
   ],
   "source": [
    "list_a"
   ]
  },
  {
   "cell_type": "code",
   "execution_count": 58,
   "id": "9cad693a",
   "metadata": {},
   "outputs": [
    {
     "ename": "TypeError",
     "evalue": "unsupported operand type(s) for +: 'int' and 'str'",
     "output_type": "error",
     "traceback": [
      "\u001b[0;31m---------------------------------------------------------------------------\u001b[0m",
      "\u001b[0;31mTypeError\u001b[0m                                 Traceback (most recent call last)",
      "Cell \u001b[0;32mIn[58], line 1\u001b[0m\n\u001b[0;32m----> 1\u001b[0m \u001b[38;5;28;43msum\u001b[39;49m\u001b[43m(\u001b[49m\u001b[43mlist_a\u001b[49m\u001b[43m)\u001b[49m\n",
      "\u001b[0;31mTypeError\u001b[0m: unsupported operand type(s) for +: 'int' and 'str'"
     ]
    }
   ],
   "source": [
    "sum(list_a)"
   ]
  },
  {
   "cell_type": "code",
   "execution_count": 59,
   "id": "3d6cb1d0",
   "metadata": {},
   "outputs": [
    {
     "data": {
      "text/plain": [
       "3"
      ]
     },
     "execution_count": 59,
     "metadata": {},
     "output_type": "execute_result"
    }
   ],
   "source": [
    "max([1,2,3])"
   ]
  },
  {
   "cell_type": "code",
   "execution_count": 60,
   "id": "5a0e94d8",
   "metadata": {},
   "outputs": [
    {
     "data": {
      "text/plain": [
       "6"
      ]
     },
     "execution_count": 60,
     "metadata": {},
     "output_type": "execute_result"
    }
   ],
   "source": [
    "sum([1,2,3])"
   ]
  },
  {
   "cell_type": "markdown",
   "id": "0def8608",
   "metadata": {
    "slideshow": {
     "slide_type": "subslide"
    }
   },
   "source": [
    "In a list with elements as string, **max( )** and **min( )** is applicable. **max( )** would return a string element whose ASCII value is the highest and the lowest when **min( )** is used. Note that only the first index of each element is considered each time and if they value is the same then second index considered so on and so forth."
   ]
  },
  {
   "cell_type": "code",
   "execution_count": 61,
   "id": "f8876dc3",
   "metadata": {},
   "outputs": [],
   "source": [
    "mlist = ['bzaa','ds','nc','az','z','klm']"
   ]
  },
  {
   "cell_type": "code",
   "execution_count": 62,
   "id": "724ff06a",
   "metadata": {},
   "outputs": [
    {
     "data": {
      "text/plain": [
       "'z'"
      ]
     },
     "execution_count": 62,
     "metadata": {},
     "output_type": "execute_result"
    }
   ],
   "source": [
    "max(mlist)"
   ]
  },
  {
   "cell_type": "code",
   "execution_count": 63,
   "id": "5f4824ed",
   "metadata": {},
   "outputs": [
    {
     "data": {
      "text/plain": [
       "False"
      ]
     },
     "execution_count": 63,
     "metadata": {},
     "output_type": "execute_result"
    }
   ],
   "source": [
    "'bzaa' > 'z'"
   ]
  },
  {
   "cell_type": "code",
   "execution_count": 64,
   "id": "0e3891c9",
   "metadata": {},
   "outputs": [
    {
     "data": {
      "text/plain": [
       "'az'"
      ]
     },
     "execution_count": 64,
     "metadata": {},
     "output_type": "execute_result"
    }
   ],
   "source": [
    "min(mlist)"
   ]
  },
  {
   "cell_type": "code",
   "execution_count": 65,
   "id": "a01764d5",
   "metadata": {},
   "outputs": [],
   "source": [
    "nlist = [1,94,93,1000]"
   ]
  },
  {
   "cell_type": "code",
   "execution_count": 66,
   "id": "0108aa23",
   "metadata": {},
   "outputs": [
    {
     "data": {
      "text/plain": [
       "1000"
      ]
     },
     "execution_count": 66,
     "metadata": {},
     "output_type": "execute_result"
    }
   ],
   "source": [
    "max(nlist)"
   ]
  },
  {
   "cell_type": "code",
   "execution_count": 67,
   "id": "9c023389",
   "metadata": {},
   "outputs": [],
   "source": [
    "nlist = ['1','94','93','1000']"
   ]
  },
  {
   "cell_type": "code",
   "execution_count": 68,
   "id": "de8430bb",
   "metadata": {},
   "outputs": [
    {
     "data": {
      "text/plain": [
       "'94'"
      ]
     },
     "execution_count": 68,
     "metadata": {},
     "output_type": "execute_result"
    }
   ],
   "source": [
    "max(nlist)"
   ]
  },
  {
   "cell_type": "code",
   "execution_count": 69,
   "id": "745c642f",
   "metadata": {},
   "outputs": [
    {
     "data": {
      "text/plain": [
       "'1'"
      ]
     },
     "execution_count": 69,
     "metadata": {},
     "output_type": "execute_result"
    }
   ],
   "source": [
    "min(nlist)"
   ]
  },
  {
   "cell_type": "markdown",
   "id": "91490a7b",
   "metadata": {
    "slideshow": {
     "slide_type": "subslide"
    }
   },
   "source": [
    "Even if the numbers are declared in a string the first index of each element is considered and the maximum and minimum values are returned accordingly.\n"
   ]
  },
  {
   "cell_type": "markdown",
   "id": "9ee16019",
   "metadata": {
    "slideshow": {
     "slide_type": "subslide"
    }
   },
   "source": [
    "## Further readings\n",
    "\n",
    "* [Lists and Tuples in Python](https://realpython.com/python-lists-tuples/)"
   ]
  },
  {
   "cell_type": "markdown",
   "id": "ec5af771",
   "metadata": {
    "slideshow": {
     "slide_type": "slide"
    }
   },
   "source": [
    "## Assginments\n",
    "\n",
    "* HW4"
   ]
  }
 ],
 "metadata": {
  "celltoolbar": "Slideshow",
  "kernelspec": {
   "display_name": "Python 3 (ipykernel)",
   "language": "python",
   "name": "python3"
  },
  "language_info": {
   "codemirror_mode": {
    "name": "ipython",
    "version": 3
   },
   "file_extension": ".py",
   "mimetype": "text/x-python",
   "name": "python",
   "nbconvert_exporter": "python",
   "pygments_lexer": "ipython3",
   "version": "3.9.18"
  }
 },
 "nbformat": 4,
 "nbformat_minor": 5
}
