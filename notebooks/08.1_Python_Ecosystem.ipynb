{
 "cells": [
  {
   "cell_type": "markdown",
   "id": "f2c8bddd",
   "metadata": {
    "slideshow": {
     "slide_type": "slide"
    }
   },
   "source": [
    "# Introduction to Python for Open Source Geocomputation\n",
    "\n",
    "![python](pics/python-logo-master-v3-TM.png)\n",
    "\n",
    "* Instructor: Dr. Wei Kang\n",
    "\n",
    "Content:\n",
    "\n",
    "* Python Ecosystem"
   ]
  },
  {
   "cell_type": "markdown",
   "id": "74c634f7",
   "metadata": {
    "slideshow": {
     "slide_type": "slide"
    }
   },
   "source": [
    "# The Scientific Python Ecosystem\n",
    "\n",
    "Unlike Matlab, or R, Python does not come with a pre-bundled set of modules for scientific computing.\n",
    "\n",
    "However, Python has a large community which has contributed **building blocks** that can be combined to obtain a scientific computing environment:\n",
    "\n",
    "* Python, the language\n",
    "    * flow control, data types (string, int), data collections (lists, dictionaries), etc.\n",
    "    * Modules of the standard library: string processing, file management, simple network protocols.\n",
    "    * A large number of specialized modules or applications written in Python: web framework, etc. . . . and scientific computing.\n",
    "    * Development tools (automatic testing, documentation generation)\n",
    "* Core numeric libraries\n",
    "    * Numpy: numerical computing with powerful numerical arrays objects, and routines to manipulate them. <http://www.numpy.org/>\n",
    "    * Scipy : high-level numerical routines. Optimization, regression, interpolation, etc <http://www.scipy.org/>\n",
    "    * Matplotlib : 2-D visualization, “publication-ready” plots <http://matplotlib.org/>\n",
    "* Advanced interactive environments\n",
    "    * Jupyter, notebooks in the browser <http://jupyter.org/>\n",
    "* Domain-specific packages\n",
    "    * pandas, statsmodels, seaborn for statistics\n",
    "    * sympy for symbolic computing\n",
    "    * scikit-image for image processing\n",
    "    * scikit-learn for machine learning"
   ]
  },
  {
   "cell_type": "markdown",
   "id": "90a0fbce",
   "metadata": {
    "slideshow": {
     "slide_type": "subslide"
    }
   },
   "source": [
    "###  Python Package Index (PyPI)\n",
    "\n",
    "Before you start to write your own modules, you want to be\n",
    "sure to explore the standard library of modules and or search third party\n",
    "repositories to see if what you need has already been coded. You can search\n",
    "for third party modules at:\n",
    "\n",
    "<http://pypi.python.org/pypi>\n",
    "\n",
    "The Python Package Index (PyPI) is a repository of software for the Python programming language. \n",
    "\n"
   ]
  },
  {
   "cell_type": "markdown",
   "id": "a0e3ba68",
   "metadata": {
    "slideshow": {
     "slide_type": "subslide"
    }
   },
   "source": [
    "# GIS Python Ecosystem \n",
    "\n",
    "* Core or Data Structures → These are commonly used core python libraries like Geopandas, Rasterio, Shapely, GDAL, Proj, etc.\n",
    "* Analysis & Modeling → Packages specificity for Analysis and modelling are included in this category, for example, Scikit Learn, PySAL, MovingPandas, ArcPy, etc.\n",
    "* Visualization → Packages with visualisation and cartography primary usage are grouped in this category like Leafmap, Contextily, Bokeh, Folium, and Matplotlib.\n",
    "* Data Extraction or processing → Like Sentinelsat, Whitebox, OSMNx, and LIDAR.\n",
    "* [Application development](https://www.python.org/about/apps/): \n",
    "    * Desktop GUIs: Tk, wxWidgets, Qt, EasyGUI\n",
    "    * Web and Internet Development: Frameworks such as Django and Pyramid\n",
    "    * Interactive Dashboard: Dash, Ipywidgets, Voila, Plotly, Streamlit"
   ]
  },
  {
   "cell_type": "markdown",
   "id": "157f6a4b",
   "metadata": {
    "slideshow": {
     "slide_type": "subslide"
    }
   },
   "source": [
    "### Dependency graph of the GIS Python Ecosystem \n",
    "\n",
    "\n",
    "![python_GIS](pics/python_GIS.jpg)\n",
    "\n",
    "\n",
    "Look at the interactive graph on the [website](https://ecosystem.pythongis.org/_static/pythongis-ecosystem-large.html)"
   ]
  },
  {
   "cell_type": "markdown",
   "id": "25bfca27",
   "metadata": {
    "slideshow": {
     "slide_type": "subslide"
    }
   },
   "source": [
    "### Dependencies: built your packages/projects on other developers' work\n",
    "\n",
    "* [Dependency of Geopandas](https://geopandas.org/en/stable/getting_started/install.html#dependencies)\n",
    "    * a high-level interface to work with geospatial data\n",
    "    * spatial/geometric operations, input/output, mapping\n",
    "* [Dependency of ArcPy](https://developers.arcgis.com/python/guide/system-requirements/)\n",
    "    * [Arcpy](https://www.esri.com/en-us/arcgis/products/arcgis-python-libraries/libraries/arcpy):\n",
    "        * AcGIS Python Libraries\n",
    "        * A comprehensive and powerful library for spatial analysis, data management, and conversion. \n",
    "        * Access industry-leading (Esri) spatial analysis and spatial machine learning algorithms and create and automate simple or complex workflows easily. \n",
    "        * ArcPy makes for a rich Python experience across the ArcGIS platform, offering code completion and reference documentation for each function, module, and class."
   ]
  },
  {
   "cell_type": "markdown",
   "id": "a6cae2af",
   "metadata": {},
   "source": [
    "\n"
   ]
  }
 ],
 "metadata": {
  "celltoolbar": "Slideshow",
  "kernelspec": {
   "display_name": "Python 3 (ipykernel)",
   "language": "python",
   "name": "python3"
  },
  "language_info": {
   "codemirror_mode": {
    "name": "ipython",
    "version": 3
   },
   "file_extension": ".py",
   "mimetype": "text/x-python",
   "name": "python",
   "nbconvert_exporter": "python",
   "pygments_lexer": "ipython3",
   "version": "3.11.0"
  }
 },
 "nbformat": 4,
 "nbformat_minor": 5
}
