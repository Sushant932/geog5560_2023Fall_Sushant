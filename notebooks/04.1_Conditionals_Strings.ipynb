{
 "cells": [
  {
   "cell_type": "markdown",
   "id": "f6f7754f",
   "metadata": {
    "slideshow": {
     "slide_type": "slide"
    }
   },
   "source": [
    "# Introduction to Python for Open Source Geocomputation\n",
    "\n",
    "![python](pics/python-logo-master-v3-TM.png)\n",
    "\n",
    "* Instructor: Dr. Wei Kang\n",
    "\n",
    "Content:\n",
    "\n",
    "* Conditional Execution\n",
    "* Strings"
   ]
  },
  {
   "cell_type": "markdown",
   "id": "4035754d",
   "metadata": {
    "slideshow": {
     "slide_type": "slide"
    }
   },
   "source": [
    "# Conditionals with `if` statements\n",
    "\n",
    "* Give us the ability to check conditions and change the behavior of the program accordingly.\n",
    "* Check `True` or `False`\n",
    "* Intense use of logical operations or comparison operations\n",
    "* One of the five components of a program: input, output, conditions, repetition, math"
   ]
  },
  {
   "cell_type": "markdown",
   "id": "d28f8f3a",
   "metadata": {
    "slideshow": {
     "slide_type": "subslide"
    }
   },
   "source": [
    "### (1) **If** statement on its own:"
   ]
  },
  {
   "cell_type": "code",
   "execution_count": 1,
   "id": "042e9e46",
   "metadata": {
    "slideshow": {
     "slide_type": "fragment"
    }
   },
   "outputs": [],
   "source": [
    "x = 0"
   ]
  },
  {
   "cell_type": "code",
   "execution_count": 2,
   "id": "ffeac381",
   "metadata": {},
   "outputs": [
    {
     "data": {
      "text/plain": [
       "0"
      ]
     },
     "execution_count": 2,
     "metadata": {},
     "output_type": "execute_result"
    }
   ],
   "source": [
    "x"
   ]
  },
  {
   "cell_type": "code",
   "execution_count": 3,
   "id": "8356150e",
   "metadata": {},
   "outputs": [
    {
     "data": {
      "text/plain": [
       "True"
      ]
     },
     "execution_count": 3,
     "metadata": {},
     "output_type": "execute_result"
    }
   ],
   "source": [
    "x == 0"
   ]
  },
  {
   "cell_type": "code",
   "execution_count": 4,
   "id": "78ae52f4",
   "metadata": {
    "slideshow": {
     "slide_type": "fragment"
    }
   },
   "outputs": [],
   "source": [
    "if x > 0:\n",
    "    print('x is positive')"
   ]
  },
  {
   "cell_type": "code",
   "execution_count": 5,
   "id": "2b327f8e",
   "metadata": {},
   "outputs": [],
   "source": [
    "x = -1\n",
    "if x > 0:\n",
    "    print('x is positive')"
   ]
  },
  {
   "cell_type": "code",
   "execution_count": 6,
   "id": "8118bad3",
   "metadata": {},
   "outputs": [
    {
     "name": "stdout",
     "output_type": "stream",
     "text": [
      "x is positive\n"
     ]
    }
   ],
   "source": [
    "x = 1\n",
    "if x > 0:\n",
    "    print('x is positive')"
   ]
  },
  {
   "cell_type": "markdown",
   "id": "c7b7ab4e",
   "metadata": {
    "slideshow": {
     "slide_type": "subslide"
    }
   },
   "source": [
    "### Syntax of a simple `if` statement: check one condition\n",
    "\n",
    "```python\n",
    "if x > 0:\n",
    "    print('x is positive')\n",
    "```\n",
    "\n",
    "* `if`: keyword for the Conditional Execution\n",
    "* `x > 0`: the condition to check (logical/comparison operations)\n",
    "    * if `True` (boolean value), the block following that condition `print('x is positive')` is executed\n",
    "    * if `False` (boolean value), the block following that condition `print('x is positive')` is not executed\n",
    "* colon `:`\n",
    "* A new line\n",
    "* indentation: 4 spaces\n"
   ]
  },
  {
   "cell_type": "code",
   "execution_count": 7,
   "id": "58b5816c",
   "metadata": {},
   "outputs": [
    {
     "name": "stdout",
     "output_type": "stream",
     "text": [
      "True\n"
     ]
    }
   ],
   "source": [
    "if True:\n",
    "    print(\"True\")"
   ]
  },
  {
   "cell_type": "code",
   "execution_count": 8,
   "id": "1e4c73e7",
   "metadata": {},
   "outputs": [
    {
     "name": "stdout",
     "output_type": "stream",
     "text": [
      "True\n"
     ]
    }
   ],
   "source": [
    "if False:\n",
    "    print(\"True\")\n",
    "print(\"True\")"
   ]
  },
  {
   "cell_type": "code",
   "execution_count": 9,
   "id": "b48d9c8b",
   "metadata": {},
   "outputs": [
    {
     "ename": "IndentationError",
     "evalue": "expected an indented block after 'if' statement on line 1 (1194173230.py, line 2)",
     "output_type": "error",
     "traceback": [
      "\u001b[0;36m  Cell \u001b[0;32mIn[9], line 2\u001b[0;36m\u001b[0m\n\u001b[0;31m    print(\"True\")\u001b[0m\n\u001b[0m    ^\u001b[0m\n\u001b[0;31mIndentationError\u001b[0m\u001b[0;31m:\u001b[0m expected an indented block after 'if' statement on line 1\n"
     ]
    }
   ],
   "source": [
    "if False: \n",
    "print(\"True\")"
   ]
  },
  {
   "cell_type": "code",
   "execution_count": 10,
   "id": "d841eee8",
   "metadata": {},
   "outputs": [],
   "source": [
    "a = 1 \n",
    "b = 3\n",
    "\n",
    "if a > b:\n",
    "    print('a is bigger than b')"
   ]
  },
  {
   "cell_type": "code",
   "execution_count": 11,
   "id": "654b839c",
   "metadata": {},
   "outputs": [],
   "source": [
    "a = 8 \n",
    "b = 3\n",
    "c = 10\n",
    "\n",
    "if a > b and c < b:\n",
    "    print('a is bigger than b and c is smaller than b')\n"
   ]
  },
  {
   "cell_type": "code",
   "execution_count": 12,
   "id": "972f9f82",
   "metadata": {},
   "outputs": [
    {
     "name": "stdout",
     "output_type": "stream",
     "text": [
      "a is bigger than b and c is smaller than b\n"
     ]
    }
   ],
   "source": [
    "a = 8 \n",
    "b = 3\n",
    "c = 1\n",
    "\n",
    "if a > b and c < b:\n",
    "    print('a is bigger than b and c is smaller than b')"
   ]
  },
  {
   "cell_type": "markdown",
   "id": "37a40528",
   "metadata": {
    "slideshow": {
     "slide_type": "subslide"
    }
   },
   "source": [
    "### (2) **If-else** statement: "
   ]
  },
  {
   "cell_type": "code",
   "execution_count": 13,
   "id": "afe55c5e",
   "metadata": {},
   "outputs": [
    {
     "name": "stdout",
     "output_type": "stream",
     "text": [
      "x is positive\n"
     ]
    }
   ],
   "source": [
    "x = 1\n",
    "if x > 0:\n",
    "    print('x is positive')\n",
    "else:\n",
    "    print('x is zero or negative')"
   ]
  },
  {
   "cell_type": "code",
   "execution_count": 14,
   "id": "305f81db",
   "metadata": {},
   "outputs": [
    {
     "name": "stdout",
     "output_type": "stream",
     "text": [
      "x is zero or negative\n"
     ]
    }
   ],
   "source": [
    "x = 0\n",
    "if x > 0:\n",
    "    print('x is positive')\n",
    "else:\n",
    "    print('x is zero or negative')"
   ]
  },
  {
   "cell_type": "code",
   "execution_count": 15,
   "id": "dbb04c5c",
   "metadata": {},
   "outputs": [
    {
     "data": {
      "text/plain": [
       "1"
      ]
     },
     "execution_count": 15,
     "metadata": {},
     "output_type": "execute_result"
    }
   ],
   "source": [
    "18 % 17"
   ]
  },
  {
   "cell_type": "markdown",
   "id": "9632de29",
   "metadata": {},
   "source": [
    "`%` return the remainder of a division "
   ]
  },
  {
   "cell_type": "code",
   "execution_count": 16,
   "id": "1fd8c697",
   "metadata": {},
   "outputs": [
    {
     "name": "stdout",
     "output_type": "stream",
     "text": [
      "Your number is a multiple of 17.\n"
     ]
    }
   ],
   "source": [
    "x = 1547\n",
    "if x % 17 == 0: \n",
    "    print('Your number is a multiple of 17.')\n",
    "else:\n",
    "    print('Your number is not a multiple of 17.')"
   ]
  },
  {
   "cell_type": "code",
   "execution_count": 17,
   "id": "a12079b5",
   "metadata": {},
   "outputs": [
    {
     "name": "stdout",
     "output_type": "stream",
     "text": [
      "Insert your number: \n"
     ]
    },
    {
     "ename": "ValueError",
     "evalue": "invalid literal for int() with base 10: ''",
     "output_type": "error",
     "traceback": [
      "\u001b[0;31m---------------------------------------------------------------------------\u001b[0m",
      "\u001b[0;31mValueError\u001b[0m                                Traceback (most recent call last)",
      "Cell \u001b[0;32mIn[17], line 1\u001b[0m\n\u001b[0;32m----> 1\u001b[0m x \u001b[38;5;241m=\u001b[39m \u001b[38;5;28;43mint\u001b[39;49m\u001b[43m(\u001b[49m\u001b[38;5;28;43minput\u001b[39;49m\u001b[43m(\u001b[49m\u001b[38;5;124;43m'\u001b[39;49m\u001b[38;5;124;43mInsert your number: \u001b[39;49m\u001b[38;5;124;43m'\u001b[39;49m\u001b[43m)\u001b[49m\u001b[43m)\u001b[49m\n\u001b[1;32m      2\u001b[0m \u001b[38;5;28;01mif\u001b[39;00m x \u001b[38;5;241m%\u001b[39m \u001b[38;5;241m17\u001b[39m \u001b[38;5;241m==\u001b[39m \u001b[38;5;241m0\u001b[39m: \n\u001b[1;32m      3\u001b[0m     \u001b[38;5;28mprint\u001b[39m(\u001b[38;5;124m'\u001b[39m\u001b[38;5;124mYour number is a multiple of 17.\u001b[39m\u001b[38;5;124m'\u001b[39m)\n",
      "\u001b[0;31mValueError\u001b[0m: invalid literal for int() with base 10: ''"
     ]
    }
   ],
   "source": [
    "x = int(input('Insert your number: '))\n",
    "if x % 17 == 0: \n",
    "    print('Your number is a multiple of 17.')\n",
    "else:\n",
    "    print('Your number is not a multiple of 17.')"
   ]
  },
  {
   "cell_type": "code",
   "execution_count": 18,
   "id": "0179b613",
   "metadata": {},
   "outputs": [
    {
     "name": "stdout",
     "output_type": "stream",
     "text": [
      "Your number is not a multiple of 17.\n"
     ]
    }
   ],
   "source": [
    "# x = input('Insert your number: ')\n",
    "x = 17.02\n",
    "if x % 17 == 0: \n",
    "    print('Your number is a multiple of 17.')\n",
    "else:\n",
    "    print('Your number is not a multiple of 17.')"
   ]
  },
  {
   "cell_type": "markdown",
   "id": "9a7946f0",
   "metadata": {
    "slideshow": {
     "slide_type": "subslide"
    }
   },
   "source": [
    "### Syntax of a  `if-else` statement: check one condition and two potential executions\n",
    "\n",
    "```python\n",
    "if x > 0:\n",
    "    print('x is positive')\n",
    "else:\n",
    "    print('x is not positive')    \n",
    "```\n",
    "\n",
    "* `if` and `else`: keywords for the Conditional Execution\n",
    "* `x > 0`: the first condition \n",
    "    * if `True`, the block following that condition is executed and the else statement is ignored.\n",
    "    * if `False`, the block following the else statement is executed.\n"
   ]
  },
  {
   "cell_type": "markdown",
   "id": "1d8d91ba",
   "metadata": {
    "slideshow": {
     "slide_type": "subslide"
    }
   },
   "source": [
    "### (3) **If-elif-else** statement:"
   ]
  },
  {
   "cell_type": "code",
   "execution_count": 19,
   "id": "8194c59f",
   "metadata": {},
   "outputs": [
    {
     "name": "stdout",
     "output_type": "stream",
     "text": [
      "a is smaller than b\n"
     ]
    }
   ],
   "source": [
    "a = 3\n",
    "b = 5\n",
    "\n",
    "if a > b:\n",
    "    print('a is bigger than b')\n",
    "elif a < b:\n",
    "    print('a is smaller than b')\n",
    "else:\n",
    "    print('a is equal to b')"
   ]
  },
  {
   "cell_type": "code",
   "execution_count": 20,
   "id": "51c79325",
   "metadata": {},
   "outputs": [
    {
     "name": "stdout",
     "output_type": "stream",
     "text": [
      "a is equal to b\n"
     ]
    }
   ],
   "source": [
    "a = 3\n",
    "b = 3\n",
    "\n",
    "if a > b:\n",
    "    print('a is bigger than b')\n",
    "elif a < b:\n",
    "    print('a is smaller than b')\n",
    "else:\n",
    "    print('a is equal to b')"
   ]
  },
  {
   "cell_type": "code",
   "execution_count": 21,
   "id": "593d94c9",
   "metadata": {},
   "outputs": [
    {
     "data": {
      "text/plain": [
       "True"
      ]
     },
     "execution_count": 21,
     "metadata": {},
     "output_type": "execute_result"
    }
   ],
   "source": [
    "a == b"
   ]
  },
  {
   "cell_type": "code",
   "execution_count": 22,
   "id": "e5587300",
   "metadata": {},
   "outputs": [
    {
     "name": "stdout",
     "output_type": "stream",
     "text": [
      "a is not bigger than b\n"
     ]
    }
   ],
   "source": [
    "a = 3\n",
    "b = 5\n",
    "\n",
    "if a > b:\n",
    "    print('a is bigger than b')\n",
    "elif a > b:\n",
    "    print('a is bigger than b')\n",
    "else:\n",
    "    print('a is not bigger than b')"
   ]
  },
  {
   "cell_type": "code",
   "execution_count": 23,
   "id": "2dea9c4d",
   "metadata": {},
   "outputs": [],
   "source": [
    "a = 3\n",
    "b = 5\n",
    "\n",
    "if a > b:\n",
    "    print('a is bigger than b')\n",
    "elif a > b:\n",
    "    print('a is bigger than b')"
   ]
  },
  {
   "cell_type": "code",
   "execution_count": 24,
   "id": "c9673271",
   "metadata": {},
   "outputs": [
    {
     "name": "stdout",
     "output_type": "stream",
     "text": [
      "a is bigger than b\n"
     ]
    }
   ],
   "source": [
    "a = 100\n",
    "b = 3\n",
    "\n",
    "if a > b:\n",
    "    print('a is bigger than b')\n",
    "elif a > b:\n",
    "    print('a is bigger than b')"
   ]
  },
  {
   "cell_type": "markdown",
   "id": "0c7a800f",
   "metadata": {
    "slideshow": {
     "slide_type": "subslide"
    }
   },
   "source": [
    "### Syntax of a  `if-elif-else` statement: check more than one conditions\n",
    "\n",
    "```python\n",
    "if a > b:\n",
    "    print('a is bigger than b')\n",
    "elif a < b:\n",
    "    print('a is smaller than b')\n",
    "elif a < b:\n",
    "    print('a is smaller than b')\n",
    "elif a < b:\n",
    "    print('a is smaller than b')\n",
    "else:\n",
    "    print('a is equal to b') \n",
    "```\n",
    "\n",
    "* `if`, `elif`, and `else`: keywords for the Conditional Execution\n",
    "* `a > b`: the first condition \n",
    "    * if `True`, the block following that condition is executed and rest is ignored.\n",
    "    * if `False`, check the second condition after `elif` \n",
    "* `a < b`: the second condition\n",
    "    * if `True`, the block following that condition is executed and rest is ignored.\n",
    "    * if `False`, the else statement is executed.\n",
    "    \n",
    "**Conditions do not have to be mutually exclusive, but it makes better sense if they do!**\n"
   ]
  },
  {
   "cell_type": "markdown",
   "id": "b10d70fe",
   "metadata": {
    "slideshow": {
     "slide_type": "subslide"
    }
   },
   "source": [
    "### Group Exercise\n",
    "\n",
    "Using `if`, `elif` and `else` statements write a code where you check whether number $a$ is larger than $b$ and whether $c$ is larger than $d$, and all the other potential relationships. For instance, \n",
    "\n",
    "* if number $a$ is larger than $b$ and $c$ is larger than $d$, the program print \"a is larger than b and c is larger than d\". \n",
    "* if number $a$ is smaller than $b$ and $c$ is smaller than $d$, the program print \"a is smaller than b and c is smaller than d\". \n",
    "* if number $a$ is larger than $b$ and $c$ is smaller than $d$, the program print \"a is larger than b and c is smaller than d\". \n",
    "* if number $a$ is smaller than $b$ and $c$ is larger than $d$, the program print \"a is smaller than b and c is larger than d\". \n",
    "* if none of the above is true, the program print \"a is equal to b or c is equal to d\".  \n",
    "\n",
    "> When you are done, raise your hand!"
   ]
  },
  {
   "cell_type": "code",
   "execution_count": 26,
   "id": "420d219c",
   "metadata": {},
   "outputs": [
    {
     "name": "stdout",
     "output_type": "stream",
     "text": [
      "a is larger than b and c is smaller than d\n"
     ]
    }
   ],
   "source": [
    "a = 100\n",
    "b = 5\n",
    "c = 6\n",
    "d = 7\n",
    "\n",
    "if a > b and c>d:\n",
    "    print(\"a is larger than b and c is larger than d\")\n",
    "elif a <b and c<d:\n",
    "    print(\"a is smaller than b and c is smaller than d\")    \n",
    "elif a > b and c<d:\n",
    "    print(\"a is larger than b and c is smaller than d\")    \n",
    "elif a < b and c>d:\n",
    "    print(\"a is smaller than b and c is larger than d\")  \n",
    "else:\n",
    "    print(\"a is equal to b or c is equal to d\")  "
   ]
  },
  {
   "cell_type": "markdown",
   "id": "d998f44a",
   "metadata": {
    "slideshow": {
     "slide_type": "subslide"
    }
   },
   "source": [
    "### _Translate that!_\n",
    "\n",
    "> What does a  `if-elif-else` statement do? "
   ]
  },
  {
   "cell_type": "markdown",
   "id": "f93496c2",
   "metadata": {
    "slideshow": {
     "slide_type": "slide"
    }
   },
   "source": [
    "# Standard Data Types in Python - strings\n",
    "\n",
    "| Category of Data type | Data type            | Example    |\n",
    "| -------------- | -------------------- | ---------- |\n",
    "| Numeric, scalar         | Integer| 1       |\n",
    "|        | Floats   | 1.2   |\n",
    "|          | Complex    | 1.5+0.5j  |\n",
    "|         | Booleans   | True    |\n",
    "| Container    | strings   | \"Hello World\"   |\n",
    "|     | List   | [1, \"Hello World\"]  |\n",
    "|     | Tuple   | (1, \"Hello World\")  |\n",
    "|     | Set   | {1, \"Hello World\"}   |\n",
    "|     | Dictionary   | {1: \"Hello World\", 2: 100} |"
   ]
  },
  {
   "cell_type": "markdown",
   "id": "32b6278b",
   "metadata": {
    "slideshow": {
     "slide_type": "subslide"
    }
   },
   "source": [
    "## What is a string in python?\n",
    "\n",
    "* A sequence of characters\n",
    "* Characters are ordered \n",
    "* Immutable: characters can't be changed once created"
   ]
  },
  {
   "cell_type": "markdown",
   "id": "b807397f",
   "metadata": {
    "slideshow": {
     "slide_type": "subslide"
    }
   },
   "source": [
    "## Creating a String \n",
    "\n",
    "* Assignment statement with `=`\n",
    "* Function `str()`"
   ]
  },
  {
   "cell_type": "code",
   "execution_count": 27,
   "id": "d5a44560",
   "metadata": {},
   "outputs": [
    {
     "data": {
      "text/plain": [
       "'A string of words'"
      ]
     },
     "execution_count": 27,
     "metadata": {},
     "output_type": "execute_result"
    }
   ],
   "source": [
    "s = \"A string of words\"\n",
    "s"
   ]
  },
  {
   "cell_type": "code",
   "execution_count": 28,
   "id": "b020b597",
   "metadata": {},
   "outputs": [
    {
     "data": {
      "text/plain": [
       "str"
      ]
     },
     "execution_count": 28,
     "metadata": {},
     "output_type": "execute_result"
    }
   ],
   "source": [
    "type(s)"
   ]
  },
  {
   "cell_type": "code",
   "execution_count": 29,
   "id": "7fcc7817",
   "metadata": {},
   "outputs": [
    {
     "data": {
      "text/plain": [
       "'A string of words'"
      ]
     },
     "execution_count": 29,
     "metadata": {},
     "output_type": "execute_result"
    }
   ],
   "source": [
    "s1 = 'A string of words'\n",
    "s1"
   ]
  },
  {
   "cell_type": "code",
   "execution_count": 30,
   "id": "9a04f4f0",
   "metadata": {},
   "outputs": [
    {
     "data": {
      "text/plain": [
       "True"
      ]
     },
     "execution_count": 30,
     "metadata": {},
     "output_type": "execute_result"
    }
   ],
   "source": [
    "s == s1"
   ]
  },
  {
   "cell_type": "code",
   "execution_count": 31,
   "id": "d76f83cb",
   "metadata": {},
   "outputs": [
    {
     "ename": "SyntaxError",
     "evalue": "unterminated string literal (detected at line 1) (3794079569.py, line 1)",
     "output_type": "error",
     "traceback": [
      "\u001b[0;36m  Cell \u001b[0;32mIn[31], line 1\u001b[0;36m\u001b[0m\n\u001b[0;31m    s2 = 'A string of words\"\u001b[0m\n\u001b[0m         ^\u001b[0m\n\u001b[0;31mSyntaxError\u001b[0m\u001b[0;31m:\u001b[0m unterminated string literal (detected at line 1)\n"
     ]
    }
   ],
   "source": [
    "s2 = 'A string of words\"\n",
    "s2"
   ]
  },
  {
   "cell_type": "code",
   "execution_count": 32,
   "id": "33fef7f7",
   "metadata": {},
   "outputs": [
    {
     "data": {
      "text/plain": [
       "100"
      ]
     },
     "execution_count": 32,
     "metadata": {},
     "output_type": "execute_result"
    }
   ],
   "source": [
    "x = 10**2\n",
    "x"
   ]
  },
  {
   "cell_type": "code",
   "execution_count": 33,
   "id": "01e45754",
   "metadata": {},
   "outputs": [
    {
     "data": {
      "text/plain": [
       "'100'"
      ]
     },
     "execution_count": 33,
     "metadata": {},
     "output_type": "execute_result"
    }
   ],
   "source": [
    "xs = str(x)\n",
    "xs"
   ]
  },
  {
   "cell_type": "code",
   "execution_count": 34,
   "id": "dbadfa95",
   "metadata": {},
   "outputs": [
    {
     "data": {
      "text/plain": [
       "int"
      ]
     },
     "execution_count": 34,
     "metadata": {},
     "output_type": "execute_result"
    }
   ],
   "source": [
    "type(x)"
   ]
  },
  {
   "cell_type": "code",
   "execution_count": 35,
   "id": "3c93f3ce",
   "metadata": {},
   "outputs": [
    {
     "data": {
      "text/plain": [
       "str"
      ]
     },
     "execution_count": 35,
     "metadata": {},
     "output_type": "execute_result"
    }
   ],
   "source": [
    "type(xs)"
   ]
  },
  {
   "cell_type": "code",
   "execution_count": 36,
   "id": "f45a1f49",
   "metadata": {},
   "outputs": [
    {
     "data": {
      "text/plain": [
       "100"
      ]
     },
     "execution_count": 36,
     "metadata": {},
     "output_type": "execute_result"
    }
   ],
   "source": [
    "int(xs)"
   ]
  },
  {
   "cell_type": "code",
   "execution_count": 40,
   "id": "177e5eff",
   "metadata": {},
   "outputs": [
    {
     "data": {
      "text/plain": [
       "1000"
      ]
     },
     "execution_count": 40,
     "metadata": {},
     "output_type": "execute_result"
    }
   ],
   "source": [
    "a = \"1000\"\n",
    "int(a)"
   ]
  },
  {
   "cell_type": "code",
   "execution_count": 41,
   "id": "21c48658",
   "metadata": {},
   "outputs": [
    {
     "data": {
      "text/plain": [
       "int"
      ]
     },
     "execution_count": 41,
     "metadata": {},
     "output_type": "execute_result"
    }
   ],
   "source": [
    "a = 1000\n",
    "type(a)"
   ]
  },
  {
   "cell_type": "code",
   "execution_count": 42,
   "id": "ea0a263e",
   "metadata": {},
   "outputs": [
    {
     "data": {
      "text/plain": [
       "float"
      ]
     },
     "execution_count": 42,
     "metadata": {},
     "output_type": "execute_result"
    }
   ],
   "source": [
    "a = 1000.0\n",
    "type(a)"
   ]
  },
  {
   "cell_type": "code",
   "execution_count": 43,
   "id": "a1f1408b",
   "metadata": {},
   "outputs": [
    {
     "data": {
      "text/plain": [
       "str"
      ]
     },
     "execution_count": 43,
     "metadata": {},
     "output_type": "execute_result"
    }
   ],
   "source": [
    "a = '1000'\n",
    "type(a)"
   ]
  },
  {
   "cell_type": "code",
   "execution_count": 44,
   "id": "d939a5fb",
   "metadata": {},
   "outputs": [
    {
     "data": {
      "text/plain": [
       "10100"
      ]
     },
     "execution_count": 44,
     "metadata": {},
     "output_type": "execute_result"
    }
   ],
   "source": [
    "a = int(\"10100\")\n",
    "a"
   ]
  },
  {
   "cell_type": "code",
   "execution_count": 45,
   "id": "090d4a22",
   "metadata": {},
   "outputs": [
    {
     "data": {
      "text/plain": [
       "10100"
      ]
     },
     "execution_count": 45,
     "metadata": {},
     "output_type": "execute_result"
    }
   ],
   "source": [
    "a = int(\"010100\")\n",
    "a"
   ]
  },
  {
   "cell_type": "code",
   "execution_count": 46,
   "id": "d3f8192a",
   "metadata": {},
   "outputs": [
    {
     "ename": "ValueError",
     "evalue": "invalid literal for int() with base 10: 'python'",
     "output_type": "error",
     "traceback": [
      "\u001b[0;31m---------------------------------------------------------------------------\u001b[0m",
      "\u001b[0;31mValueError\u001b[0m                                Traceback (most recent call last)",
      "Cell \u001b[0;32mIn[46], line 1\u001b[0m\n\u001b[0;32m----> 1\u001b[0m \u001b[38;5;28;43mint\u001b[39;49m\u001b[43m(\u001b[49m\u001b[38;5;124;43m\"\u001b[39;49m\u001b[38;5;124;43mpython\u001b[39;49m\u001b[38;5;124;43m\"\u001b[39;49m\u001b[43m)\u001b[49m\n",
      "\u001b[0;31mValueError\u001b[0m: invalid literal for int() with base 10: 'python'"
     ]
    }
   ],
   "source": [
    "int(\"python\")"
   ]
  },
  {
   "cell_type": "code",
   "execution_count": 47,
   "id": "18b374f3",
   "metadata": {},
   "outputs": [
    {
     "ename": "ValueError",
     "evalue": "invalid literal for int() with base 10: '10.2'",
     "output_type": "error",
     "traceback": [
      "\u001b[0;31m---------------------------------------------------------------------------\u001b[0m",
      "\u001b[0;31mValueError\u001b[0m                                Traceback (most recent call last)",
      "Cell \u001b[0;32mIn[47], line 1\u001b[0m\n\u001b[0;32m----> 1\u001b[0m \u001b[38;5;28;43mint\u001b[39;49m\u001b[43m(\u001b[49m\u001b[38;5;124;43m\"\u001b[39;49m\u001b[38;5;124;43m10.2\u001b[39;49m\u001b[38;5;124;43m\"\u001b[39;49m\u001b[43m)\u001b[49m\n",
      "\u001b[0;31mValueError\u001b[0m: invalid literal for int() with base 10: '10.2'"
     ]
    }
   ],
   "source": [
    "int(\"10.2\")"
   ]
  },
  {
   "cell_type": "markdown",
   "id": "9cc392bc",
   "metadata": {
    "slideshow": {
     "slide_type": "subslide"
    }
   },
   "source": [
    "## String concatenation\n",
    "\n",
    "\"addition\" of two strings (with ``+``)"
   ]
  },
  {
   "cell_type": "code",
   "execution_count": 48,
   "id": "6eab1b7e",
   "metadata": {},
   "outputs": [
    {
     "data": {
      "text/plain": [
       "3"
      ]
     },
     "execution_count": 48,
     "metadata": {},
     "output_type": "execute_result"
    }
   ],
   "source": [
    "1 + 2 "
   ]
  },
  {
   "cell_type": "code",
   "execution_count": 49,
   "id": "1e829f59",
   "metadata": {},
   "outputs": [],
   "source": [
    "str_1 = 'hello'\n",
    "str_2 = 'world'"
   ]
  },
  {
   "cell_type": "code",
   "execution_count": 50,
   "id": "560810c1",
   "metadata": {},
   "outputs": [
    {
     "data": {
      "text/plain": [
       "'helloworld'"
      ]
     },
     "execution_count": 50,
     "metadata": {},
     "output_type": "execute_result"
    }
   ],
   "source": [
    "str_1 + str_2"
   ]
  },
  {
   "cell_type": "code",
   "execution_count": 51,
   "id": "aed31271",
   "metadata": {},
   "outputs": [
    {
     "data": {
      "text/plain": [
       "'helloworld'"
      ]
     },
     "execution_count": 51,
     "metadata": {},
     "output_type": "execute_result"
    }
   ],
   "source": [
    "new_string = str_1 + str_2\n",
    "new_string"
   ]
  },
  {
   "cell_type": "markdown",
   "id": "430175c0",
   "metadata": {
    "slideshow": {
     "slide_type": "fragment"
    }
   },
   "source": [
    "Add a space (string `' '`) in the middle of the two variables. A space is a character!"
   ]
  },
  {
   "cell_type": "code",
   "execution_count": 52,
   "id": "4f963c1e",
   "metadata": {},
   "outputs": [
    {
     "data": {
      "text/plain": [
       "'hello world '"
      ]
     },
     "execution_count": 52,
     "metadata": {},
     "output_type": "execute_result"
    }
   ],
   "source": [
    "a = str_1 + ' ' + str_2 + \" \"\n",
    "a"
   ]
  },
  {
   "cell_type": "code",
   "execution_count": 53,
   "id": "4cbed78e",
   "metadata": {},
   "outputs": [
    {
     "data": {
      "text/plain": [
       "'hello world '"
      ]
     },
     "execution_count": 53,
     "metadata": {},
     "output_type": "execute_result"
    }
   ],
   "source": [
    "a"
   ]
  },
  {
   "cell_type": "code",
   "execution_count": 54,
   "id": "85767121",
   "metadata": {},
   "outputs": [
    {
     "data": {
      "text/plain": [
       "6"
      ]
     },
     "execution_count": 54,
     "metadata": {},
     "output_type": "execute_result"
    }
   ],
   "source": [
    "2 *3"
   ]
  },
  {
   "cell_type": "code",
   "execution_count": 55,
   "id": "66d40687",
   "metadata": {},
   "outputs": [
    {
     "data": {
      "text/plain": [
       "'hello world hello world '"
      ]
     },
     "execution_count": 55,
     "metadata": {},
     "output_type": "execute_result"
    }
   ],
   "source": [
    "2 * a"
   ]
  },
  {
   "cell_type": "code",
   "execution_count": 56,
   "id": "508f5ef9",
   "metadata": {},
   "outputs": [
    {
     "data": {
      "text/plain": [
       "'hello world hello world hello world hello world hello world '"
      ]
     },
     "execution_count": 56,
     "metadata": {},
     "output_type": "execute_result"
    }
   ],
   "source": [
    "5 * a"
   ]
  },
  {
   "cell_type": "code",
   "execution_count": 57,
   "id": "46c07b7f",
   "metadata": {},
   "outputs": [
    {
     "ename": "TypeError",
     "evalue": "can't multiply sequence by non-int of type 'str'",
     "output_type": "error",
     "traceback": [
      "\u001b[0;31m---------------------------------------------------------------------------\u001b[0m",
      "\u001b[0;31mTypeError\u001b[0m                                 Traceback (most recent call last)",
      "Cell \u001b[0;32mIn[57], line 1\u001b[0m\n\u001b[0;32m----> 1\u001b[0m \u001b[43mstr_1\u001b[49m\u001b[43m \u001b[49m\u001b[38;5;241;43m*\u001b[39;49m\u001b[43m \u001b[49m\u001b[43mstr_2\u001b[49m\n",
      "\u001b[0;31mTypeError\u001b[0m: can't multiply sequence by non-int of type 'str'"
     ]
    }
   ],
   "source": [
    "str_1 * str_2"
   ]
  },
  {
   "cell_type": "code",
   "execution_count": 58,
   "id": "a688edcb",
   "metadata": {},
   "outputs": [],
   "source": [
    "my_string = \"hello world\""
   ]
  },
  {
   "cell_type": "markdown",
   "id": "953e54b4",
   "metadata": {
    "slideshow": {
     "slide_type": "subslide"
    }
   },
   "source": [
    "###  Group Exercise:\n",
    "\n",
    "Create a new string variable `final_string` that adds three exclamation points to the end of `my_string`.\n",
    "\n",
    "```python\n",
    "my_string = \"hello world\"\n",
    "```\n",
    "\n",
    "> When you are done, raise your hand!"
   ]
  },
  {
   "cell_type": "code",
   "execution_count": 59,
   "id": "97e3ea20",
   "metadata": {},
   "outputs": [
    {
     "data": {
      "text/plain": [
       "'hello world!!!'"
      ]
     },
     "execution_count": 59,
     "metadata": {},
     "output_type": "execute_result"
    }
   ],
   "source": [
    "my_string = my_string + \"!!!\"\n",
    "my_string"
   ]
  },
  {
   "cell_type": "markdown",
   "id": "ccf157a8",
   "metadata": {},
   "source": [
    "## Indexing String\n",
    "\n",
    "To access each separate character in a string\n",
    "\n",
    "Structure: ``string[index]``\n",
    "* string variable name\n",
    "* square brackets\n",
    "* index: integer (starts from 0 in python)"
   ]
  },
  {
   "cell_type": "code",
   "execution_count": 60,
   "id": "8283df12",
   "metadata": {},
   "outputs": [],
   "source": [
    "my_string = \"Hello World\""
   ]
  },
  {
   "cell_type": "code",
   "execution_count": 61,
   "id": "31638b2a",
   "metadata": {
    "slideshow": {
     "slide_type": "fragment"
    }
   },
   "outputs": [
    {
     "data": {
      "text/plain": [
       "'H'"
      ]
     },
     "execution_count": 61,
     "metadata": {},
     "output_type": "execute_result"
    }
   ],
   "source": [
    "my_string[0]"
   ]
  },
  {
   "cell_type": "code",
   "execution_count": 62,
   "id": "423f92ee",
   "metadata": {},
   "outputs": [
    {
     "data": {
      "text/plain": [
       "'o'"
      ]
     },
     "execution_count": 62,
     "metadata": {},
     "output_type": "execute_result"
    }
   ],
   "source": [
    "my_string[4]"
   ]
  },
  {
   "cell_type": "markdown",
   "id": "fe0de9c4",
   "metadata": {},
   "source": [
    "#### Group  Task: How do we get the last character in this string? \n",
    "\n",
    "```python\n",
    "my_string = \"Hello World\"\n",
    "```\n",
    "\n",
    "> When you are done, raise your hand"
   ]
  },
  {
   "cell_type": "code",
   "execution_count": 63,
   "id": "c01ead88",
   "metadata": {},
   "outputs": [
    {
     "data": {
      "text/plain": [
       "'d'"
      ]
     },
     "execution_count": 63,
     "metadata": {},
     "output_type": "execute_result"
    }
   ],
   "source": [
    "my_string[10]"
   ]
  },
  {
   "cell_type": "code",
   "execution_count": 64,
   "id": "6827844d",
   "metadata": {},
   "outputs": [
    {
     "data": {
      "text/plain": [
       "11"
      ]
     },
     "execution_count": 64,
     "metadata": {},
     "output_type": "execute_result"
    }
   ],
   "source": [
    "len(my_string)"
   ]
  },
  {
   "cell_type": "markdown",
   "id": "5b60ff64",
   "metadata": {},
   "source": [
    "`len` is a built-in function that returns the number of characters in a string"
   ]
  },
  {
   "cell_type": "code",
   "execution_count": 65,
   "id": "da2f1f35",
   "metadata": {},
   "outputs": [
    {
     "data": {
      "text/plain": [
       "11"
      ]
     },
     "execution_count": 65,
     "metadata": {},
     "output_type": "execute_result"
    }
   ],
   "source": [
    "length = len(my_string)\n",
    "length"
   ]
  },
  {
   "cell_type": "code",
   "execution_count": 66,
   "id": "7e5ac166",
   "metadata": {},
   "outputs": [
    {
     "data": {
      "text/plain": [
       "'d'"
      ]
     },
     "execution_count": 66,
     "metadata": {},
     "output_type": "execute_result"
    }
   ],
   "source": [
    "my_string[length - 1]"
   ]
  },
  {
   "cell_type": "code",
   "execution_count": 67,
   "id": "27810000",
   "metadata": {},
   "outputs": [
    {
     "data": {
      "text/plain": [
       "'d'"
      ]
     },
     "execution_count": 67,
     "metadata": {},
     "output_type": "execute_result"
    }
   ],
   "source": [
    "my_string[len(my_string) -1 ]"
   ]
  },
  {
   "cell_type": "code",
   "execution_count": 68,
   "id": "50f31ae0",
   "metadata": {},
   "outputs": [
    {
     "data": {
      "text/plain": [
       "'d'"
      ]
     },
     "execution_count": 68,
     "metadata": {},
     "output_type": "execute_result"
    }
   ],
   "source": [
    "my_string[11 -1]"
   ]
  },
  {
   "cell_type": "code",
   "execution_count": 69,
   "id": "7e4edee2",
   "metadata": {},
   "outputs": [
    {
     "ename": "IndexError",
     "evalue": "string index out of range",
     "output_type": "error",
     "traceback": [
      "\u001b[0;31m---------------------------------------------------------------------------\u001b[0m",
      "\u001b[0;31mIndexError\u001b[0m                                Traceback (most recent call last)",
      "Cell \u001b[0;32mIn[69], line 1\u001b[0m\n\u001b[0;32m----> 1\u001b[0m \u001b[43mmy_string\u001b[49m\u001b[43m[\u001b[49m\u001b[38;5;241;43m11\u001b[39;49m\u001b[43m]\u001b[49m\n",
      "\u001b[0;31mIndexError\u001b[0m: string index out of range"
     ]
    }
   ],
   "source": [
    "my_string[11]"
   ]
  },
  {
   "cell_type": "markdown",
   "id": "b969d6d9",
   "metadata": {},
   "source": [
    "### Access the last charater in a string\n",
    "\n",
    "* Find the index of the last charater \n",
    "    * A built-in function called len() that gives the information about length of an object\n",
    "* Use that index to access the character\n",
    "\n",
    "**Python starts counting at zero!**\n",
    "\n",
    "**The index of the last element will always be: len(string) - 1**\n"
   ]
  },
  {
   "cell_type": "markdown",
   "id": "d6134740",
   "metadata": {},
   "source": [
    "### Negative index\n",
    "Another way to grab the last element so we don't need to calculate the length and substract one.\n",
    "\n",
    "Count backwards!"
   ]
  },
  {
   "cell_type": "code",
   "execution_count": 70,
   "id": "bbddf814",
   "metadata": {},
   "outputs": [
    {
     "data": {
      "text/plain": [
       "'Hello World'"
      ]
     },
     "execution_count": 70,
     "metadata": {},
     "output_type": "execute_result"
    }
   ],
   "source": [
    "my_string"
   ]
  },
  {
   "cell_type": "code",
   "execution_count": 71,
   "id": "4a0ae0df",
   "metadata": {},
   "outputs": [
    {
     "data": {
      "text/plain": [
       "'d'"
      ]
     },
     "execution_count": 71,
     "metadata": {},
     "output_type": "execute_result"
    }
   ],
   "source": [
    "my_string[-1]"
   ]
  },
  {
   "cell_type": "code",
   "execution_count": 72,
   "id": "960eb63a",
   "metadata": {},
   "outputs": [
    {
     "data": {
      "text/plain": [
       "'l'"
      ]
     },
     "execution_count": 72,
     "metadata": {},
     "output_type": "execute_result"
    }
   ],
   "source": [
    "my_string[-2]"
   ]
  },
  {
   "attachments": {},
   "cell_type": "markdown",
   "id": "2160af8a",
   "metadata": {},
   "source": [
    "## Assignment: HW2\n",
    "\n",
    "* released today\n",
    "* due by 09/18\n"
   ]
  },
  {
   "cell_type": "markdown",
   "id": "d3a78926",
   "metadata": {
    "slideshow": {
     "slide_type": "slide"
    }
   },
   "source": [
    "# Next Class\n",
    "\n",
    "* String \n",
    "* Iterations\n",
    "\n",
    "Readings: Chapter 7"
   ]
  }
 ],
 "metadata": {
  "celltoolbar": "Slideshow",
  "kernelspec": {
   "display_name": "Python 3 (ipykernel)",
   "language": "python",
   "name": "python3"
  },
  "language_info": {
   "codemirror_mode": {
    "name": "ipython",
    "version": 3
   },
   "file_extension": ".py",
   "mimetype": "text/x-python",
   "name": "python",
   "nbconvert_exporter": "python",
   "pygments_lexer": "ipython3",
   "version": "3.11.0"
  }
 },
 "nbformat": 4,
 "nbformat_minor": 5
}
