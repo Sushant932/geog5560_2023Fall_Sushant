{
 "cells": [
  {
   "cell_type": "markdown",
   "id": "4a946a22",
   "metadata": {
    "slideshow": {
     "slide_type": "slide"
    }
   },
   "source": [
    "# Introduction to Python for Open Source Geocomputation\n",
    "\n",
    "![python](pics/python-logo-master-v3-TM.png)\n",
    "\n",
    "* Instructor: Dr. Wei Kang\n",
    "\n",
    "Content:\n",
    "\n",
    "* Final Project\n",
    "* Q & A\n",
    "* Discussion"
   ]
  },
  {
   "cell_type": "markdown",
   "id": "23c58fc8",
   "metadata": {
    "slideshow": {
     "slide_type": "slide"
    }
   },
   "source": [
    "# Course Project Requirements\n",
    "\n",
    "* Individually design, implement, and write about a project which intensively uses Python programming for problem solving. \n",
    "* The topic can be GIS related or unrelated.\n",
    "* Three deliverables (45 points):\n",
    "    * Project Idea/Proposal Presentation (5 mins) - 11/08 Class\n",
    "    * Project Presentation (10-15 mins) - 12/04 or 12/06 class\n",
    "    * Project Report (Jupyter Notebook) - by 12/12 \n"
   ]
  },
  {
   "cell_type": "markdown",
   "id": "54f50632",
   "metadata": {
    "slideshow": {
     "slide_type": "slide"
    }
   },
   "source": [
    "## Choosing Project Topic\n",
    "\n",
    "* Project Objective/Goal:\n",
    "    * To apply the lesson material to your own tasks and make them easier, faster, or more accurate\n",
    "    * Up to you, but it is preferably one that relates to your current field of work or a field in which you have a personal interest\n",
    "* Scale of the project: How many lines of code?\n",
    "    * Not as important as the problem you solved\n",
    "    * Encourage proposing a project that meets or slightly exceeds your level of experience with programming.\n",
    "* Project Duration: How much time do I have to complete the project?\n",
    "    * You will have 1+ classes at the end of the semester (11/29) to dedicate toward the project. This is your chance to apply what you've learned about Python to a problem that really interests you.\n",
    "    * On 12/4 or 12/6, you are expected to have complete your project so that you will be able to give a presentation on it.\n",
    "    * By 12/12, you need to submit a written report on the project.\n",
    "* Token syste: \n",
    "    * cannot apply a token to presentations\n",
    "    * can apply no more than one token to extend the submission datae for the final report"
   ]
  },
  {
   "cell_type": "markdown",
   "id": "8fb337eb",
   "metadata": {
    "slideshow": {
     "slide_type": "subslide"
    }
   },
   "source": [
    "## Project ideas - What is allowed and what is not?\n",
    "\n",
    "* Can be GIS related or not related.\n",
    "* You may work on a similar project from another course or your work, or part of your thesis project, but you will need to intensively use python programming for the whole project of your choice (including (geo)data input/output, wrangling, analysis and (geo)visualization). (Double submission is not allowed and faculty members in the department work together to prevent such issues.)\n"
   ]
  },
  {
   "cell_type": "markdown",
   "id": "a66981f6",
   "metadata": {
    "slideshow": {
     "slide_type": "subslide"
    }
   },
   "source": [
    "## Sample project ideas\n",
    "\n",
    "* Compare dataset statistics: Make a tool or script that takes two data sets (csv or shapefile) as input, along with a column name. The tool should check whether the field is numeric and exists in both datasets. If both these conditions are met, the tool should calculate statistics for that field for both feature classes and report the difference. Statistics could be sum, average, standard deviation, etc.\n",
    "* suitability analysis (reclassify, overlay,...) \n",
    "* quick function to read work files and make format consistent (e.g., same length of id).\n",
    "* Analysis and visualization: select your study area and data set, perform proper data manipulation, analysis (e.g., spatial analysis - hot/cold spot analysis, point cluster analysis or statistical analysis - regression, species distribution analysis, machine learning, etc), and visualization.\n",
    "    * data from your work/research\n",
    "    * Census data: unemployment, income, poverty, etc. <https://www.census.gov/programs-surveys/acs/data.html>\n",
    "    * Project ideas from [online posts](https://medium.com/coders-camp/180-data-science-and-machine-learning-projects-with-python-6191bc7b9db9) that can help you brainstorm "
   ]
  },
  {
   "cell_type": "markdown",
   "id": "2a463c41",
   "metadata": {
    "slideshow": {
     "slide_type": "subslide"
    }
   },
   "source": [
    "## Project design - An example\n",
    "\n",
    "### Objective\n",
    "Suppose you are responsible for selecting sites for a chain restaurant. The selection criteria are:\n",
    "\n",
    "* the land parcels need to be along a major road\n",
    "* the parcels need to be no smaller than 0.25 acres\n",
    "* other selection criteria\n",
    "\n",
    "### Implementation/ Problem solving\n",
    "\n",
    "For each selection criterion, there is one tool in ArcGIS for accomplishing it. \n",
    "\n",
    "If this selection process were limited to a small area, it would probably make sense to perform the work manually. \n",
    "\n",
    "However, let’s suppose you’re responsible for carrying out the same analysis for several areas around the country.  Because this scenario involves running the same sequence of tools for several areas, it is one that lends itself well to automation with programming. \n",
    "\n",
    "* faster\n",
    "* easier\n",
    "* more accurate\n",
    "\n",
    "### Design\n",
    "\n",
    "* a function for the whole site selection process by connecting the needed operations in order \n",
    "* iteration for all site selections"
   ]
  },
  {
   "cell_type": "markdown",
   "id": "c6e1990c",
   "metadata": {
    "slideshow": {
     "slide_type": "subslide"
    }
   },
   "source": [
    "## Project proposal presentation (5 mins)\n",
    "\n",
    "In our project idea/proposal presentation, you must clearly explain:\n",
    "\n",
    "* the task you intend to accomplish using Python;\n",
    "* how your proposed solution will make the task easier, faster, and/or more accurate\n",
    "* why your task could not simply be accomplished using the \"out-of-the-box\" tools (e.g., from ArcGIS/QGIS), or why your script gives a particular advantage over those tools (e.g., iterations or conditionals are required)\n",
    "* What other packages/libraries you expect to use for the project?\n",
    "* the deliverables you will submit for the project: preferably a zip file containing the following items:\n",
    "    * a well-documented python module (functions, classes, etc) \n",
    "    * the data set used for this project (if the data set is very large, please only include a small sample of it)\n",
    "    * a Jupyter Notebook with Markdown cells for narratives, and code cells for python code (for importing modules and run functions/statements/classes/visualization)."
   ]
  },
  {
   "cell_type": "markdown",
   "id": "c50e05df",
   "metadata": {
    "slideshow": {
     "slide_type": "subslide"
    }
   },
   "source": [
    "### Caveats about the proposal presentation\n",
    "\n",
    "* Submit your proposal presentation slide to Canvas before the presentation\n",
    "* The proposal will be used to **help grade the rest of your project.**\n",
    "* Your proposal must be **approved** by the instructor before you move forward with coding the project. "
   ]
  },
  {
   "cell_type": "markdown",
   "id": "c4845f77",
   "metadata": {
    "slideshow": {
     "slide_type": "slide"
    }
   },
   "source": [
    "## Project Evaluation criteria\n",
    "\n",
    "* Based on both project presentation and report\n",
    "\n",
    "* Python program: \n",
    "    * The project intensively use python programming for the whole project of your choice (including (geo)data input/output, wrangling, analysis and (geo)visualization). \n",
    "    * The python program needs to be carefully designed (modularity is important with functions, and classes), cleaned (no redundant code lines), and documented (proper docstrings). \n",
    "    * The submitted Jupyter Notebook runs without any error. \n",
    "* Writing:\n",
    "    * Clearly describe your project's objectives, plans, results, deliverables, and conclusions.\n",
    "    * Free of grammar mistakes.\n",
    "    * Proper usage of Markdown syntax in the Jupyter Notebook.\n",
    "        * headings\n",
    "        * lists\n",
    "        * links"
   ]
  }
 ],
 "metadata": {
  "celltoolbar": "Slideshow",
  "kernelspec": {
   "display_name": "Python 3 (ipykernel)",
   "language": "python",
   "name": "python3"
  },
  "language_info": {
   "codemirror_mode": {
    "name": "ipython",
    "version": 3
   },
   "file_extension": ".py",
   "mimetype": "text/x-python",
   "name": "python",
   "nbconvert_exporter": "python",
   "pygments_lexer": "ipython3",
   "version": "3.9.18"
  }
 },
 "nbformat": 4,
 "nbformat_minor": 5
}
