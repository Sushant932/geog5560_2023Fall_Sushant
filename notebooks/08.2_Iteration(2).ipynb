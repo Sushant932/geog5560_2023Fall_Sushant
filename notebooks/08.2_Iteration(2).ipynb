{
 "cells": [
  {
   "cell_type": "markdown",
   "id": "1bcd9856",
   "metadata": {
    "slideshow": {
     "slide_type": "slide"
    }
   },
   "source": [
    "# Introduction to Python for Open Source Geocomputation\n",
    "\n",
    "![python](pics/python-logo-master-v3-TM.png)\n",
    "\n",
    "* Instructor: Dr. Wei Kang\n",
    "\n",
    "Content:\n",
    "\n",
    "* Iterations\n",
    "    * `while` statement (comparison with `for` statement)\n",
    "    * `break` and `continue`"
   ]
  },
  {
   "cell_type": "markdown",
   "id": "badbd470",
   "metadata": {
    "slideshow": {
     "slide_type": "slide"
    }
   },
   "source": [
    "# Iteration with a `while` statement\n",
    "\n",
    "\n",
    "```python\n",
    "while condition:\n",
    "    print(\"sth\")\n",
    "```\n",
    "\n",
    "* to automate repetitive tasks\n",
    "* similar to a `for` statement, but explictly checking whether a condition is true\n",
    "* the flow of execution for a `while` statement:\n",
    "    1. Determine whether the condition is true or false.\n",
    "    2. If false, exit the `while` statement.\n",
    "    3. If the condition is true, run the body and then go back to step 1.\n",
    "\n",
    "<img src=\"pics/python-while-loop.png\" width=\"400\">"
   ]
  },
  {
   "cell_type": "code",
   "execution_count": 1,
   "id": "1f964275",
   "metadata": {},
   "outputs": [],
   "source": [
    "names=['waldo','rick','reg']"
   ]
  },
  {
   "cell_type": "code",
   "execution_count": 2,
   "id": "92d7ed11",
   "metadata": {},
   "outputs": [
    {
     "name": "stdout",
     "output_type": "stream",
     "text": [
      "reg\n",
      "rick\n",
      "waldo\n"
     ]
    }
   ],
   "source": [
    "while names:\n",
    "    name = names.pop()\n",
    "    print(name)"
   ]
  },
  {
   "cell_type": "markdown",
   "id": "a5ad9fe2",
   "metadata": {
    "slideshow": {
     "slide_type": "fragment"
    }
   },
   "source": [
    "Here the condition is that the list **names** is not empty.\n",
    "\n",
    "In each iteration, `names.pop()` removes the last element from names. So after three iterations, `names` becomes an empty list, and the condition is false, which stops the `while` statement."
   ]
  },
  {
   "cell_type": "code",
   "execution_count": 3,
   "id": "21e2ae01",
   "metadata": {},
   "outputs": [
    {
     "data": {
      "text/plain": [
       "[]"
      ]
     },
     "execution_count": 3,
     "metadata": {},
     "output_type": "execute_result"
    }
   ],
   "source": [
    "names"
   ]
  },
  {
   "cell_type": "markdown",
   "id": "ab6853cc",
   "metadata": {
    "slideshow": {
     "slide_type": "subslide"
    }
   },
   "source": [
    "### Group Exercise \n",
    "\n",
    "Discuss with your group members about the following `while` statement. What is the condition? how is the condition changed by each iteration? What does `while` statement do? \n",
    "\n",
    "\n",
    "```python\n",
    "n = 5\n",
    "while n > 0:\n",
    "    print(n)\n",
    "    n = n - 1\n",
    "print('Blastoff!')\n",
    "```\n",
    "\n",
    "> When you are done, raise your hand! I will randomly pick one group to present your answers."
   ]
  },
  {
   "cell_type": "code",
   "execution_count": 4,
   "id": "11298c73",
   "metadata": {},
   "outputs": [
    {
     "name": "stdout",
     "output_type": "stream",
     "text": [
      "10\n",
      "9\n",
      "8\n",
      "7\n",
      "6\n",
      "5\n",
      "4\n",
      "3\n",
      "2\n",
      "1\n",
      "Blastoff!\n"
     ]
    }
   ],
   "source": [
    "n = 10\n",
    "while n > 0:\n",
    "    print(n)\n",
    "    n = n - 1\n",
    "print('Blastoff!')"
   ]
  },
  {
   "cell_type": "markdown",
   "id": "4ab91b39",
   "metadata": {
    "slideshow": {
     "slide_type": "fragment"
    }
   },
   "source": [
    "While n is greater than 0, display the value of n and then decrement n. When you get to 0, display the word\n",
    "Blastoff!"
   ]
  },
  {
   "cell_type": "markdown",
   "id": "c1ace1a4",
   "metadata": {
    "slideshow": {
     "slide_type": "subslide"
    }
   },
   "source": [
    "## Caveats with `while` statements\n",
    "\n",
    "* The body of the `while` statement should change the value of one or more variables so that the condition becomes false eventually and the loop terminates.\n",
    "* Otherwise the loop will repeat forever, which is called an infinite loop."
   ]
  },
  {
   "cell_type": "markdown",
   "id": "18bfaf75",
   "metadata": {
    "slideshow": {
     "slide_type": "slide"
    }
   },
   "source": [
    "# Control iterations with `break` or `continue`\n",
    "\n",
    "* `break` statement\n",
    "    * terminate the whole loop \n",
    "* `continue` statement\n",
    "    * terminate the current iteration \n",
    "    \n",
    "Both are effective to `while` and `for` statements."
   ]
  },
  {
   "cell_type": "code",
   "execution_count": 5,
   "id": "e78925b0",
   "metadata": {},
   "outputs": [
    {
     "name": "stdout",
     "output_type": "stream",
     "text": [
      "9\n",
      "8\n",
      "7\n",
      "6\n",
      "5\n",
      "Blastoff!\n"
     ]
    }
   ],
   "source": [
    "n = 10\n",
    "while n > 0:\n",
    "    n = n - 1\n",
    "    print(n)\n",
    "    if n == 5:\n",
    "        break\n",
    "print('Blastoff!')"
   ]
  },
  {
   "cell_type": "code",
   "execution_count": 6,
   "id": "6dd142b3",
   "metadata": {},
   "outputs": [
    {
     "name": "stdout",
     "output_type": "stream",
     "text": [
      "9\n",
      "8\n",
      "7\n",
      "6\n",
      "5\n",
      "4\n",
      "3\n",
      "2\n",
      "1\n",
      "0\n",
      "Blastoff!\n"
     ]
    }
   ],
   "source": [
    "n = 10\n",
    "while n > 0:\n",
    "    n = n - 1\n",
    "    print(n)\n",
    "    if n == 5:\n",
    "        continue\n",
    "print('Blastoff!')"
   ]
  },
  {
   "cell_type": "code",
   "execution_count": 7,
   "id": "ca11a9b9",
   "metadata": {},
   "outputs": [
    {
     "name": "stdout",
     "output_type": "stream",
     "text": [
      "9\n",
      "8\n",
      "7\n",
      "6\n",
      "4\n",
      "3\n",
      "2\n",
      "1\n",
      "0\n",
      "Blastoff!\n"
     ]
    }
   ],
   "source": [
    "n = 10\n",
    "while n > 0:\n",
    "    n = n - 1\n",
    "    if n == 5:\n",
    "        continue\n",
    "    print(n)\n",
    "    \n",
    "print('Blastoff!')"
   ]
  },
  {
   "cell_type": "markdown",
   "id": "6d02f28a",
   "metadata": {
    "slideshow": {
     "slide_type": "subslide"
    }
   },
   "source": [
    "5 is not printed out if the `print` function is called after the `if/continue` statement."
   ]
  },
  {
   "cell_type": "markdown",
   "id": "aff15d56",
   "metadata": {
    "slideshow": {
     "slide_type": "subslide"
    }
   },
   "source": [
    "\n",
    "### Group Exercise \n",
    "\n",
    "Using `while` loop and `if` statement to iterate through an integer list and if there is a 100, print it with its index number. The `while` loop stops at the first 100.\n",
    "\n",
    "```python\n",
    "list_a = [1,2, 100, 10, 11, 100]\n",
    "```\n",
    "\n",
    "> When you are done, raise your hand!\n",
    "\n"
   ]
  },
  {
   "cell_type": "code",
   "execution_count": 8,
   "id": "3be0587b",
   "metadata": {},
   "outputs": [],
   "source": [
    "list_a = [1,2, 100, 10, 11, 100]"
   ]
  },
  {
   "cell_type": "code",
   "execution_count": 9,
   "id": "f40f6d82",
   "metadata": {},
   "outputs": [
    {
     "name": "stdout",
     "output_type": "stream",
     "text": [
      "2 100\n"
     ]
    }
   ],
   "source": [
    "index = 0\n",
    "while index < len(list_a):\n",
    "    if list_a[index] == 100:\n",
    "        print(index, 100)\n",
    "        break\n",
    "    index = index + 1"
   ]
  },
  {
   "cell_type": "code",
   "execution_count": 10,
   "id": "3487029d",
   "metadata": {},
   "outputs": [],
   "source": [
    "list_a = [1,2, 10, 11]\n",
    "index = 0\n",
    "while index < len(list_a):\n",
    "    if list_a[index] == 100:\n",
    "        print(index, 100)\n",
    "        break\n",
    "    index = index + 1"
   ]
  },
  {
   "cell_type": "code",
   "execution_count": null,
   "id": "5689ad5f",
   "metadata": {},
   "outputs": [],
   "source": []
  },
  {
   "cell_type": "markdown",
   "id": "0a7412bb",
   "metadata": {},
   "source": [
    "We can also use a `for` statement to complete the task:"
   ]
  },
  {
   "cell_type": "code",
   "execution_count": 11,
   "id": "81e40f88",
   "metadata": {},
   "outputs": [],
   "source": [
    "for index in range(len(list_a)):\n",
    "    value = list_a[index]\n",
    "    if value == 100:\n",
    "        print(100, index)\n",
    "        break"
   ]
  },
  {
   "cell_type": "markdown",
   "id": "1fc395e2",
   "metadata": {},
   "source": [
    "\n",
    "### Group Exercise \n",
    "\n",
    "Using `while` loop and `if` statement to iterate through an integer list and if the integer is not 100, print the integer with its index number.\n",
    "\n",
    "```python\n",
    "list_a = [1,2, 100, 10, 11, 100]\n",
    "```\n",
    "\n",
    "> When you are done, raise your hand!"
   ]
  },
  {
   "cell_type": "code",
   "execution_count": 12,
   "id": "a2afdacd",
   "metadata": {},
   "outputs": [
    {
     "name": "stdout",
     "output_type": "stream",
     "text": [
      "0 1\n",
      "1 2\n",
      "3 10\n",
      "4 11\n"
     ]
    }
   ],
   "source": [
    "list_a = [1,2, 100, 10, 11, 100]\n",
    "index = 0\n",
    "while index < len(list_a):\n",
    "    if list_a[index] != 100:\n",
    "        print(index, list_a[index])\n",
    "    index = index + 1\n"
   ]
  },
  {
   "cell_type": "code",
   "execution_count": 13,
   "id": "a7a59c78",
   "metadata": {},
   "outputs": [
    {
     "name": "stdout",
     "output_type": "stream",
     "text": [
      "1 1\n",
      "2 2\n",
      "4 10\n",
      "5 11\n"
     ]
    }
   ],
   "source": [
    "index = 0\n",
    "while index < len(list_a):\n",
    "    value = list_a[index]\n",
    "    index = index + 1\n",
    "    if value == 100:      \n",
    "        continue\n",
    "    print(index, value)\n",
    "    "
   ]
  },
  {
   "cell_type": "code",
   "execution_count": 14,
   "id": "81db635a",
   "metadata": {},
   "outputs": [
    {
     "name": "stdout",
     "output_type": "stream",
     "text": [
      "1 0\n",
      "2 1\n",
      "10 3\n",
      "11 4\n"
     ]
    }
   ],
   "source": [
    "index = 0\n",
    "while index < len(list_a):\n",
    "    integer = list_a[index]\n",
    "    if integer != 100:\n",
    "        print(integer, index)\n",
    "    index = index + 1"
   ]
  },
  {
   "cell_type": "code",
   "execution_count": 15,
   "id": "d437ee1d",
   "metadata": {},
   "outputs": [
    {
     "name": "stdout",
     "output_type": "stream",
     "text": [
      "1 0\n",
      "2 1\n"
     ]
    },
    {
     "ename": "KeyboardInterrupt",
     "evalue": "",
     "output_type": "error",
     "traceback": [
      "\u001b[0;31m---------------------------------------------------------------------------\u001b[0m",
      "\u001b[0;31mKeyboardInterrupt\u001b[0m                         Traceback (most recent call last)",
      "Cell \u001b[0;32mIn[15], line 2\u001b[0m\n\u001b[1;32m      1\u001b[0m index \u001b[38;5;241m=\u001b[39m \u001b[38;5;241m0\u001b[39m\n\u001b[0;32m----> 2\u001b[0m \u001b[38;5;28;01mwhile\u001b[39;00m index \u001b[38;5;241m<\u001b[39m \u001b[38;5;28;43mlen\u001b[39;49m(list_a):\n\u001b[1;32m      3\u001b[0m     integer \u001b[38;5;241m=\u001b[39m list_a[index]\n\u001b[1;32m      5\u001b[0m     \u001b[38;5;28;01mif\u001b[39;00m integer \u001b[38;5;241m==\u001b[39m \u001b[38;5;241m100\u001b[39m:\n",
      "\u001b[0;31mKeyboardInterrupt\u001b[0m: "
     ]
    }
   ],
   "source": [
    "index = 0\n",
    "while index < len(list_a):\n",
    "    integer = list_a[index]\n",
    "    \n",
    "    if integer == 100:\n",
    "        continue\n",
    "    print(integer, index)\n",
    "    index = index + 1"
   ]
  },
  {
   "cell_type": "markdown",
   "id": "4e3bad79",
   "metadata": {},
   "source": [
    "We run into infinite loops as the update of `index` occurs after the `if-continue` statement. So when `integer` has the value of 100, the iteration stopped and we go back to check the condition - it will always be `True` (we are stuck in the first 100).\n",
    "\n",
    "One potential fix is to update `index` before the `if-continue` statement"
   ]
  },
  {
   "cell_type": "code",
   "execution_count": null,
   "id": "5c846e9a",
   "metadata": {},
   "outputs": [],
   "source": [
    "index = 0\n",
    "while index < len(list_a):\n",
    "    integer = list_a[index]\n",
    "    index = index + 1\n",
    "    if integer == 100:\n",
    "        continue\n",
    "    print(integer, index-1)\n",
    "    "
   ]
  },
  {
   "cell_type": "code",
   "execution_count": null,
   "id": "5631d4e5",
   "metadata": {},
   "outputs": [],
   "source": [
    "for index in range(len(list_a)):\n",
    "    integer = list_a[index]\n",
    "    if integer != 100:\n",
    "        print(integer, index)\n",
    "        "
   ]
  },
  {
   "cell_type": "code",
   "execution_count": null,
   "id": "72042207",
   "metadata": {},
   "outputs": [],
   "source": [
    "for index in range(len(list_a)):\n",
    "    integer = list_a[index]\n",
    "    if integer == 100:\n",
    "        continue\n",
    "    print(integer, index)"
   ]
  },
  {
   "cell_type": "markdown",
   "id": "d81fa1af",
   "metadata": {},
   "source": [
    "## Nested loops\n",
    "\n",
    "```python\n",
    "for i in list_a:\n",
    "    for j in list_b:\n",
    "        body of the inner loop \n",
    "    body of the outer loop\n",
    "```\n",
    "\n",
    "* A nested loop is a loop inside a loop.\n",
    "* The \"inner loop\" will be executed one time for each iteration of the \"outer loop\".\n",
    "* Appropriate indentation is important - this is how python recognize which is the body of the inner loop and which is the body of the outer loop"
   ]
  },
  {
   "cell_type": "code",
   "execution_count": null,
   "id": "8ca1af4d",
   "metadata": {},
   "outputs": [],
   "source": [
    "persons = [ \"John\", \"Marissa\", \"Pete\", \"Dayton\" ]\n",
    "restaurants = [ \"Japanese\", \"American\", \"Mexican\", \"French\" ]"
   ]
  },
  {
   "cell_type": "code",
   "execution_count": null,
   "id": "ed4a26fa",
   "metadata": {},
   "outputs": [],
   "source": [
    "for person in persons:\n",
    "    for restaurant in restaurants:\n",
    "        print(person + \" eats \" + restaurant)"
   ]
  },
  {
   "cell_type": "code",
   "execution_count": null,
   "id": "54784186",
   "metadata": {},
   "outputs": [],
   "source": [
    "for i in range(1,4):\n",
    "    for j in range(1,4):\n",
    "        print(i*j, end=\" \")\n",
    "    print()"
   ]
  },
  {
   "cell_type": "markdown",
   "id": "6a388b13",
   "metadata": {},
   "source": [
    "Using Nested `for` loop to access each individual element from a list within a list"
   ]
  },
  {
   "cell_type": "code",
   "execution_count": null,
   "id": "44096cdc",
   "metadata": {},
   "outputs": [],
   "source": [
    "nested_list = [[\"university\", \"city\", \"state\"], \n",
    "               [\"UNT\", \"Denton\", \"TX\"]]"
   ]
  },
  {
   "cell_type": "code",
   "execution_count": null,
   "id": "f0281e7c",
   "metadata": {},
   "outputs": [],
   "source": [
    "for i in nested_list:\n",
    "    for j in i:\n",
    "        print(j)"
   ]
  },
  {
   "cell_type": "code",
   "execution_count": null,
   "id": "346c710e",
   "metadata": {},
   "outputs": [],
   "source": [
    "a = [[1,0],[1,2]]"
   ]
  },
  {
   "cell_type": "code",
   "execution_count": null,
   "id": "1ebc434c",
   "metadata": {},
   "outputs": [],
   "source": [
    "a[0][0] = 0"
   ]
  },
  {
   "cell_type": "code",
   "execution_count": null,
   "id": "79b0f137",
   "metadata": {},
   "outputs": [],
   "source": [
    "a"
   ]
  },
  {
   "cell_type": "markdown",
   "id": "9c6700d5",
   "metadata": {},
   "source": [
    "## Group exercise\n",
    "\n",
    "Using nested `for` loop to conduct element-wise math calculations on a nested list `list_num = [[1,2], [3,4]]`. Each number inside `list_num` will be multiplied by 10. `list_num` will be updated to be  `[[10,20], [30,40]]`\n",
    "\n",
    "> When you are done, raise your hand!"
   ]
  },
  {
   "cell_type": "code",
   "execution_count": null,
   "id": "4eb2af73",
   "metadata": {},
   "outputs": [],
   "source": [
    "list_num = [[1,2], [3,4]]"
   ]
  },
  {
   "cell_type": "code",
   "execution_count": null,
   "id": "385dded3",
   "metadata": {},
   "outputs": [],
   "source": [
    "for outer_index in range(2):\n",
    "    for inner_index in range(2):\n",
    "        list_num[outer_index][inner_index] = list_num[outer_index][inner_index] * 10"
   ]
  },
  {
   "cell_type": "code",
   "execution_count": null,
   "id": "b89d9bc2",
   "metadata": {},
   "outputs": [],
   "source": [
    "list_num"
   ]
  },
  {
   "cell_type": "code",
   "execution_count": null,
   "id": "c2a8dd7e",
   "metadata": {},
   "outputs": [],
   "source": [
    "list_num = [[1,2,3], [3,4,5]]"
   ]
  },
  {
   "cell_type": "code",
   "execution_count": null,
   "id": "81cd76d8",
   "metadata": {},
   "outputs": [],
   "source": [
    "for i in range(len(list_num)):\n",
    "    for j in range(len(list_num[0])):\n",
    "        list_num[i][j] = list_num[i][j]*10\n",
    "list_num        "
   ]
  },
  {
   "cell_type": "markdown",
   "id": "c2d04ce0",
   "metadata": {},
   "source": [
    "# Next Class\n",
    "\n",
    "* Object oriented programming\n",
    "\n",
    "## Readings\n",
    "\n",
    "* Chapters 15, 16!"
   ]
  }
 ],
 "metadata": {
  "celltoolbar": "Slideshow",
  "kernelspec": {
   "display_name": "Python 3 (ipykernel)",
   "language": "python",
   "name": "python3"
  },
  "language_info": {
   "codemirror_mode": {
    "name": "ipython",
    "version": 3
   },
   "file_extension": ".py",
   "mimetype": "text/x-python",
   "name": "python",
   "nbconvert_exporter": "python",
   "pygments_lexer": "ipython3",
   "version": "3.9.18"
  }
 },
 "nbformat": 4,
 "nbformat_minor": 5
}
