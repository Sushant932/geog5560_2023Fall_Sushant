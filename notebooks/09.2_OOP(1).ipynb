{
 "cells": [
  {
   "cell_type": "markdown",
   "id": "f151fc6c",
   "metadata": {
    "slideshow": {
     "slide_type": "slide"
    }
   },
   "source": [
    "# Introduction to Python for Open Source Geocomputation\n",
    "\n",
    "![python](pics/python-logo-master-v3-TM.png)\n",
    "\n",
    "* Instructor: Dr. Wei Kang\n",
    "\n",
    "Content:\n",
    "\n",
    "* Object-oriented programming (OOP)\n",
    "* Objects in Python\n",
    "* Class\n",
    "    * attribute\n",
    "    * method"
   ]
  },
  {
   "cell_type": "markdown",
   "id": "181bfe25",
   "metadata": {
    "slideshow": {
     "slide_type": "slide"
    }
   },
   "source": [
    "## Objects in Python\n",
    "\n",
    "* Python supports many different types of data\n",
    "\n",
    "```python\n",
    "1234, 3.14159, \"Hello\", True, [1, 5, 7, 11, 13], (1,2,3), {1,2,3}, {\"CA\": \"California\",\"TX\": \"Texas}\n",
    "```\n",
    "* In Python, everything is an object. All objects have:\n",
    "    * an unique ID, or location in the computer’s memory;\n",
    "    * a set of properties that describe the object;\n",
    "    * a set of methods, or things that the object can do.\n",
    "* Every object is an **instance** of a type\n",
    "    * `1234` is an instance of an int\n",
    "    * `\"hello\"` is an instance of a string"
   ]
  },
  {
   "cell_type": "code",
   "execution_count": 1,
   "id": "216eb736",
   "metadata": {
    "slideshow": {
     "slide_type": "fragment"
    }
   },
   "outputs": [
    {
     "data": {
      "text/plain": [
       "int"
      ]
     },
     "execution_count": 1,
     "metadata": {},
     "output_type": "execute_result"
    }
   ],
   "source": [
    "type(1234)"
   ]
  },
  {
   "cell_type": "code",
   "execution_count": 2,
   "id": "fdff0eed",
   "metadata": {},
   "outputs": [
    {
     "data": {
      "text/plain": [
       "4425316080"
      ]
     },
     "execution_count": 2,
     "metadata": {},
     "output_type": "execute_result"
    }
   ],
   "source": [
    "id(1234)"
   ]
  },
  {
   "cell_type": "code",
   "execution_count": 3,
   "id": "7ad90e90",
   "metadata": {
    "slideshow": {
     "slide_type": "fragment"
    }
   },
   "outputs": [
    {
     "data": {
      "text/plain": [
       "str"
      ]
     },
     "execution_count": 3,
     "metadata": {},
     "output_type": "execute_result"
    }
   ],
   "source": [
    "type(\"hello\")"
   ]
  },
  {
   "cell_type": "code",
   "execution_count": 4,
   "id": "3df36f3a",
   "metadata": {},
   "outputs": [
    {
     "data": {
      "text/plain": [
       "4408140592"
      ]
     },
     "execution_count": 4,
     "metadata": {},
     "output_type": "execute_result"
    }
   ],
   "source": [
    "id(\"hello\")"
   ]
  },
  {
   "cell_type": "code",
   "execution_count": 5,
   "id": "656a4d58",
   "metadata": {
    "slideshow": {
     "slide_type": "fragment"
    }
   },
   "outputs": [
    {
     "data": {
      "text/plain": [
       "type"
      ]
     },
     "execution_count": 5,
     "metadata": {},
     "output_type": "execute_result"
    }
   ],
   "source": [
    "type(str)"
   ]
  },
  {
   "cell_type": "code",
   "execution_count": 6,
   "id": "dffb3842",
   "metadata": {},
   "outputs": [
    {
     "data": {
      "text/plain": [
       "type"
      ]
     },
     "execution_count": 6,
     "metadata": {},
     "output_type": "execute_result"
    }
   ],
   "source": [
    "type(int)"
   ]
  },
  {
   "cell_type": "markdown",
   "id": "485b010f",
   "metadata": {
    "slideshow": {
     "slide_type": "subslide"
    }
   },
   "source": [
    "## Object-oriented programming (OOP)\n",
    "\n",
    "Object-oriented programming (OOP) is a programming paradigm based on the concept of \"objects\", which can contain data and code. The data is in the form of fields (often known as attributes or properties), and the code is in the form of procedures (often known as methods).\n",
    "\n",
    "* **EVERYTHING IN PYTHON IS AN OBJECT (and has a type)**\n",
    "* can **create new objects** of some type\n",
    "* can **manipulate objects**\n",
    "* can **destroy objects**\n",
    "    * explicitly using `del` or just “forget” about them\n",
    "        * `del obj_name` # delete an object"
   ]
  },
  {
   "cell_type": "code",
   "execution_count": 7,
   "id": "4aa972ff",
   "metadata": {},
   "outputs": [],
   "source": [
    "list_a = [1,2,3]"
   ]
  },
  {
   "cell_type": "code",
   "execution_count": 8,
   "id": "1d5e2487",
   "metadata": {},
   "outputs": [
    {
     "data": {
      "text/plain": [
       "3"
      ]
     },
     "execution_count": 8,
     "metadata": {},
     "output_type": "execute_result"
    }
   ],
   "source": [
    "list_a.pop()"
   ]
  },
  {
   "cell_type": "code",
   "execution_count": 9,
   "id": "af96c437",
   "metadata": {},
   "outputs": [
    {
     "data": {
      "text/plain": [
       "[1, 2]"
      ]
     },
     "execution_count": 9,
     "metadata": {},
     "output_type": "execute_result"
    }
   ],
   "source": [
    "list_a"
   ]
  },
  {
   "cell_type": "code",
   "execution_count": 10,
   "id": "4b1aa021",
   "metadata": {},
   "outputs": [],
   "source": [
    "del list_a"
   ]
  },
  {
   "cell_type": "code",
   "execution_count": 11,
   "id": "3230020a",
   "metadata": {},
   "outputs": [
    {
     "ename": "NameError",
     "evalue": "name 'list_a' is not defined",
     "output_type": "error",
     "traceback": [
      "\u001b[0;31m---------------------------------------------------------------------------\u001b[0m",
      "\u001b[0;31mNameError\u001b[0m                                 Traceback (most recent call last)",
      "Cell \u001b[0;32mIn[11], line 1\u001b[0m\n\u001b[0;32m----> 1\u001b[0m list_a\n",
      "\u001b[0;31mNameError\u001b[0m: name 'list_a' is not defined"
     ]
    }
   ],
   "source": [
    "list_a"
   ]
  },
  {
   "cell_type": "markdown",
   "id": "26e97887",
   "metadata": {
    "slideshow": {
     "slide_type": "subslide"
    }
   },
   "source": [
    "## What are objects?\n",
    "\n",
    "Objects are a data abstraction that captures:\n",
    "\n",
    "1. an internal representation\n",
    "    * through data **attributes**\n",
    "    \n",
    "2. an interface for interacting with object\n",
    "    * through **methods** (aka procedures/functions)\n",
    "    * defines behaviors but hides implementation"
   ]
  },
  {
   "cell_type": "markdown",
   "id": "90b02b09",
   "metadata": {
    "slideshow": {
     "slide_type": "subslide"
    }
   },
   "source": [
    "### EXAMPLE of Objects:\n",
    "\n",
    "**`[\"rich\", \"lisa\", \"andy\", \"zach\", \"tia\"] `has type `list`**\n",
    "\n",
    "<img src=\"pics/list_internal.jpeg\" alt=\"list internal representation\" style=\"width:500px\">\n",
    "\n",
    "* how are lists represented internally? \n",
    "    * linked list of cells\n",
    "    * Dynamic Array (python)\n",
    "* how to manipulate lists?\n",
    "    * `L[i], L[i:j], +`\n",
    "    * `len(), min(), max(), del L[i]`\n",
    "    * `L.append(),L.extend(),L.count(),L.index(), L.insert(),L.pop(),L.remove(),L.reverse(), L.sort()`\n",
    "* Internal representation should be private\n"
   ]
  },
  {
   "cell_type": "markdown",
   "id": "59276749",
   "metadata": {
    "slideshow": {
     "slide_type": "subslide"
    }
   },
   "source": [
    "## Other Potential Objects in Python\n",
    "\n",
    "* An entity of \"thing\" in your program\n",
    "\n",
    "| Example      | attributes/data/properties |behaviors/procedures/methods|\n",
    "| ----------- | ----------- |----------- |\n",
    "|  person    | name,    age, address  |walk, talk, breathe  |\n",
    "|  employee    | id, name, age, position, salary  |raise salary, promote|\n",
    "|door | height, color, locked|open, close, lock|\n",
    "|point | coordinates of the point | move to a different location, distance to another point |\n",
    "|polygon | coordinates of the points comprising the polygon, coordinate system| relationship with other polygons (overlap, contain)|"
   ]
  },
  {
   "cell_type": "markdown",
   "id": "2c0f288f",
   "metadata": {
    "slideshow": {
     "slide_type": "subslide"
    }
   },
   "source": [
    "### Car as a class in python\n",
    "\n",
    "<img src=\"pics/class.png\" width=500 />"
   ]
  },
  {
   "cell_type": "markdown",
   "id": "27064fe6",
   "metadata": {
    "slideshow": {
     "slide_type": "subslide"
    }
   },
   "source": [
    "### Advantages of OOP\n",
    " \n",
    "* bundle **data** into packages together with **procedures** that work on them through well-defined **interfaces** - **classes** and their **instances**\n",
    "* **divide-and-conquer** development\n",
    "     * implement and test behavior of each class separately\n",
    "     * increased modularity and reduces complexity\n",
    "* classes make it easy to **reuse** code\n",
    "    * each class has a separate environment (no collision on function names)\n",
    "    * inheritance allows subclasses to redefine or extend a selected subset of a superclass’ behavior\n",
    "    * many Python modules/packages define new classes"
   ]
  },
  {
   "cell_type": "markdown",
   "id": "5ca87188",
   "metadata": {
    "slideshow": {
     "slide_type": "slide"
    }
   },
   "source": [
    "## Classes and instances\n",
    "\n",
    "* We can create many instances/objects from a single class\n",
    "* Classes define a **type**\n",
    "* The process of creating an object from a class is called **instantiation**\n",
    "* An object is an instance of a class"
   ]
  },
  {
   "cell_type": "markdown",
   "id": "4b0fbb71",
   "metadata": {
    "slideshow": {
     "slide_type": "subslide"
    }
   },
   "source": [
    "### Example of `Door` class and its instances\n",
    "\n",
    "|     | properties |behaviors||\n",
    "| ----------- | ----------- |----------- |---- |\n",
    "|Door | height, color, is_locked|open(), close(), lock()| Class|\n",
    "|door1 | height:80, color:\"red\",is_locked:False | open(), close(), lock()|instance|\n",
    "|door2 | height:95, color:\"gray\",is_locked:True | open(), close(), lock()|instance|\n",
    "\n",
    "* Class: \n",
    "    * a blueprint for how something should be defined\n",
    "    * like a form or questionnaire\n",
    "    * doesn’t actually contain any data\n",
    "* Instance:\n",
    "    * an object that is built from a class \n",
    "    * like a form that has been filled out with information\n",
    "    * contains real data"
   ]
  },
  {
   "cell_type": "markdown",
   "id": "ba8b1e3e",
   "metadata": {
    "slideshow": {
     "slide_type": "subslide"
    }
   },
   "source": [
    "### Defining a type/Class in Python\n",
    "\n",
    "```python\n",
    "class Point:\n",
    "    pass #pass is often used as a placeholder indicating where code will eventually go\n",
    "\n",
    "```\n",
    "\n",
    "* Keyword `class`\n",
    "* Python class names are written in CapitalizedWords notation by convention (e.g., `MarkovChains`).\n",
    "* indentation"
   ]
  },
  {
   "cell_type": "code",
   "execution_count": 12,
   "id": "85915577",
   "metadata": {
    "slideshow": {
     "slide_type": "fragment"
    }
   },
   "outputs": [],
   "source": [
    "class Point:\n",
    "    pass"
   ]
  },
  {
   "cell_type": "code",
   "execution_count": 13,
   "id": "f03d7b48",
   "metadata": {
    "slideshow": {
     "slide_type": "fragment"
    }
   },
   "outputs": [
    {
     "name": "stdout",
     "output_type": "stream",
     "text": [
      "Help on class Point in module __main__:\n",
      "\n",
      "class Point(builtins.object)\n",
      " |  Data descriptors defined here:\n",
      " |  \n",
      " |  __dict__\n",
      " |      dictionary for instance variables (if defined)\n",
      " |  \n",
      " |  __weakref__\n",
      " |      list of weak references to the object (if defined)\n",
      "\n"
     ]
    }
   ],
   "source": [
    "help(Point)"
   ]
  },
  {
   "cell_type": "code",
   "execution_count": 14,
   "id": "17d97bdf",
   "metadata": {},
   "outputs": [
    {
     "data": {
      "text/plain": [
       "type"
      ]
     },
     "execution_count": 14,
     "metadata": {},
     "output_type": "execute_result"
    }
   ],
   "source": [
    "type(int)"
   ]
  },
  {
   "cell_type": "code",
   "execution_count": 15,
   "id": "b7c1623c",
   "metadata": {
    "slideshow": {
     "slide_type": "fragment"
    }
   },
   "outputs": [
    {
     "data": {
      "text/plain": [
       "type"
      ]
     },
     "execution_count": 15,
     "metadata": {},
     "output_type": "execute_result"
    }
   ],
   "source": [
    "type(Point)"
   ]
  },
  {
   "cell_type": "markdown",
   "id": "1c4cd8b4",
   "metadata": {
    "slideshow": {
     "slide_type": "subslide"
    }
   },
   "source": [
    "### Defining a Class in Python with attributes \n",
    "\n",
    "```python\n",
    "class Point:\n",
    "    def __init__(self, x, y):\n",
    "        self.x = x\n",
    "        self.y = y\n",
    "```\n",
    "\n",
    "* Two properties/attributes:\n",
    "    * `x`: x-coordinate\n",
    "    * `y`: y-coordinate\n",
    "* `self`: \n",
    "    * a special parameter living inside the class \n",
    "    * represents the instance of the class\n",
    "    * used to access the attributes and methods of the class: `self.coordinates`, `self.coordinate_system`\n",
    "* `__init__()`: \n",
    "    * constructor: a special method to create an instance \n",
    "    * When a new Polygon object is created, `__init__()` is called to set the initial state of the object by assigning the values of the object’s properties\n",
    "    * `.__init__()` initializes an instance of the `Point` class.\n",
    "    * accepts any number of parameters\n",
    "        * the first parameter will always be `self`, representing the new object/instance that is going to be created"
   ]
  },
  {
   "cell_type": "code",
   "execution_count": 16,
   "id": "5d1b48e7",
   "metadata": {
    "slideshow": {
     "slide_type": "fragment"
    }
   },
   "outputs": [],
   "source": [
    "class Point:\n",
    "    def __init__(self, x, y):\n",
    "        self.x = x\n",
    "        self.y = y"
   ]
  },
  {
   "cell_type": "code",
   "execution_count": 17,
   "id": "034a1d72",
   "metadata": {},
   "outputs": [],
   "source": [
    "point1 = Point(12, 2)"
   ]
  },
  {
   "cell_type": "code",
   "execution_count": 18,
   "id": "a965b737",
   "metadata": {},
   "outputs": [
    {
     "data": {
      "text/plain": [
       "12"
      ]
     },
     "execution_count": 18,
     "metadata": {},
     "output_type": "execute_result"
    }
   ],
   "source": [
    "point1.x"
   ]
  },
  {
   "cell_type": "code",
   "execution_count": 19,
   "id": "5f463e3f",
   "metadata": {},
   "outputs": [
    {
     "data": {
      "text/plain": [
       "2"
      ]
     },
     "execution_count": 19,
     "metadata": {},
     "output_type": "execute_result"
    }
   ],
   "source": [
    "point1.y"
   ]
  },
  {
   "cell_type": "code",
   "execution_count": 20,
   "id": "93a6a680",
   "metadata": {
    "slideshow": {
     "slide_type": "fragment"
    }
   },
   "outputs": [
    {
     "name": "stdout",
     "output_type": "stream",
     "text": [
      "Help on class Point in module __main__:\n",
      "\n",
      "class Point(builtins.object)\n",
      " |  Point(x, y)\n",
      " |  \n",
      " |  Methods defined here:\n",
      " |  \n",
      " |  __init__(self, x, y)\n",
      " |      Initialize self.  See help(type(self)) for accurate signature.\n",
      " |  \n",
      " |  ----------------------------------------------------------------------\n",
      " |  Data descriptors defined here:\n",
      " |  \n",
      " |  __dict__\n",
      " |      dictionary for instance variables (if defined)\n",
      " |  \n",
      " |  __weakref__\n",
      " |      list of weak references to the object (if defined)\n",
      "\n"
     ]
    }
   ],
   "source": [
    "help(Point)\n"
   ]
  },
  {
   "cell_type": "markdown",
   "id": "28ea518f",
   "metadata": {
    "slideshow": {
     "slide_type": "subslide"
    }
   },
   "source": [
    "### Defining a Class in Python with attributes and methods\n",
    "```python\n",
    "class Point:\n",
    "    def __init__(self, x, y):\n",
    "        self.x = x\n",
    "        self.y = y\n",
    "    \n",
    "    def translate(self, dx, dy):\n",
    "        '''\n",
    "        Translate the point dx units to the right and dy units up\n",
    "        '''\n",
    "        self.x = self.x + dx\n",
    "        self.y = self.y + dy\n",
    "        \n",
    "    \n",
    "```\n",
    "\n",
    "* Two attributes\n",
    "* One method in addition to the constructor method:\n",
    "    * One method `translate` for translating the point \n",
    "    * `self` is required as an argument in each of the class methods\n",
    "    * method is a function that works only with this class"
   ]
  },
  {
   "cell_type": "code",
   "execution_count": 21,
   "id": "6931f1b5",
   "metadata": {
    "slideshow": {
     "slide_type": "subslide"
    }
   },
   "outputs": [],
   "source": [
    "class Point:\n",
    "    def __init__(self, x, y):\n",
    "        self.x = x\n",
    "        self.y = y\n",
    "    \n",
    "    def translate(self, dx, dy):\n",
    "        '''\n",
    "        Translate the point dx units to the right and dy units up\n",
    "        '''\n",
    "        self.x = self.x + dx\n",
    "        self.y = self.y + dy"
   ]
  },
  {
   "cell_type": "code",
   "execution_count": 22,
   "id": "224ad114",
   "metadata": {},
   "outputs": [
    {
     "name": "stdout",
     "output_type": "stream",
     "text": [
      "Help on class Point in module __main__:\n",
      "\n",
      "class Point(builtins.object)\n",
      " |  Point(x, y)\n",
      " |  \n",
      " |  Methods defined here:\n",
      " |  \n",
      " |  __init__(self, x, y)\n",
      " |      Initialize self.  See help(type(self)) for accurate signature.\n",
      " |  \n",
      " |  translate(self, dx, dy)\n",
      " |      Translate the point dx units to the right and dy units up\n",
      " |  \n",
      " |  ----------------------------------------------------------------------\n",
      " |  Data descriptors defined here:\n",
      " |  \n",
      " |  __dict__\n",
      " |      dictionary for instance variables (if defined)\n",
      " |  \n",
      " |  __weakref__\n",
      " |      list of weak references to the object (if defined)\n",
      "\n"
     ]
    }
   ],
   "source": [
    "help(Point)"
   ]
  },
  {
   "cell_type": "markdown",
   "id": "e8f7405c",
   "metadata": {
    "slideshow": {
     "slide_type": "subslide"
    }
   },
   "source": [
    "### Creating an instance from a class \n",
    "\n",
    "```python\n",
    "class Point:\n",
    "    def __init__(self, x, y):\n",
    "        self.x = x\n",
    "        self.y = y\n",
    "    \n",
    "    def translate(self, dx, dy):\n",
    "        '''\n",
    "        Translate the point dx units to the right and dy units up\n",
    "        '''\n",
    "        self.x = self.x + dx\n",
    "        self.y = self.y + dy\n",
    "        \n",
    "p1 = Point(1,2)\n",
    "```\n",
    "\n",
    "\n",
    "* instantization\n",
    "* `class_name(arguments for the __int__ method)` \n",
    "* `Point(x, y)` \n",
    "    * `self` is ignored in instantization\n",
    "    * the rest of the method has the some syntax\n"
   ]
  },
  {
   "cell_type": "code",
   "execution_count": 23,
   "id": "950b542a",
   "metadata": {
    "slideshow": {
     "slide_type": "fragment"
    }
   },
   "outputs": [],
   "source": [
    "p1 = Point(1,2)"
   ]
  },
  {
   "cell_type": "code",
   "execution_count": 24,
   "id": "8ebaba7d",
   "metadata": {},
   "outputs": [
    {
     "data": {
      "text/plain": [
       "__main__.Point"
      ]
     },
     "execution_count": 24,
     "metadata": {},
     "output_type": "execute_result"
    }
   ],
   "source": [
    "type(p1)"
   ]
  },
  {
   "cell_type": "markdown",
   "id": "04664be4",
   "metadata": {
    "slideshow": {
     "slide_type": "subslide"
    }
   },
   "source": [
    "### Accessing attributes and reassigning attribute values\n",
    "\n",
    "```python\n",
    "class Point:\n",
    "    def __init__(self, x, y):\n",
    "        self.x = x\n",
    "        self.y = y\n",
    "    \n",
    "    def translate(self, dx, dy):\n",
    "        '''\n",
    "        Translate the point dx units to the right and dy units up\n",
    "        '''\n",
    "        self.x = self.x + dx\n",
    "        self.y = self.y + dy\n",
    "p1 = Point(1,2)\n",
    "print(p1.x)\n",
    "print(p1.y)\n",
    "```\n",
    "\n",
    "* `instance_name.`: dot operator\n",
    "* `p1.x`: accessing instance `p1`'s attribute `x`\n",
    "* `p1.x = 10`: change the value of instance `p1`'s attribute `x`\n"
   ]
  },
  {
   "cell_type": "code",
   "execution_count": 25,
   "id": "70e695eb",
   "metadata": {},
   "outputs": [],
   "source": [
    "p1 = Point(1,2)"
   ]
  },
  {
   "cell_type": "code",
   "execution_count": 26,
   "id": "ed1dcb84",
   "metadata": {},
   "outputs": [
    {
     "data": {
      "text/plain": [
       "1"
      ]
     },
     "execution_count": 26,
     "metadata": {},
     "output_type": "execute_result"
    }
   ],
   "source": [
    "p1.x"
   ]
  },
  {
   "cell_type": "code",
   "execution_count": 27,
   "id": "7407a4c0",
   "metadata": {},
   "outputs": [
    {
     "data": {
      "text/plain": [
       "2"
      ]
     },
     "execution_count": 27,
     "metadata": {},
     "output_type": "execute_result"
    }
   ],
   "source": [
    "p1.y"
   ]
  },
  {
   "cell_type": "code",
   "execution_count": 28,
   "id": "026ac7c2",
   "metadata": {},
   "outputs": [],
   "source": [
    "p1.x = 10 "
   ]
  },
  {
   "cell_type": "code",
   "execution_count": 29,
   "id": "17b88eb1",
   "metadata": {},
   "outputs": [
    {
     "data": {
      "text/plain": [
       "10"
      ]
     },
     "execution_count": 29,
     "metadata": {},
     "output_type": "execute_result"
    }
   ],
   "source": [
    "p1.x"
   ]
  },
  {
   "cell_type": "markdown",
   "id": "4dddb308",
   "metadata": {
    "slideshow": {
     "slide_type": "fragment"
    }
   },
   "source": [
    "class is mutuble, but write to data from outside class definition is not recommended - does not maintain data encapsulation\n",
    "\n",
    "read more on data encapsulation and ways to ensure that in python <https://python-course.eu/oop/properties-vs-getters-and-setters.php>"
   ]
  },
  {
   "cell_type": "code",
   "execution_count": 30,
   "id": "052a1394",
   "metadata": {},
   "outputs": [
    {
     "data": {
      "text/plain": [
       "2"
      ]
     },
     "execution_count": 30,
     "metadata": {},
     "output_type": "execute_result"
    }
   ],
   "source": [
    "p1.y"
   ]
  },
  {
   "cell_type": "markdown",
   "id": "6c27310a",
   "metadata": {
    "slideshow": {
     "slide_type": "subslide"
    }
   },
   "source": [
    "### Calling Methods\n",
    "\n",
    "```python\n",
    "class Point:\n",
    "    def __init__(self, x, y):\n",
    "        self.x = x\n",
    "        self.y = y\n",
    "    \n",
    "    def translate(self, dx, dy):\n",
    "        '''\n",
    "        Translate the point dx units to the right and dy units up\n",
    "        '''\n",
    "        self.x = self.x + dx\n",
    "        self.y = self.y + dy\n",
    "p1 = Point(1,2)\n",
    "```\n",
    "\n",
    "* one method `translate` in addition to the constructor method\n",
    "    * other than `self` and dot notation, methods behave just like functions (take params, do operations, return)\n",
    "\n",
    "Two ways of calling the method of an object:\n",
    "\n",
    "* `self` is implict: `object.method(parameters)`:\n",
    "    \n",
    "```python\n",
    "p1.translate(0.5, 0.5)\n",
    "```    \n",
    "* `self` is explict: `Class.method(object, parameters)`:\n",
    "```python\n",
    "Point.translate(p1, 0.5, 0.5)\n",
    "```"
   ]
  },
  {
   "cell_type": "code",
   "execution_count": 31,
   "id": "a07b3a99",
   "metadata": {},
   "outputs": [],
   "source": [
    "class Point:\n",
    "    def __init__(self, x, y):\n",
    "        self.x = x\n",
    "        self.y = y\n",
    "    \n",
    "    def translate(self, dx, dy):\n",
    "        '''\n",
    "        Translate the point dx units to the right and dy units up\n",
    "        '''\n",
    "        self.x = self.x + dx\n",
    "        self.y = self.y + dy"
   ]
  },
  {
   "cell_type": "code",
   "execution_count": 32,
   "id": "3e68b039",
   "metadata": {},
   "outputs": [],
   "source": [
    "p1 = Point(1,2)"
   ]
  },
  {
   "cell_type": "code",
   "execution_count": 33,
   "id": "4cb0e50f",
   "metadata": {},
   "outputs": [],
   "source": [
    "p1.translate(0.5, 0.5)"
   ]
  },
  {
   "cell_type": "code",
   "execution_count": 34,
   "id": "82dec0b5",
   "metadata": {},
   "outputs": [
    {
     "name": "stdout",
     "output_type": "stream",
     "text": [
      "1.5 2.5\n"
     ]
    }
   ],
   "source": [
    "print(p1.x, p1.y)"
   ]
  },
  {
   "cell_type": "code",
   "execution_count": 35,
   "id": "3b62a13e",
   "metadata": {},
   "outputs": [],
   "source": [
    "Point.translate(p1, 0.5, 0.5)"
   ]
  },
  {
   "cell_type": "code",
   "execution_count": 36,
   "id": "c94b7bfd",
   "metadata": {},
   "outputs": [
    {
     "name": "stdout",
     "output_type": "stream",
     "text": [
      "2.0 3.0\n"
     ]
    }
   ],
   "source": [
    "print(p1.x, p1.y)"
   ]
  },
  {
   "cell_type": "code",
   "execution_count": 37,
   "id": "a46c6887",
   "metadata": {},
   "outputs": [
    {
     "data": {
      "text/plain": [
       "3"
      ]
     },
     "execution_count": 37,
     "metadata": {},
     "output_type": "execute_result"
    }
   ],
   "source": [
    "a = [1,2,3]\n",
    "a.pop()"
   ]
  },
  {
   "cell_type": "code",
   "execution_count": 38,
   "id": "34d37071",
   "metadata": {},
   "outputs": [
    {
     "data": {
      "text/plain": [
       "3"
      ]
     },
     "execution_count": 38,
     "metadata": {},
     "output_type": "execute_result"
    }
   ],
   "source": [
    "a = [1,2,3]\n",
    "list.pop(a)"
   ]
  },
  {
   "cell_type": "code",
   "execution_count": 39,
   "id": "c6950314",
   "metadata": {},
   "outputs": [
    {
     "data": {
      "text/plain": [
       "1"
      ]
     },
     "execution_count": 39,
     "metadata": {},
     "output_type": "execute_result"
    }
   ],
   "source": [
    "a = [1,2,3]\n",
    "a.pop(0)"
   ]
  },
  {
   "cell_type": "code",
   "execution_count": 40,
   "id": "3c7460cc",
   "metadata": {},
   "outputs": [
    {
     "data": {
      "text/plain": [
       "1"
      ]
     },
     "execution_count": 40,
     "metadata": {},
     "output_type": "execute_result"
    }
   ],
   "source": [
    "a = [1,2,3]\n",
    "list.pop(a, 0)"
   ]
  },
  {
   "cell_type": "markdown",
   "id": "1aff05c3",
   "metadata": {},
   "source": [
    "#### Exercise:\n",
    "\n",
    "```python\n",
    "class Point:\n",
    "    def __init__(self, x, y):\n",
    "        self.x = x\n",
    "        self.y = y\n",
    "    \n",
    "    def translate(self, dx, dy):\n",
    "        '''\n",
    "        Translate the point dx units to the right and dy units up\n",
    "        '''\n",
    "        self.x = self.x + dx\n",
    "        self.y = self.y + dy\n",
    "```\n",
    "\n",
    "Add another method `distance` to class `Point` which calcuates and returns the distance from the point to the origin `(0,0)`. (hint: distance = $\\sqrt{(x-0)^2+(y-0)^2}$\n",
    "\n",
    "> Raise your hand when you are done"
   ]
  },
  {
   "cell_type": "code",
   "execution_count": 41,
   "id": "0dc89c41-7177-4220-8d06-8377b333c40e",
   "metadata": {},
   "outputs": [],
   "source": [
    "class Point:\n",
    "    def __init__(self, x, y):\n",
    "        self.x = x\n",
    "        self.y = y\n",
    "    \n",
    "    def translate(self, dx, dy):\n",
    "        '''\n",
    "        Translate the point dx units to the right and dy units up\n",
    "        '''\n",
    "        self.x = self.x + dx\n",
    "        self.y = self.y + dy\n",
    "    def distance(self):\n",
    "        d = (self.x**2 + self.y **2)**0.5\n",
    "        return d"
   ]
  },
  {
   "cell_type": "code",
   "execution_count": 42,
   "id": "a7320d67-66c9-44e3-8939-976564d52e98",
   "metadata": {},
   "outputs": [],
   "source": [
    "p2 = Point(3, 4)"
   ]
  },
  {
   "cell_type": "code",
   "execution_count": 43,
   "id": "b7498f23-5f58-49d3-99b5-db19b6c52b55",
   "metadata": {},
   "outputs": [
    {
     "data": {
      "text/plain": [
       "5.0"
      ]
     },
     "execution_count": 43,
     "metadata": {},
     "output_type": "execute_result"
    }
   ],
   "source": [
    "p2.distance()"
   ]
  },
  {
   "cell_type": "markdown",
   "id": "38ca64e2",
   "metadata": {
    "slideshow": {
     "slide_type": "subslide"
    }
   },
   "source": [
    "#### Exercise:\n",
    "\n",
    "```python\n",
    "class Point:\n",
    "    def __init__(self, x, y):\n",
    "        self.x = x\n",
    "        self.y = y\n",
    "```\n",
    "How would we make it possible to construct a Point with no parameters/arguments (users do not need to provide any inputs) to get `3,4` as coordinates?"
   ]
  },
  {
   "cell_type": "code",
   "execution_count": 44,
   "id": "52469d0d",
   "metadata": {},
   "outputs": [],
   "source": [
    "class Point:\n",
    "    def __init__(self, x=3, y=4):\n",
    "        self.x = x\n",
    "        self.y = y"
   ]
  },
  {
   "cell_type": "code",
   "execution_count": 45,
   "id": "808a481f",
   "metadata": {},
   "outputs": [],
   "source": [
    "p2 = Point()"
   ]
  },
  {
   "cell_type": "code",
   "execution_count": 46,
   "id": "74a7b5ad",
   "metadata": {},
   "outputs": [
    {
     "name": "stdout",
     "output_type": "stream",
     "text": [
      "3 4\n"
     ]
    }
   ],
   "source": [
    "print(p2.x, p2.y)"
   ]
  },
  {
   "cell_type": "code",
   "execution_count": 47,
   "id": "0f0cb43c",
   "metadata": {},
   "outputs": [],
   "source": [
    "p3 = Point(1,2)"
   ]
  },
  {
   "cell_type": "code",
   "execution_count": 48,
   "id": "af272012",
   "metadata": {},
   "outputs": [
    {
     "name": "stdout",
     "output_type": "stream",
     "text": [
      "1 2\n"
     ]
    }
   ],
   "source": [
    "print(p3.x, p3.y)"
   ]
  },
  {
   "cell_type": "code",
   "execution_count": 49,
   "id": "123a1471",
   "metadata": {},
   "outputs": [],
   "source": [
    "p4 = Point(y=1,x=2)"
   ]
  },
  {
   "cell_type": "code",
   "execution_count": 50,
   "id": "2c94c3b4",
   "metadata": {},
   "outputs": [
    {
     "name": "stdout",
     "output_type": "stream",
     "text": [
      "2 1\n"
     ]
    }
   ],
   "source": [
    "print(p4.x, p4.y)"
   ]
  },
  {
   "cell_type": "code",
   "execution_count": null,
   "id": "a70d4271",
   "metadata": {},
   "outputs": [],
   "source": []
  }
 ],
 "metadata": {
  "celltoolbar": "Slideshow",
  "kernelspec": {
   "display_name": "Python 3 (ipykernel)",
   "language": "python",
   "name": "python3"
  },
  "language_info": {
   "codemirror_mode": {
    "name": "ipython",
    "version": 3
   },
   "file_extension": ".py",
   "mimetype": "text/x-python",
   "name": "python",
   "nbconvert_exporter": "python",
   "pygments_lexer": "ipython3",
   "version": "3.11.5"
  }
 },
 "nbformat": 4,
 "nbformat_minor": 5
}
